{
 "cells": [
  {
   "cell_type": "code",
   "execution_count": 1,
   "id": "0dcef090-3e54-4cc8-819d-acb85e9b7478",
   "metadata": {},
   "outputs": [],
   "source": [
    "import numpy as np"
   ]
  },
  {
   "cell_type": "markdown",
   "id": "d35b8623-7a16-43e6-8820-a5992db6ecff",
   "metadata": {},
   "source": [
    "1. Arrays, size, shape\n",
    "1. Estadística de arreglos\n",
    "1. Slicing y fancy indexing\n",
    "1. Creación de mallas"
   ]
  },
  {
   "cell_type": "markdown",
   "id": "2d403395-d61c-4e20-96d2-0cc4b1e4d739",
   "metadata": {},
   "source": [
    "# Numpy\n",
    "Numpy (Numerical Python) se describe como la paquetería fundamental para el cómputo científico en Python. Ademas de ofrecer diversas herramientas para el cálculo numérico, numpy se especializa en arreglo de n-dimensiones."
   ]
  },
  {
   "cell_type": "markdown",
   "id": "a66671ed-d1a5-43e7-b12e-6db0bc9d25f9",
   "metadata": {},
   "source": [
    "## 1. Un nuevo objeto\n",
    "El elemento básico de Numpy es el _array_."
   ]
  },
  {
   "cell_type": "code",
   "execution_count": 2,
   "id": "f323e807-be42-4f4c-89da-9cc93ccf4844",
   "metadata": {},
   "outputs": [
    {
     "data": {
      "text/plain": [
       "list"
      ]
     },
     "execution_count": 2,
     "metadata": {},
     "output_type": "execute_result"
    }
   ],
   "source": [
    "lista = [1,2,3,4,5]\n",
    "type(lista)"
   ]
  },
  {
   "cell_type": "code",
   "execution_count": 3,
   "id": "e8f6d334-d2a6-44d4-8bdf-8acf6e3f267d",
   "metadata": {},
   "outputs": [
    {
     "data": {
      "text/plain": [
       "numpy.ndarray"
      ]
     },
     "execution_count": 3,
     "metadata": {},
     "output_type": "execute_result"
    }
   ],
   "source": [
    "arr = np.array([1,2,3,4])\n",
    "type(arr)"
   ]
  },
  {
   "cell_type": "markdown",
   "id": "b872b41d-d61f-4f8c-9f64-cc67654ee4c2",
   "metadata": {},
   "source": [
    "### 1.1  Atributos básicos del array\n",
    "- shape: una tupla que contiene el número de elementos (o longitud) para cada dimensión (axis) del array\n",
    "- size: el número total de elementos en el array\n",
    "- ndim: el número de dimensiones (axes)"
   ]
  },
  {
   "cell_type": "code",
   "execution_count": 4,
   "id": "aa468a6a-5ea3-4f08-9e5a-5c69299b8d8f",
   "metadata": {},
   "outputs": [],
   "source": [
    "arr = np.array([[1,2,3],\n",
    "                [4,5,6]])"
   ]
  },
  {
   "cell_type": "code",
   "execution_count": 5,
   "id": "c1aa9442-fe7b-4391-ae9a-6b35d5722089",
   "metadata": {},
   "outputs": [
    {
     "data": {
      "text/plain": [
       "(2, 3)"
      ]
     },
     "execution_count": 5,
     "metadata": {},
     "output_type": "execute_result"
    }
   ],
   "source": [
    "arr.shape"
   ]
  },
  {
   "cell_type": "code",
   "execution_count": 6,
   "id": "34ce62b4-7dcf-4051-b1d2-795b82be723b",
   "metadata": {},
   "outputs": [
    {
     "data": {
      "text/plain": [
       "6"
      ]
     },
     "execution_count": 6,
     "metadata": {},
     "output_type": "execute_result"
    }
   ],
   "source": [
    "arr.size"
   ]
  },
  {
   "cell_type": "code",
   "execution_count": 7,
   "id": "d2562d18-33a8-43cb-a533-db80356a7e0e",
   "metadata": {},
   "outputs": [
    {
     "data": {
      "text/plain": [
       "2"
      ]
     },
     "execution_count": 7,
     "metadata": {},
     "output_type": "execute_result"
    }
   ],
   "source": [
    "arr.ndim"
   ]
  },
  {
   "cell_type": "markdown",
   "id": "ab14fb7c-96fb-40cc-84c7-722c40f094ea",
   "metadata": {},
   "source": [
    "Una característica del array es que la forma debe ser \"rectangular\", es decir, cada fila debe tener el mísmo número de columnas"
   ]
  },
  {
   "cell_type": "code",
   "execution_count": 8,
   "id": "92a16e59-4d9e-4edc-a92e-d35a9ea6a8f4",
   "metadata": {},
   "outputs": [
    {
     "ename": "ValueError",
     "evalue": "setting an array element with a sequence. The requested array has an inhomogeneous shape after 1 dimensions. The detected shape was (2,) + inhomogeneous part.",
     "output_type": "error",
     "traceback": [
      "\u001b[1;31m---------------------------------------------------------------------------\u001b[0m",
      "\u001b[1;31mValueError\u001b[0m                                Traceback (most recent call last)",
      "Cell \u001b[1;32mIn[8], line 1\u001b[0m\n\u001b[1;32m----> 1\u001b[0m arr \u001b[38;5;241m=\u001b[39m \u001b[43mnp\u001b[49m\u001b[38;5;241;43m.\u001b[39;49m\u001b[43marray\u001b[49m\u001b[43m(\u001b[49m\u001b[43m[\u001b[49m\u001b[43m[\u001b[49m\u001b[38;5;241;43m1\u001b[39;49m\u001b[43m,\u001b[49m\u001b[38;5;241;43m2\u001b[39;49m\u001b[43m,\u001b[49m\u001b[38;5;241;43m3\u001b[39;49m\u001b[43m]\u001b[49m\u001b[43m,\u001b[49m\n\u001b[0;32m      2\u001b[0m \u001b[43m                \u001b[49m\u001b[43m[\u001b[49m\u001b[38;5;241;43m4\u001b[39;49m\u001b[43m,\u001b[49m\u001b[38;5;241;43m5\u001b[39;49m\u001b[43m]\u001b[49m\u001b[43m]\u001b[49m\u001b[43m)\u001b[49m\n",
      "\u001b[1;31mValueError\u001b[0m: setting an array element with a sequence. The requested array has an inhomogeneous shape after 1 dimensions. The detected shape was (2,) + inhomogeneous part."
     ]
    }
   ],
   "source": [
    "arr = np.array([[1,2,3],\n",
    "                [4,5]])"
   ]
  },
  {
   "cell_type": "markdown",
   "id": "a5fac759-86e8-4cce-8c6e-215a84c11361",
   "metadata": {},
   "source": [
    "### 2. Formas de crear arrays\n",
    "Podemos convertir elementos como listas o tuplas a arrays o utilizar las funciones de numpy para crearlas"
   ]
  },
  {
   "cell_type": "code",
   "execution_count": 9,
   "id": "c9cdb92e-db1c-4d2e-bc86-d2f4eecc7669",
   "metadata": {},
   "outputs": [
    {
     "data": {
      "text/plain": [
       "array([0., 0.])"
      ]
     },
     "execution_count": 9,
     "metadata": {},
     "output_type": "execute_result"
    }
   ],
   "source": [
    "np.zeros(2)"
   ]
  },
  {
   "cell_type": "code",
   "execution_count": 10,
   "id": "993efdff-0d68-4dbc-857f-f4702dfea8eb",
   "metadata": {},
   "outputs": [
    {
     "data": {
      "text/plain": [
       "array([[0., 0., 0.],\n",
       "       [0., 0., 0.]])"
      ]
     },
     "execution_count": 10,
     "metadata": {},
     "output_type": "execute_result"
    }
   ],
   "source": [
    "np.zeros((2,3))"
   ]
  },
  {
   "cell_type": "code",
   "execution_count": 11,
   "id": "77806a7d-5314-4bf4-9b4e-b0fde8932e2e",
   "metadata": {},
   "outputs": [
    {
     "data": {
      "text/plain": [
       "array([[[0., 0., 0., 0.],\n",
       "        [0., 0., 0., 0.],\n",
       "        [0., 0., 0., 0.]],\n",
       "\n",
       "       [[0., 0., 0., 0.],\n",
       "        [0., 0., 0., 0.],\n",
       "        [0., 0., 0., 0.]]])"
      ]
     },
     "execution_count": 11,
     "metadata": {},
     "output_type": "execute_result"
    }
   ],
   "source": [
    "np.zeros((2,3,4))"
   ]
  },
  {
   "cell_type": "code",
   "execution_count": 12,
   "id": "c8720d93-0d18-4701-b849-74e06bda0807",
   "metadata": {},
   "outputs": [
    {
     "data": {
      "text/plain": [
       "array([[1., 1., 1., 1.],\n",
       "       [1., 1., 1., 1.],\n",
       "       [1., 1., 1., 1.]])"
      ]
     },
     "execution_count": 12,
     "metadata": {},
     "output_type": "execute_result"
    }
   ],
   "source": [
    "np.ones((3,4))"
   ]
  },
  {
   "cell_type": "code",
   "execution_count": 13,
   "id": "3d2c1a1f-1e14-4227-ad64-feb06935c818",
   "metadata": {},
   "outputs": [
    {
     "data": {
      "text/plain": [
       "array([[2, 0, 0],\n",
       "       [0, 3, 0],\n",
       "       [0, 0, 4]])"
      ]
     },
     "execution_count": 13,
     "metadata": {},
     "output_type": "execute_result"
    }
   ],
   "source": [
    "np.diag([2,3,4])"
   ]
  },
  {
   "cell_type": "markdown",
   "id": "643232a8-c962-41f9-8a00-f15792fff00e",
   "metadata": {},
   "source": [
    "Para crear arreglos con un incremento dado utilizamos **np.arange()**"
   ]
  },
  {
   "cell_type": "code",
   "execution_count": 14,
   "id": "eeaa25cc-e9cd-4af3-80b2-2a7205c3ae7a",
   "metadata": {},
   "outputs": [
    {
     "data": {
      "text/plain": [
       "array([0, 1, 2, 3])"
      ]
     },
     "execution_count": 14,
     "metadata": {},
     "output_type": "execute_result"
    }
   ],
   "source": [
    "np.arange(4)"
   ]
  },
  {
   "cell_type": "code",
   "execution_count": 15,
   "id": "163ba853-c0c7-4ae3-a93c-d114cc610da4",
   "metadata": {},
   "outputs": [
    {
     "data": {
      "text/plain": [
       "array([3, 4, 5, 6, 7, 8, 9])"
      ]
     },
     "execution_count": 15,
     "metadata": {},
     "output_type": "execute_result"
    }
   ],
   "source": [
    "np.arange(3,10)"
   ]
  },
  {
   "cell_type": "code",
   "execution_count": 16,
   "id": "dc9a3da6-7f38-4949-a2f0-11bcd2ee0562",
   "metadata": {},
   "outputs": [
    {
     "data": {
      "text/plain": [
       "array([ 4,  6,  8, 10])"
      ]
     },
     "execution_count": 16,
     "metadata": {},
     "output_type": "execute_result"
    }
   ],
   "source": [
    "np.arange(4,12,2)"
   ]
  },
  {
   "cell_type": "code",
   "execution_count": 17,
   "id": "5ea671f0-e115-4a43-98e9-7ecfa97efda2",
   "metadata": {},
   "outputs": [
    {
     "data": {
      "text/plain": [
       "array([ 4. ,  4.2,  4.4,  4.6,  4.8,  5. ,  5.2,  5.4,  5.6,  5.8,  6. ,\n",
       "        6.2,  6.4,  6.6,  6.8,  7. ,  7.2,  7.4,  7.6,  7.8,  8. ,  8.2,\n",
       "        8.4,  8.6,  8.8,  9. ,  9.2,  9.4,  9.6,  9.8, 10. , 10.2, 10.4,\n",
       "       10.6, 10.8, 11. , 11.2, 11.4, 11.6, 11.8])"
      ]
     },
     "execution_count": 17,
     "metadata": {},
     "output_type": "execute_result"
    }
   ],
   "source": [
    "np.arange(4,12,0.2)"
   ]
  },
  {
   "cell_type": "markdown",
   "id": "9bd5151b-0afa-4f59-a1e9-5073cb2ff75c",
   "metadata": {},
   "source": [
    "Para crear arreglos con un número específico de elementos utilizamos **np.linspace()**. Por default el número de elementos son 50"
   ]
  },
  {
   "cell_type": "code",
   "execution_count": 18,
   "id": "d428b708-43cd-41b8-b5b1-086fdfa7d9d9",
   "metadata": {},
   "outputs": [
    {
     "ename": "TypeError",
     "evalue": "linspace() missing 1 required positional argument: 'stop'",
     "output_type": "error",
     "traceback": [
      "\u001b[1;31m---------------------------------------------------------------------------\u001b[0m",
      "\u001b[1;31mTypeError\u001b[0m                                 Traceback (most recent call last)",
      "Cell \u001b[1;32mIn[18], line 1\u001b[0m\n\u001b[1;32m----> 1\u001b[0m \u001b[43mnp\u001b[49m\u001b[38;5;241;43m.\u001b[39;49m\u001b[43mlinspace\u001b[49m\u001b[43m(\u001b[49m\u001b[38;5;241;43m10\u001b[39;49m\u001b[43m)\u001b[49m\n",
      "\u001b[1;31mTypeError\u001b[0m: linspace() missing 1 required positional argument: 'stop'"
     ]
    }
   ],
   "source": [
    "np.linspace(10)"
   ]
  },
  {
   "cell_type": "code",
   "execution_count": 19,
   "id": "d4d3efeb-806d-4e9c-acb5-36357345b37f",
   "metadata": {},
   "outputs": [
    {
     "data": {
      "text/plain": [
       "array([ 3.        ,  3.14285714,  3.28571429,  3.42857143,  3.57142857,\n",
       "        3.71428571,  3.85714286,  4.        ,  4.14285714,  4.28571429,\n",
       "        4.42857143,  4.57142857,  4.71428571,  4.85714286,  5.        ,\n",
       "        5.14285714,  5.28571429,  5.42857143,  5.57142857,  5.71428571,\n",
       "        5.85714286,  6.        ,  6.14285714,  6.28571429,  6.42857143,\n",
       "        6.57142857,  6.71428571,  6.85714286,  7.        ,  7.14285714,\n",
       "        7.28571429,  7.42857143,  7.57142857,  7.71428571,  7.85714286,\n",
       "        8.        ,  8.14285714,  8.28571429,  8.42857143,  8.57142857,\n",
       "        8.71428571,  8.85714286,  9.        ,  9.14285714,  9.28571429,\n",
       "        9.42857143,  9.57142857,  9.71428571,  9.85714286, 10.        ])"
      ]
     },
     "execution_count": 19,
     "metadata": {},
     "output_type": "execute_result"
    }
   ],
   "source": [
    "np.linspace(3,10)"
   ]
  },
  {
   "cell_type": "code",
   "execution_count": 20,
   "id": "675d7c36-db8d-4836-9d88-3b502dd9d4c8",
   "metadata": {},
   "outputs": [
    {
     "data": {
      "text/plain": [
       "(50,)"
      ]
     },
     "execution_count": 20,
     "metadata": {},
     "output_type": "execute_result"
    }
   ],
   "source": [
    "np.linspace(3,10).shape"
   ]
  },
  {
   "cell_type": "code",
   "execution_count": 21,
   "id": "fd252d59-6d77-4b1a-980f-69f2ec4c2398",
   "metadata": {},
   "outputs": [
    {
     "data": {
      "text/plain": [
       "array([ 4.,  7., 10.])"
      ]
     },
     "execution_count": 21,
     "metadata": {},
     "output_type": "execute_result"
    }
   ],
   "source": [
    "np.linspace(4,10,3)"
   ]
  },
  {
   "cell_type": "code",
   "execution_count": 22,
   "id": "abb8bc68-c586-413d-8e29-028ab42db2c1",
   "metadata": {},
   "outputs": [
    {
     "data": {
      "text/plain": [
       "array([  4.        ,   4.6442953 ,   5.2885906 ,   5.93288591,\n",
       "         6.57718121,   7.22147651,   7.86577181,   8.51006711,\n",
       "         9.15436242,   9.79865772,  10.44295302,  11.08724832,\n",
       "        11.73154362,  12.37583893,  13.02013423,  13.66442953,\n",
       "        14.30872483,  14.95302013,  15.59731544,  16.24161074,\n",
       "        16.88590604,  17.53020134,  18.17449664,  18.81879195,\n",
       "        19.46308725,  20.10738255,  20.75167785,  21.39597315,\n",
       "        22.04026846,  22.68456376,  23.32885906,  23.97315436,\n",
       "        24.61744966,  25.26174497,  25.90604027,  26.55033557,\n",
       "        27.19463087,  27.83892617,  28.48322148,  29.12751678,\n",
       "        29.77181208,  30.41610738,  31.06040268,  31.70469799,\n",
       "        32.34899329,  32.99328859,  33.63758389,  34.28187919,\n",
       "        34.9261745 ,  35.5704698 ,  36.2147651 ,  36.8590604 ,\n",
       "        37.5033557 ,  38.14765101,  38.79194631,  39.43624161,\n",
       "        40.08053691,  40.72483221,  41.36912752,  42.01342282,\n",
       "        42.65771812,  43.30201342,  43.94630872,  44.59060403,\n",
       "        45.23489933,  45.87919463,  46.52348993,  47.16778523,\n",
       "        47.81208054,  48.45637584,  49.10067114,  49.74496644,\n",
       "        50.38926174,  51.03355705,  51.67785235,  52.32214765,\n",
       "        52.96644295,  53.61073826,  54.25503356,  54.89932886,\n",
       "        55.54362416,  56.18791946,  56.83221477,  57.47651007,\n",
       "        58.12080537,  58.76510067,  59.40939597,  60.05369128,\n",
       "        60.69798658,  61.34228188,  61.98657718,  62.63087248,\n",
       "        63.27516779,  63.91946309,  64.56375839,  65.20805369,\n",
       "        65.85234899,  66.4966443 ,  67.1409396 ,  67.7852349 ,\n",
       "        68.4295302 ,  69.0738255 ,  69.71812081,  70.36241611,\n",
       "        71.00671141,  71.65100671,  72.29530201,  72.93959732,\n",
       "        73.58389262,  74.22818792,  74.87248322,  75.51677852,\n",
       "        76.16107383,  76.80536913,  77.44966443,  78.09395973,\n",
       "        78.73825503,  79.38255034,  80.02684564,  80.67114094,\n",
       "        81.31543624,  81.95973154,  82.60402685,  83.24832215,\n",
       "        83.89261745,  84.53691275,  85.18120805,  85.82550336,\n",
       "        86.46979866,  87.11409396,  87.75838926,  88.40268456,\n",
       "        89.04697987,  89.69127517,  90.33557047,  90.97986577,\n",
       "        91.62416107,  92.26845638,  92.91275168,  93.55704698,\n",
       "        94.20134228,  94.84563758,  95.48993289,  96.13422819,\n",
       "        96.77852349,  97.42281879,  98.06711409,  98.7114094 ,\n",
       "        99.3557047 , 100.        ])"
      ]
     },
     "execution_count": 22,
     "metadata": {},
     "output_type": "execute_result"
    }
   ],
   "source": [
    "np.linspace(4,100,150)"
   ]
  },
  {
   "cell_type": "markdown",
   "id": "2c6e3071-7962-443e-9e0b-b2d3e7500191",
   "metadata": {},
   "source": [
    "¿Cómo crear matrices de diferentes tamaño?"
   ]
  },
  {
   "cell_type": "code",
   "execution_count": 28,
   "id": "100e893f-51ae-4926-a522-085d9ab63186",
   "metadata": {},
   "outputs": [],
   "source": [
    "arr = np.arange(1,21)"
   ]
  },
  {
   "cell_type": "code",
   "execution_count": 29,
   "id": "4ea0e117-fc9b-44af-8b3e-b43d8d025775",
   "metadata": {},
   "outputs": [
    {
     "data": {
      "text/plain": [
       "(20,)"
      ]
     },
     "execution_count": 29,
     "metadata": {},
     "output_type": "execute_result"
    }
   ],
   "source": [
    "arr.shape"
   ]
  },
  {
   "cell_type": "code",
   "execution_count": 31,
   "id": "be99969c-1025-4c2f-97e9-159905308fa3",
   "metadata": {},
   "outputs": [],
   "source": [
    "arr.reshape(4,5)"
   ]
  },
  {
   "cell_type": "code",
   "execution_count": 34,
   "id": "3e7aceb2-cc1b-4f69-bc6e-fc08da911fee",
   "metadata": {},
   "outputs": [
    {
     "data": {
      "text/plain": [
       "array([[[ 1,  2,  3,  4,  5],\n",
       "        [ 6,  7,  8,  9, 10]],\n",
       "\n",
       "       [[11, 12, 13, 14, 15],\n",
       "        [16, 17, 18, 19, 20]]])"
      ]
     },
     "execution_count": 34,
     "metadata": {},
     "output_type": "execute_result"
    }
   ],
   "source": [
    "arr.reshape(2,2,5)"
   ]
  },
  {
   "cell_type": "code",
   "execution_count": 35,
   "id": "b8677873-b397-4cfb-a3c9-5f6b6b40b42a",
   "metadata": {},
   "outputs": [
    {
     "data": {
      "text/plain": [
       "array([[[ 0,  1,  2,  3,  4],\n",
       "        [ 5,  6,  7,  8,  9]],\n",
       "\n",
       "       [[10, 11, 12, 13, 14],\n",
       "        [15, 16, 17, 18, 19]]])"
      ]
     },
     "execution_count": 35,
     "metadata": {},
     "output_type": "execute_result"
    }
   ],
   "source": [
    "np.arange(20).reshape(2,2,5)"
   ]
  },
  {
   "cell_type": "markdown",
   "id": "e78c6de6-f570-4562-b250-8c00574de050",
   "metadata": {},
   "source": [
    "### 3. Indexing y slicing"
   ]
  },
  {
   "cell_type": "code",
   "execution_count": 37,
   "id": "8b5ca5a1-9fed-41a5-8afe-56e188e43b38",
   "metadata": {},
   "outputs": [
    {
     "data": {
      "text/plain": [
       "array([  0,  10,  20,  30,  40,  50,  60,  70,  80,  90, 100])"
      ]
     },
     "execution_count": 37,
     "metadata": {},
     "output_type": "execute_result"
    }
   ],
   "source": [
    "arr_1d = np.arange(0,101,10)\n",
    "arr_1d"
   ]
  },
  {
   "cell_type": "code",
   "execution_count": 38,
   "id": "8910ae11-e1e4-48b2-a009-35af8b1dc296",
   "metadata": {},
   "outputs": [
    {
     "data": {
      "text/plain": [
       "30"
      ]
     },
     "execution_count": 38,
     "metadata": {},
     "output_type": "execute_result"
    }
   ],
   "source": [
    "arr_1d[3]"
   ]
  },
  {
   "cell_type": "code",
   "execution_count": 39,
   "id": "9527282b-51ad-4794-b8bd-edbc0b9f07fb",
   "metadata": {},
   "outputs": [
    {
     "data": {
      "text/plain": [
       "100"
      ]
     },
     "execution_count": 39,
     "metadata": {},
     "output_type": "execute_result"
    }
   ],
   "source": [
    "arr_1d[-1]"
   ]
  },
  {
   "cell_type": "code",
   "execution_count": 40,
   "id": "ce7acd0e-6acb-4745-bae1-94480e07d1b4",
   "metadata": {},
   "outputs": [
    {
     "data": {
      "text/plain": [
       "80"
      ]
     },
     "execution_count": 40,
     "metadata": {},
     "output_type": "execute_result"
    }
   ],
   "source": [
    "arr_1d[-3]"
   ]
  },
  {
   "cell_type": "code",
   "execution_count": 41,
   "id": "18b211ae-c975-4f5b-8382-174e542343a7",
   "metadata": {},
   "outputs": [
    {
     "data": {
      "text/plain": [
       "array([ 0, 10, 20, 30, 40])"
      ]
     },
     "execution_count": 41,
     "metadata": {},
     "output_type": "execute_result"
    }
   ],
   "source": [
    "arr_1d[:5]"
   ]
  },
  {
   "cell_type": "code",
   "execution_count": 42,
   "id": "d6718172-a0a8-4296-837c-3a6036577a6f",
   "metadata": {},
   "outputs": [
    {
     "data": {
      "text/plain": [
       "array([20, 30, 40])"
      ]
     },
     "execution_count": 42,
     "metadata": {},
     "output_type": "execute_result"
    }
   ],
   "source": [
    "arr_1d[2:5]"
   ]
  },
  {
   "cell_type": "code",
   "execution_count": 44,
   "id": "3f013fea-336f-4e01-8070-fd7cdabbd38c",
   "metadata": {},
   "outputs": [
    {
     "data": {
      "text/plain": [
       "array([ 0, 20, 40, 60, 80])"
      ]
     },
     "execution_count": 44,
     "metadata": {},
     "output_type": "execute_result"
    }
   ],
   "source": [
    "arr_1d[0:10:2]"
   ]
  },
  {
   "cell_type": "code",
   "execution_count": 45,
   "id": "65711855-7c7d-4611-8d75-6a0acecba35c",
   "metadata": {},
   "outputs": [
    {
     "data": {
      "text/plain": [
       "array([  0,  20,  40,  60,  80, 100])"
      ]
     },
     "execution_count": 45,
     "metadata": {},
     "output_type": "execute_result"
    }
   ],
   "source": [
    "arr_1d[::2]"
   ]
  },
  {
   "cell_type": "code",
   "execution_count": 46,
   "id": "df1bf972-86ca-4e24-8002-e73d66ce41ef",
   "metadata": {},
   "outputs": [
    {
     "data": {
      "text/plain": [
       "array([100,  80,  60,  40,  20,   0])"
      ]
     },
     "execution_count": 46,
     "metadata": {},
     "output_type": "execute_result"
    }
   ],
   "source": [
    "arr_1d[::-2]"
   ]
  },
  {
   "cell_type": "code",
   "execution_count": 48,
   "id": "90b3a0f9-38a6-4e1a-8747-57f6e2f4de4d",
   "metadata": {},
   "outputs": [
    {
     "data": {
      "text/plain": [
       "array([], dtype=int32)"
      ]
     },
     "execution_count": 48,
     "metadata": {},
     "output_type": "execute_result"
    }
   ],
   "source": [
    "arr_1d[-4:-1:-1]"
   ]
  },
  {
   "cell_type": "code",
   "execution_count": 50,
   "id": "0c300031-35ab-4e6d-b9cd-12cda909b83a",
   "metadata": {},
   "outputs": [
    {
     "data": {
      "text/plain": [
       "array([[ 0,  1,  2,  3],\n",
       "       [ 4,  5,  6,  7],\n",
       "       [ 8,  9, 10, 11]])"
      ]
     },
     "execution_count": 50,
     "metadata": {},
     "output_type": "execute_result"
    }
   ],
   "source": [
    "arr_2d = np.arange(12).reshape(3, 4)\n",
    "arr_2d"
   ]
  },
  {
   "cell_type": "code",
   "execution_count": 55,
   "id": "a6ac181b-5d4d-4664-a80b-0f1c7387b950",
   "metadata": {},
   "outputs": [
    {
     "data": {
      "text/plain": [
       "(3, 4)"
      ]
     },
     "execution_count": 55,
     "metadata": {},
     "output_type": "execute_result"
    }
   ],
   "source": [
    "arr_2d.shape"
   ]
  },
  {
   "cell_type": "code",
   "execution_count": 56,
   "id": "cc1cfc14-bad5-4a5f-8a6a-cea8acd604c8",
   "metadata": {},
   "outputs": [
    {
     "data": {
      "text/plain": [
       "2"
      ]
     },
     "execution_count": 56,
     "metadata": {},
     "output_type": "execute_result"
    }
   ],
   "source": [
    "arr_2d[0][2]"
   ]
  },
  {
   "cell_type": "code",
   "execution_count": 57,
   "id": "f4a6a5cd-2628-4748-95a2-f039b44b6f91",
   "metadata": {},
   "outputs": [
    {
     "data": {
      "text/plain": [
       "2"
      ]
     },
     "execution_count": 57,
     "metadata": {},
     "output_type": "execute_result"
    }
   ],
   "source": [
    "arr_2d[0, 2]"
   ]
  },
  {
   "cell_type": "code",
   "execution_count": 60,
   "id": "274ba03a-78dc-470d-9a9d-68e8b82b8e39",
   "metadata": {},
   "outputs": [
    {
     "data": {
      "text/plain": [
       "array([0, 1, 2, 3])"
      ]
     },
     "execution_count": 60,
     "metadata": {},
     "output_type": "execute_result"
    }
   ],
   "source": [
    "arr_2d[0,:]"
   ]
  },
  {
   "cell_type": "code",
   "execution_count": 61,
   "id": "ce605b20-3ee1-4422-b284-d44d5b3ac37f",
   "metadata": {},
   "outputs": [
    {
     "data": {
      "text/plain": [
       "array([ 2,  6, 10])"
      ]
     },
     "execution_count": 61,
     "metadata": {},
     "output_type": "execute_result"
    }
   ],
   "source": [
    "arr_2d[:,2]"
   ]
  },
  {
   "cell_type": "code",
   "execution_count": 62,
   "id": "cbeb84f6-377e-442f-9d85-725bb03267b0",
   "metadata": {},
   "outputs": [
    {
     "data": {
      "text/plain": [
       "array([[0, 1, 2],\n",
       "       [4, 5, 6]])"
      ]
     },
     "execution_count": 62,
     "metadata": {},
     "output_type": "execute_result"
    }
   ],
   "source": [
    "arr_2d[:2,:3]"
   ]
  },
  {
   "cell_type": "markdown",
   "id": "015f3aba-6458-4cdd-90dc-4404b8e75fc7",
   "metadata": {},
   "source": [
    "### 4. Operaciones con arrays"
   ]
  },
  {
   "cell_type": "code",
   "execution_count": 68,
   "id": "fd9fffc3-b86a-4d58-a3b6-e77a8a512e58",
   "metadata": {},
   "outputs": [],
   "source": [
    "list1 = [1,2,3,4]\n",
    "list2 = [5,6,7,8]"
   ]
  },
  {
   "cell_type": "code",
   "execution_count": 69,
   "id": "060c9439-2206-4d79-b2e0-0fdf2e73b961",
   "metadata": {},
   "outputs": [
    {
     "data": {
      "text/plain": [
       "[6, 8, 10, 12]"
      ]
     },
     "execution_count": 69,
     "metadata": {},
     "output_type": "execute_result"
    }
   ],
   "source": [
    "list(map(lambda x, y: x+y,list1, list2))"
   ]
  },
  {
   "cell_type": "code",
   "execution_count": 70,
   "id": "a2467a54-e6ec-4960-a998-cd2280233174",
   "metadata": {},
   "outputs": [],
   "source": [
    "arr1 = np.array(list1)\n",
    "arr2 = np.array(list2)"
   ]
  },
  {
   "cell_type": "code",
   "execution_count": 71,
   "id": "68a5513c-2b74-4d15-9810-9d73c7a33b70",
   "metadata": {},
   "outputs": [
    {
     "data": {
      "text/plain": [
       "array([ 6,  8, 10, 12])"
      ]
     },
     "execution_count": 71,
     "metadata": {},
     "output_type": "execute_result"
    }
   ],
   "source": [
    "arr1 + arr2"
   ]
  },
  {
   "cell_type": "code",
   "execution_count": 72,
   "id": "a8de3665-ed12-4a2d-a3e9-71042b833ddc",
   "metadata": {},
   "outputs": [],
   "source": [
    "arr3 = np.array([9,10,11,12,13])"
   ]
  },
  {
   "cell_type": "code",
   "execution_count": 74,
   "id": "f203d5d4-35c1-4106-8033-5e351329712f",
   "metadata": {},
   "outputs": [
    {
     "ename": "ValueError",
     "evalue": "operands could not be broadcast together with shapes (4,) (5,) ",
     "output_type": "error",
     "traceback": [
      "\u001b[1;31m---------------------------------------------------------------------------\u001b[0m",
      "\u001b[1;31mValueError\u001b[0m                                Traceback (most recent call last)",
      "Cell \u001b[1;32mIn[74], line 1\u001b[0m\n\u001b[1;32m----> 1\u001b[0m \u001b[43marr1\u001b[49m\u001b[38;5;241;43m+\u001b[39;49m\u001b[43marr3\u001b[49m\n",
      "\u001b[1;31mValueError\u001b[0m: operands could not be broadcast together with shapes (4,) (5,) "
     ]
    }
   ],
   "source": [
    "arr1+arr3"
   ]
  },
  {
   "cell_type": "code",
   "execution_count": 75,
   "id": "ac9ce2aa-a3da-44c7-8d57-692a481b0075",
   "metadata": {},
   "outputs": [],
   "source": [
    "mat1 = np.array([[1, 2], [3, 4]])\n",
    "mat2 = np.array([[5, 6], [7, 8]])"
   ]
  },
  {
   "cell_type": "code",
   "execution_count": 76,
   "id": "524efd63-ce1c-4153-ae20-c44129363178",
   "metadata": {},
   "outputs": [
    {
     "data": {
      "text/plain": [
       "array([[ 6,  8],\n",
       "       [10, 12]])"
      ]
     },
     "execution_count": 76,
     "metadata": {},
     "output_type": "execute_result"
    }
   ],
   "source": [
    "mat1+mat2"
   ]
  },
  {
   "cell_type": "code",
   "execution_count": 77,
   "id": "793bf9e6-f767-4a07-a425-763618eba23a",
   "metadata": {},
   "outputs": [
    {
     "data": {
      "text/plain": [
       "array([-4, -4, -4, -4])"
      ]
     },
     "execution_count": 77,
     "metadata": {},
     "output_type": "execute_result"
    }
   ],
   "source": [
    "arr1-arr2"
   ]
  },
  {
   "cell_type": "code",
   "execution_count": 78,
   "id": "98edfa39-b411-4743-8730-0c8702e300bf",
   "metadata": {},
   "outputs": [
    {
     "data": {
      "text/plain": [
       "array([ 5, 12, 21, 32])"
      ]
     },
     "execution_count": 78,
     "metadata": {},
     "output_type": "execute_result"
    }
   ],
   "source": [
    "arr1*arr2"
   ]
  },
  {
   "cell_type": "code",
   "execution_count": 79,
   "id": "7d29b7ff-9514-4779-8a0d-1c24f5d50f0c",
   "metadata": {},
   "outputs": [
    {
     "data": {
      "text/plain": [
       "array([0.2       , 0.33333333, 0.42857143, 0.5       ])"
      ]
     },
     "execution_count": 79,
     "metadata": {},
     "output_type": "execute_result"
    }
   ],
   "source": [
    "arr1/arr2"
   ]
  },
  {
   "cell_type": "code",
   "execution_count": 81,
   "id": "9ce49cb9-d715-4e70-abca-f9f72d46fe2e",
   "metadata": {},
   "outputs": [
    {
     "data": {
      "text/plain": [
       "array([11, 12, 13, 14])"
      ]
     },
     "execution_count": 81,
     "metadata": {},
     "output_type": "execute_result"
    }
   ],
   "source": [
    "arr1+10"
   ]
  },
  {
   "cell_type": "code",
   "execution_count": 82,
   "id": "b7518145-d740-425b-9051-b471f7373a58",
   "metadata": {},
   "outputs": [
    {
     "data": {
      "text/plain": [
       "array([0.1, 0.2, 0.3, 0.4])"
      ]
     },
     "execution_count": 82,
     "metadata": {},
     "output_type": "execute_result"
    }
   ],
   "source": [
    "arr1/10"
   ]
  },
  {
   "cell_type": "code",
   "execution_count": null,
   "id": "1c6935e2-f63e-45c5-be01-c71efbf0cdf0",
   "metadata": {},
   "outputs": [],
   "source": []
  }
 ],
 "metadata": {
  "kernelspec": {
   "display_name": "Python 3 (ipykernel)",
   "language": "python",
   "name": "python3"
  },
  "language_info": {
   "codemirror_mode": {
    "name": "ipython",
    "version": 3
   },
   "file_extension": ".py",
   "mimetype": "text/x-python",
   "name": "python",
   "nbconvert_exporter": "python",
   "pygments_lexer": "ipython3",
   "version": "3.11.6"
  }
 },
 "nbformat": 4,
 "nbformat_minor": 5
}
