{
 "cells": [
  {
   "cell_type": "markdown",
   "id": "736e018b-2397-4fc7-bd70-4287d0811f55",
   "metadata": {},
   "source": [
    "## Intro a funciones"
   ]
  },
  {
   "cell_type": "code",
   "execution_count": 2,
   "id": "c7535b0f-f4b5-40dd-a3eb-d7d5ef81ba7b",
   "metadata": {},
   "outputs": [
    {
     "data": {
      "text/plain": [
       "17.5"
      ]
     },
     "execution_count": 2,
     "metadata": {},
     "output_type": "execute_result"
    }
   ],
   "source": [
    "num_1 = 10\n",
    "num_2 = 25\n",
    "\n",
    "promedio = (num_1 + num_2)/2\n",
    "promedio"
   ]
  },
  {
   "cell_type": "code",
   "execution_count": 3,
   "id": "08d6438a-cca0-4f5d-bbc3-24d1218b8414",
   "metadata": {},
   "outputs": [],
   "source": [
    "def promedio(num_1, num_2):\n",
    "    (num_1+num2)/2"
   ]
  },
  {
   "cell_type": "code",
   "execution_count": 5,
   "id": "58df204d-6ff5-4f40-a8ab-e5b9b7f21488",
   "metadata": {},
   "outputs": [
    {
     "ename": "NameError",
     "evalue": "name 'num2' is not defined",
     "output_type": "error",
     "traceback": [
      "\u001b[1;31m---------------------------------------------------------------------------\u001b[0m",
      "\u001b[1;31mNameError\u001b[0m                                 Traceback (most recent call last)",
      "Cell \u001b[1;32mIn[5], line 1\u001b[0m\n\u001b[1;32m----> 1\u001b[0m \u001b[43mpromedio\u001b[49m\u001b[43m(\u001b[49m\u001b[38;5;241;43m10\u001b[39;49m\u001b[43m,\u001b[49m\u001b[38;5;241;43m25\u001b[39;49m\u001b[43m)\u001b[49m\n",
      "Cell \u001b[1;32mIn[4], line 2\u001b[0m, in \u001b[0;36mpromedio\u001b[1;34m(num_1, num_2)\u001b[0m\n\u001b[0;32m      1\u001b[0m \u001b[38;5;28;01mdef\u001b[39;00m \u001b[38;5;21mpromedio\u001b[39m(num_1, num_2):\n\u001b[1;32m----> 2\u001b[0m     (num_1\u001b[38;5;241m+\u001b[39m\u001b[43mnum2\u001b[49m)\u001b[38;5;241m/\u001b[39m\u001b[38;5;241m2\u001b[39m\n",
      "\u001b[1;31mNameError\u001b[0m: name 'num2' is not defined"
     ]
    }
   ],
   "source": [
    "promedio(10,25)"
   ]
  },
  {
   "cell_type": "code",
   "execution_count": 8,
   "id": "c9681cd0-05ad-4190-b5ee-566116d529e1",
   "metadata": {},
   "outputs": [],
   "source": [
    "def promedio(num_1, num_2):\n",
    "    promedio = (num_1+num_2)/2\n",
    "    print(promedio)"
   ]
  },
  {
   "cell_type": "code",
   "execution_count": 10,
   "id": "89b47dd7-afc6-4f02-b6fd-82b4e591fde1",
   "metadata": {},
   "outputs": [
    {
     "name": "stdout",
     "output_type": "stream",
     "text": [
      "17.5\n"
     ]
    }
   ],
   "source": [
    "prom_impreso = promedio(10,25)"
   ]
  },
  {
   "cell_type": "code",
   "execution_count": 11,
   "id": "07dcfa04-4004-45c2-815e-5b1aed594683",
   "metadata": {},
   "outputs": [
    {
     "ename": "TypeError",
     "evalue": "unsupported operand type(s) for +: 'NoneType' and 'int'",
     "output_type": "error",
     "traceback": [
      "\u001b[1;31m---------------------------------------------------------------------------\u001b[0m",
      "\u001b[1;31mTypeError\u001b[0m                                 Traceback (most recent call last)",
      "Cell \u001b[1;32mIn[11], line 1\u001b[0m\n\u001b[1;32m----> 1\u001b[0m \u001b[43mprom_impreso\u001b[49m\u001b[43m \u001b[49m\u001b[38;5;241;43m+\u001b[39;49m\u001b[43m \u001b[49m\u001b[38;5;241;43m2\u001b[39;49m\n",
      "\u001b[1;31mTypeError\u001b[0m: unsupported operand type(s) for +: 'NoneType' and 'int'"
     ]
    }
   ],
   "source": [
    "prom_impreso + 2"
   ]
  },
  {
   "cell_type": "code",
   "execution_count": 42,
   "id": "d775b777-3f77-4222-9e18-b030c5bbcf65",
   "metadata": {},
   "outputs": [
    {
     "data": {
      "text/plain": [
       "NoneType"
      ]
     },
     "execution_count": 42,
     "metadata": {},
     "output_type": "execute_result"
    }
   ],
   "source": [
    "type(prom_impreso)"
   ]
  },
  {
   "cell_type": "code",
   "execution_count": 12,
   "id": "567773a4-f2e3-4daa-b0d1-521fd54cfb5d",
   "metadata": {},
   "outputs": [],
   "source": [
    "def promedio(num_1, num_2):\n",
    "    promedio = (num_1+num_2)/2\n",
    "    return(promedio)"
   ]
  },
  {
   "cell_type": "code",
   "execution_count": 13,
   "id": "8ae7bd24-51d5-4ba3-b66a-6846cc5cf21e",
   "metadata": {},
   "outputs": [],
   "source": [
    "prom_retornado = promedio(10,25)"
   ]
  },
  {
   "cell_type": "code",
   "execution_count": 43,
   "id": "7fd1ff34-b95d-407d-bfe9-b75e0064068c",
   "metadata": {},
   "outputs": [
    {
     "data": {
      "text/plain": [
       "float"
      ]
     },
     "execution_count": 43,
     "metadata": {},
     "output_type": "execute_result"
    }
   ],
   "source": [
    "type(prom_retornado)"
   ]
  },
  {
   "cell_type": "code",
   "execution_count": 14,
   "id": "f5145788-47ed-4b5f-a584-4e93e39f7be8",
   "metadata": {},
   "outputs": [
    {
     "data": {
      "text/plain": [
       "17.5"
      ]
     },
     "execution_count": 14,
     "metadata": {},
     "output_type": "execute_result"
    }
   ],
   "source": [
    "prom_retornado"
   ]
  },
  {
   "cell_type": "code",
   "execution_count": 15,
   "id": "b94927ef-7f55-49f1-b221-68ccace66bad",
   "metadata": {},
   "outputs": [
    {
     "data": {
      "text/plain": [
       "21.5"
      ]
     },
     "execution_count": 15,
     "metadata": {},
     "output_type": "execute_result"
    }
   ],
   "source": [
    "prom_retornado+4"
   ]
  },
  {
   "cell_type": "markdown",
   "id": "9bf9daff-43ab-4319-bcff-522531948e90",
   "metadata": {},
   "source": [
    "![](../part_funciones.png)"
   ]
  },
  {
   "cell_type": "code",
   "execution_count": 16,
   "id": "64fabf0e-b6c9-4b71-b739-3422a0eb9305",
   "metadata": {},
   "outputs": [],
   "source": [
    "## Parámetros y funciones"
   ]
  },
  {
   "cell_type": "code",
   "execution_count": 21,
   "id": "5a7d4bcb-97a2-4066-8160-0eaca337265b",
   "metadata": {},
   "outputs": [],
   "source": [
    "def suma(a):\n",
    "    sum = a+b\n",
    "    return sum"
   ]
  },
  {
   "cell_type": "code",
   "execution_count": 22,
   "id": "b542f5a2-6342-44b7-880e-00688a2556de",
   "metadata": {},
   "outputs": [
    {
     "data": {
      "text/plain": [
       "28"
      ]
     },
     "execution_count": 22,
     "metadata": {},
     "output_type": "execute_result"
    }
   ],
   "source": [
    "suma(3)"
   ]
  },
  {
   "cell_type": "code",
   "execution_count": 23,
   "id": "51e42678-2499-4705-9e64-e77d716f2f56",
   "metadata": {},
   "outputs": [],
   "source": [
    "b = 25"
   ]
  },
  {
   "cell_type": "code",
   "execution_count": 24,
   "id": "c96b4c75-7cf5-4156-ad45-874b850ce4db",
   "metadata": {},
   "outputs": [
    {
     "data": {
      "text/plain": [
       "27"
      ]
     },
     "execution_count": 24,
     "metadata": {},
     "output_type": "execute_result"
    }
   ],
   "source": [
    "suma(2)"
   ]
  },
  {
   "cell_type": "code",
   "execution_count": 25,
   "id": "9d70bc9b-b41e-48c2-836b-96121d663918",
   "metadata": {},
   "outputs": [],
   "source": [
    "def suma(a, b):\n",
    "    sum = a+b\n",
    "    return sum"
   ]
  },
  {
   "cell_type": "code",
   "execution_count": 26,
   "id": "a884da70-e55c-49e1-ae4c-17bfa131243c",
   "metadata": {},
   "outputs": [],
   "source": [
    "a = 2\n",
    "b = 5"
   ]
  },
  {
   "cell_type": "code",
   "execution_count": 27,
   "id": "5c43ab8a-9d1e-4553-ae73-7cc2986c2a43",
   "metadata": {},
   "outputs": [
    {
     "data": {
      "text/plain": [
       "7"
      ]
     },
     "execution_count": 27,
     "metadata": {},
     "output_type": "execute_result"
    }
   ],
   "source": [
    "suma(a,b)"
   ]
  },
  {
   "cell_type": "markdown",
   "id": "3264a61d-ae3d-47e6-8f36-27e73f6200cc",
   "metadata": {},
   "source": [
    "### Define una lista que contenga el promedio de edades de 3 personas y calcule el promedio de ellas"
   ]
  },
  {
   "cell_type": "code",
   "execution_count": 29,
   "id": "886970c1-c500-48f4-870e-ab1e4244d726",
   "metadata": {},
   "outputs": [],
   "source": [
    "edades_3 = [28, 34, 21]"
   ]
  },
  {
   "cell_type": "code",
   "execution_count": 32,
   "id": "0a1ba501-f78d-4820-8d01-bef607faf111",
   "metadata": {},
   "outputs": [
    {
     "data": {
      "text/plain": [
       "27.666666666666668"
      ]
     },
     "execution_count": 32,
     "metadata": {},
     "output_type": "execute_result"
    }
   ],
   "source": [
    "sum(edades_3)/3"
   ]
  },
  {
   "cell_type": "code",
   "execution_count": 33,
   "id": "dc2db265-80d6-443d-aa7c-670f01c44126",
   "metadata": {},
   "outputs": [],
   "source": [
    "def prom_lista(lista_edades):\n",
    "    prom = sum(edades_3)/3\n",
    "    return prom"
   ]
  },
  {
   "cell_type": "code",
   "execution_count": 39,
   "id": "fc381b48-756c-491d-b308-279f9877a130",
   "metadata": {},
   "outputs": [
    {
     "data": {
      "text/plain": [
       "27.666666666666668"
      ]
     },
     "execution_count": 39,
     "metadata": {},
     "output_type": "execute_result"
    }
   ],
   "source": [
    "prom_lista([14,32,5])"
   ]
  },
  {
   "cell_type": "code",
   "execution_count": 40,
   "id": "8158e5a7-4089-45e6-941c-eefa0a28aa44",
   "metadata": {},
   "outputs": [],
   "source": [
    "def prom_lista(lista_edades):\n",
    "    prom = sum(lista_edades)/3\n",
    "    return prom"
   ]
  },
  {
   "cell_type": "code",
   "execution_count": 41,
   "id": "515d1d1c-3a56-481b-9893-e48566caf236",
   "metadata": {},
   "outputs": [
    {
     "data": {
      "text/plain": [
       "17.0"
      ]
     },
     "execution_count": 41,
     "metadata": {},
     "output_type": "execute_result"
    }
   ],
   "source": [
    "prom_lista([14,32,5])"
   ]
  },
  {
   "cell_type": "markdown",
   "id": "a1ad6030-7983-4a62-b68a-07e4edf8353c",
   "metadata": {},
   "source": [
    "## Escribe una función para calcular la energía generada por un panel solar, dado su área, la irradiancia solar incidente en él y su eficiencia\n",
    "\n",
    "$$P=Irradiancia\\times Area \\times Eficiencia$$"
   ]
  },
  {
   "cell_type": "code",
   "execution_count": 44,
   "id": "5d38a404-1ffc-477e-a167-5d974d810ada",
   "metadata": {},
   "outputs": [],
   "source": [
    "def calcular_potencia(irradiancia, area, eficiencia):\n",
    "    potencia = irradiancia * area * eficiencia\n",
    "    return potencia"
   ]
  },
  {
   "cell_type": "code",
   "execution_count": 45,
   "id": "5ed132a7-7b14-4b4e-b1a9-68aeaffd62ff",
   "metadata": {},
   "outputs": [],
   "source": [
    "def calcular_potencia(irradiancia, area, eficiencia=0.15):\n",
    "    potencia = irradiancia * area * eficiencia\n",
    "    return potencia"
   ]
  },
  {
   "cell_type": "code",
   "execution_count": 46,
   "id": "66aacd8c-0073-46dd-9db3-5611c96e2f05",
   "metadata": {},
   "outputs": [],
   "source": [
    "def calcular_potencia(irradiancia, area=1, eficiencia=0.15):\n",
    "    potencia = irradiancia * area * eficiencia\n",
    "    return potencia"
   ]
  },
  {
   "cell_type": "code",
   "execution_count": null,
   "id": "0f5c4d27-d397-4d9a-a011-aa49ba943ded",
   "metadata": {},
   "outputs": [],
   "source": []
  },
  {
   "cell_type": "markdown",
   "id": "2c00075a-7662-4148-acf0-1acf4a14e435",
   "metadata": {},
   "source": [
    "Escribe una función llamada costo para determinar el costo de la electricidad a partir del consumo. El costo de la electricidad se calcula como sigue:\n",
    "\n",
    "Para los primeros 150 kWh el precio es de 0.86 por kWh\n",
    "Para los siguientes 200 kWh el precio es de 1.04 por kWh\n",
    "Arriba de los 350 kWh el precio es de 3.03 por kWh\n",
    "Es decir, si consumiste 300 kWh, los primero 150 se cobrarán al primer precio y los restantes al segundo precio. Si consumes 805 kWh, los primeros 150 se cobrarán al primer precio, los siguientes 200 al segundo precio y los restantes 455 al último precio. El output deberá ser el costo redondeado a dos decimales."
   ]
  },
  {
   "cell_type": "code",
   "execution_count": 47,
   "id": "63f8e95f-1e41-41a2-8add-c77332f79dc7",
   "metadata": {},
   "outputs": [],
   "source": [
    "def costo(kwh):\n",
    "    if kwh <= 150:\n",
    "        total = kwh*1.019\n",
    "    elif 150< kwh <= 350:\n",
    "        total = 150*1.019+(kwh-150)*1.243\n",
    "    else:\n",
    "        total = 150*1.019 + 200*1.243 + (kwh-350)*3.633\n",
    "    return f\"El costo de tu consumo por {kwh} kWh es ${total:.2f}\""
   ]
  },
  {
   "cell_type": "code",
   "execution_count": 48,
   "id": "6b3bb9ee-0ac3-4963-a509-f6b704dc2d9a",
   "metadata": {},
   "outputs": [],
   "source": [
    "def costo(kwh, p1=1.019, p2=1.243, p3=3.633):\n",
    "    if kwh <= 150:\n",
    "        total = kwh*p1\n",
    "    elif 150< kwh <= 350:\n",
    "        total = 150*p1+(kwh-150)*p2\n",
    "    else:\n",
    "        total = 150*p1 + 200*p2 + (kwh-350)*p3\n",
    "    return f\"El costo de tu consumo por {kwh} kWh es ${total:.2f}\""
   ]
  },
  {
   "cell_type": "code",
   "execution_count": null,
   "id": "34dc5e2f-ae62-4e1e-9195-05f44c5977ad",
   "metadata": {},
   "outputs": [],
   "source": []
  }
 ],
 "metadata": {
  "kernelspec": {
   "display_name": "Python 3 (ipykernel)",
   "language": "python",
   "name": "python3"
  },
  "language_info": {
   "codemirror_mode": {
    "name": "ipython",
    "version": 3
   },
   "file_extension": ".py",
   "mimetype": "text/x-python",
   "name": "python",
   "nbconvert_exporter": "python",
   "pygments_lexer": "ipython3",
   "version": "3.11.6"
  }
 },
 "nbformat": 4,
 "nbformat_minor": 5
}
