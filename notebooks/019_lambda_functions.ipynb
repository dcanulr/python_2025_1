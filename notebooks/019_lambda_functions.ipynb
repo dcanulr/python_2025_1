{
 "cells": [
  {
   "cell_type": "code",
   "execution_count": 60,
   "id": "c3ce593f-bef9-40ae-89b9-fd0f03616691",
   "metadata": {},
   "outputs": [],
   "source": [
    "import pandas as pd"
   ]
  },
  {
   "cell_type": "markdown",
   "id": "06af908a-ca7e-41b1-95db-da9509e5a283",
   "metadata": {},
   "source": [
    "## 1. Funciones lambda\n",
    "Una función lambda es como una función definida por el usuario (las que hemos creado con **def**) que pueden ser definidas por sin nombre, también son conocidas como funciones anónimas."
   ]
  },
  {
   "cell_type": "markdown",
   "id": "2e458eb8-659a-49eb-83bc-b3044399d81d",
   "metadata": {},
   "source": [
    "### Sintaxis:\n",
    "![](../lambda.png)"
   ]
  },
  {
   "cell_type": "code",
   "execution_count": 2,
   "id": "2f373196-6127-4df2-9b79-ddb90de956ad",
   "metadata": {},
   "outputs": [],
   "source": [
    "def potencia(num):\n",
    "    return num**2"
   ]
  },
  {
   "cell_type": "code",
   "execution_count": 7,
   "id": "e00b54b8-eb38-4304-8c07-1974ca82c1ff",
   "metadata": {},
   "outputs": [
    {
     "data": {
      "text/plain": [
       "9"
      ]
     },
     "execution_count": 7,
     "metadata": {},
     "output_type": "execute_result"
    }
   ],
   "source": [
    "potencia(3)"
   ]
  },
  {
   "cell_type": "code",
   "execution_count": 6,
   "id": "65a9b696-b7ce-41e7-a9d8-9debff9169a2",
   "metadata": {},
   "outputs": [
    {
     "data": {
      "text/plain": [
       "<function __main__.<lambda>(num)>"
      ]
     },
     "execution_count": 6,
     "metadata": {},
     "output_type": "execute_result"
    }
   ],
   "source": [
    "lambda num: num**2"
   ]
  },
  {
   "cell_type": "code",
   "execution_count": 8,
   "id": "8f83b075-bf31-447c-ac6f-05b86801dd6b",
   "metadata": {},
   "outputs": [
    {
     "data": {
      "text/plain": [
       "9"
      ]
     },
     "execution_count": 8,
     "metadata": {},
     "output_type": "execute_result"
    }
   ],
   "source": [
    "(lambda num: num**2)(3)"
   ]
  },
  {
   "cell_type": "code",
   "execution_count": 9,
   "id": "dad03783-65ec-4656-8ca4-021048a58b60",
   "metadata": {},
   "outputs": [],
   "source": [
    "potencia = lambda num: num**2"
   ]
  },
  {
   "cell_type": "code",
   "execution_count": 10,
   "id": "f004a5f2-5fc9-4da6-bad2-7cb5b820c3be",
   "metadata": {},
   "outputs": [
    {
     "data": {
      "text/plain": [
       "9"
      ]
     },
     "execution_count": 10,
     "metadata": {},
     "output_type": "execute_result"
    }
   ],
   "source": [
    "potencia(3)"
   ]
  },
  {
   "cell_type": "markdown",
   "id": "b436861e-fa43-4d8e-8baa-860b9b8eab8f",
   "metadata": {},
   "source": [
    "### Cuándo usar una función lambda?\n",
    "Para crear expresiones simples y específicas, funciones que se utilizan una sola vez y no es necesario definir una función completa. Pueden tomar ventaja en funciones que pueden ser descritas en una sola línea y no tiene operaciones complejas como el uso de ciclos"
   ]
  },
  {
   "cell_type": "code",
   "execution_count": 21,
   "id": "92d365ff-3620-4552-a949-ac56ee7a6a6b",
   "metadata": {},
   "outputs": [
    {
     "data": {
      "text/plain": [
       "<function __main__.<lambda>(x)>"
      ]
     },
     "execution_count": 21,
     "metadata": {},
     "output_type": "execute_result"
    }
   ],
   "source": [
    "lambda x: x**3"
   ]
  },
  {
   "cell_type": "code",
   "execution_count": 23,
   "id": "85cfd67b-56af-47a4-8e2b-c4d0f3d0739a",
   "metadata": {},
   "outputs": [
    {
     "data": {
      "text/plain": [
       "39.303999999999995"
      ]
     },
     "execution_count": 23,
     "metadata": {},
     "output_type": "execute_result"
    }
   ],
   "source": [
    "_(3.4)"
   ]
  },
  {
   "cell_type": "code",
   "execution_count": 24,
   "id": "7d8c4e87-4227-42e7-bc20-ce83d1e5c780",
   "metadata": {},
   "outputs": [
    {
     "ename": "TypeError",
     "evalue": "'float' object is not callable",
     "output_type": "error",
     "traceback": [
      "\u001b[1;31m---------------------------------------------------------------------------\u001b[0m",
      "\u001b[1;31mTypeError\u001b[0m                                 Traceback (most recent call last)",
      "Cell \u001b[1;32mIn[24], line 1\u001b[0m\n\u001b[1;32m----> 1\u001b[0m \u001b[43m_\u001b[49m\u001b[43m(\u001b[49m\u001b[38;5;241;43m6.5\u001b[39;49m\u001b[43m)\u001b[49m\n",
      "\u001b[1;31mTypeError\u001b[0m: 'float' object is not callable"
     ]
    }
   ],
   "source": [
    "_(6.5)"
   ]
  },
  {
   "cell_type": "code",
   "execution_count": 25,
   "id": "541b143c-4271-4e37-acb9-9bdc3ad07c4f",
   "metadata": {},
   "outputs": [
    {
     "data": {
      "text/plain": [
       "<function __main__.<lambda>(x, y)>"
      ]
     },
     "execution_count": 25,
     "metadata": {},
     "output_type": "execute_result"
    }
   ],
   "source": [
    "lambda x, y: x**y"
   ]
  },
  {
   "cell_type": "code",
   "execution_count": 26,
   "id": "be21038d-195d-4f42-8625-94e5a7ae7ddb",
   "metadata": {},
   "outputs": [
    {
     "ename": "TypeError",
     "evalue": "<lambda>() missing 1 required positional argument: 'y'",
     "output_type": "error",
     "traceback": [
      "\u001b[1;31m---------------------------------------------------------------------------\u001b[0m",
      "\u001b[1;31mTypeError\u001b[0m                                 Traceback (most recent call last)",
      "Cell \u001b[1;32mIn[26], line 1\u001b[0m\n\u001b[1;32m----> 1\u001b[0m \u001b[43m_\u001b[49m\u001b[43m(\u001b[49m\u001b[38;5;241;43m4\u001b[39;49m\u001b[43m)\u001b[49m\n",
      "\u001b[1;31mTypeError\u001b[0m: <lambda>() missing 1 required positional argument: 'y'"
     ]
    }
   ],
   "source": [
    "_(4)"
   ]
  },
  {
   "cell_type": "code",
   "execution_count": 27,
   "id": "e941e0dc-cc54-4473-ab87-9ea965ebf816",
   "metadata": {},
   "outputs": [
    {
     "data": {
      "text/plain": [
       "125"
      ]
     },
     "execution_count": 27,
     "metadata": {},
     "output_type": "execute_result"
    }
   ],
   "source": [
    "_(5,3)"
   ]
  },
  {
   "cell_type": "code",
   "execution_count": 29,
   "id": "0d487f4b-6eb5-4133-9321-d69de565b873",
   "metadata": {},
   "outputs": [
    {
     "data": {
      "text/plain": [
       "<function __main__.<lambda>(x, y, z)>"
      ]
     },
     "execution_count": 29,
     "metadata": {},
     "output_type": "execute_result"
    }
   ],
   "source": [
    "lambda x, y, z: x**y + z**y"
   ]
  },
  {
   "cell_type": "code",
   "execution_count": 30,
   "id": "84fa21a4-9cdb-4dee-ad5f-75342e7d379b",
   "metadata": {},
   "outputs": [
    {
     "data": {
      "text/plain": [
       "133"
      ]
     },
     "execution_count": 30,
     "metadata": {},
     "output_type": "execute_result"
    }
   ],
   "source": [
    "_(y=3, x=2, z=5)"
   ]
  },
  {
   "cell_type": "markdown",
   "id": "ab8efa54-1dfe-4f10-a0a9-4af40a14397f",
   "metadata": {},
   "source": [
    "## 2. Uso de funciones lambda con otras funciones anónimas\n",
    "Existen funciones nativas (built-in functions) de python que requieren el uso de una función como argumento\n",
    "1. map()\n",
    "2. filter()\n",
    "3. sorted()\n",
    "4. apply()\n",
    "\n",
    "\n",
    "https://docs.python.org/3/library/functions.html"
   ]
  },
  {
   "cell_type": "markdown",
   "id": "862e1546-f95c-4e9e-a4a7-901f47f34ffc",
   "metadata": {},
   "source": [
    "### 2.1 map()\n",
    "Aplica una función a cada elemento de un iterable y devuelve un objeto _map_. Se utiliza cuando se requiere realizar una operación en cada elemento del iterable.\n",
    "\n",
    "**map(function, iterable)**\n"
   ]
  },
  {
   "cell_type": "code",
   "execution_count": 31,
   "id": "15150f9f-b51d-4934-8b1d-34e1f4a44a6e",
   "metadata": {},
   "outputs": [],
   "source": [
    "numeros = [1,2,3,4]"
   ]
  },
  {
   "cell_type": "code",
   "execution_count": 32,
   "id": "a6ac7caf-72a4-4d62-b634-f33c4b054b17",
   "metadata": {},
   "outputs": [],
   "source": [
    "def cuadrado(num):\n",
    "    return num**2"
   ]
  },
  {
   "cell_type": "code",
   "execution_count": 33,
   "id": "def8ca76-7b5a-44d4-b964-c89bdfdf78ae",
   "metadata": {},
   "outputs": [
    {
     "data": {
      "text/plain": [
       "4"
      ]
     },
     "execution_count": 33,
     "metadata": {},
     "output_type": "execute_result"
    }
   ],
   "source": [
    "cuadrado(2)"
   ]
  },
  {
   "cell_type": "code",
   "execution_count": 34,
   "id": "806dae40-37e8-440b-b4a4-8e62c155a90d",
   "metadata": {},
   "outputs": [
    {
     "ename": "TypeError",
     "evalue": "unsupported operand type(s) for ** or pow(): 'list' and 'int'",
     "output_type": "error",
     "traceback": [
      "\u001b[1;31m---------------------------------------------------------------------------\u001b[0m",
      "\u001b[1;31mTypeError\u001b[0m                                 Traceback (most recent call last)",
      "Cell \u001b[1;32mIn[34], line 1\u001b[0m\n\u001b[1;32m----> 1\u001b[0m \u001b[43mcuadrado\u001b[49m\u001b[43m(\u001b[49m\u001b[43mnumeros\u001b[49m\u001b[43m)\u001b[49m\n",
      "Cell \u001b[1;32mIn[32], line 2\u001b[0m, in \u001b[0;36mcuadrado\u001b[1;34m(num)\u001b[0m\n\u001b[0;32m      1\u001b[0m \u001b[38;5;28;01mdef\u001b[39;00m \u001b[38;5;21mcuadrado\u001b[39m(num):\n\u001b[1;32m----> 2\u001b[0m     \u001b[38;5;28;01mreturn\u001b[39;00m \u001b[43mnum\u001b[49m\u001b[38;5;241;43m*\u001b[39;49m\u001b[38;5;241;43m*\u001b[39;49m\u001b[38;5;241;43m2\u001b[39;49m\n",
      "\u001b[1;31mTypeError\u001b[0m: unsupported operand type(s) for ** or pow(): 'list' and 'int'"
     ]
    }
   ],
   "source": [
    "cuadrado(numeros)"
   ]
  },
  {
   "cell_type": "code",
   "execution_count": 37,
   "id": "2028df1a-2ced-4d55-bd56-55f0a803f20a",
   "metadata": {},
   "outputs": [
    {
     "data": {
      "text/plain": [
       "<map at 0x1ac123a0730>"
      ]
     },
     "execution_count": 37,
     "metadata": {},
     "output_type": "execute_result"
    }
   ],
   "source": [
    "map(cuadrado, numeros)"
   ]
  },
  {
   "cell_type": "code",
   "execution_count": 38,
   "id": "e57ca567-0fc1-42cd-aa9f-e92bdeea0262",
   "metadata": {},
   "outputs": [
    {
     "data": {
      "text/plain": [
       "[1, 4, 9, 16]"
      ]
     },
     "execution_count": 38,
     "metadata": {},
     "output_type": "execute_result"
    }
   ],
   "source": [
    "list(map(cuadrado, numeros))"
   ]
  },
  {
   "cell_type": "code",
   "execution_count": 39,
   "id": "deb6b008-dff9-4cf0-bf66-131c2b77fb23",
   "metadata": {},
   "outputs": [
    {
     "data": {
      "text/plain": [
       "[1, 4, 9, 16]"
      ]
     },
     "execution_count": 39,
     "metadata": {},
     "output_type": "execute_result"
    }
   ],
   "source": [
    "list(map(lambda num: num**2, numeros))"
   ]
  },
  {
   "cell_type": "markdown",
   "id": "c9181354-0e29-4c82-bf13-0d420d35c4c8",
   "metadata": {},
   "source": [
    "## 2.2 filter()\n",
    "Filtra los elementos de un iterable utilizando una función que devuelve True o False. Retorna un objeto _map_ con los elementos que cumplen la condición.\n",
    "\n",
    "**filter(function, iterable)**"
   ]
  },
  {
   "cell_type": "code",
   "execution_count": 41,
   "id": "df912d99-7153-4584-bde9-26116e8b8f89",
   "metadata": {},
   "outputs": [],
   "source": [
    "numeros = [1,2,3,4,5,6,7,8,9,10]"
   ]
  },
  {
   "cell_type": "code",
   "execution_count": 43,
   "id": "693c9a4d-faf1-4be7-82ca-b7c5cf531ffa",
   "metadata": {},
   "outputs": [
    {
     "data": {
      "text/plain": [
       "2.0"
      ]
     },
     "execution_count": 43,
     "metadata": {},
     "output_type": "execute_result"
    }
   ],
   "source": [
    "4/2"
   ]
  },
  {
   "cell_type": "code",
   "execution_count": 47,
   "id": "555ed70d-d31b-4116-8742-af5134abb545",
   "metadata": {},
   "outputs": [
    {
     "data": {
      "text/plain": [
       "True"
      ]
     },
     "execution_count": 47,
     "metadata": {},
     "output_type": "execute_result"
    }
   ],
   "source": [
    "4%2 == 0"
   ]
  },
  {
   "cell_type": "code",
   "execution_count": 48,
   "id": "dc2af270-f351-4e61-a0c7-1df935757460",
   "metadata": {},
   "outputs": [
    {
     "data": {
      "text/plain": [
       "False"
      ]
     },
     "execution_count": 48,
     "metadata": {},
     "output_type": "execute_result"
    }
   ],
   "source": [
    "5%2 == 0"
   ]
  },
  {
   "cell_type": "code",
   "execution_count": 49,
   "id": "5a2cdab4-1c62-4999-b047-c2d790a64b80",
   "metadata": {},
   "outputs": [
    {
     "data": {
      "text/plain": [
       "<filter at 0x1ac12351a20>"
      ]
     },
     "execution_count": 49,
     "metadata": {},
     "output_type": "execute_result"
    }
   ],
   "source": [
    "filter(lambda num: num%2 == 0, numeros)"
   ]
  },
  {
   "cell_type": "code",
   "execution_count": 50,
   "id": "f4fbd5cf-2adf-4533-a3ca-9ec3aaa0f1b2",
   "metadata": {},
   "outputs": [
    {
     "data": {
      "text/plain": [
       "[2, 4, 6, 8, 10]"
      ]
     },
     "execution_count": 50,
     "metadata": {},
     "output_type": "execute_result"
    }
   ],
   "source": [
    "list(filter(lambda num: num%2 == 0, numeros))"
   ]
  },
  {
   "cell_type": "markdown",
   "id": "2a581c06-f144-4410-b6c9-87dfc71c7770",
   "metadata": {},
   "source": [
    "## 2.3 sorted()\n",
    "Es una función que ordena los elementos de un iterable y devuelve una lista ordenada. El criterio de ordenamiento puede ser utilizando el parámetro _key_.\n",
    "\n",
    "**sorted(iterable, key=None, reverse=False)**"
   ]
  },
  {
   "cell_type": "code",
   "execution_count": 51,
   "id": "850014cf-561c-4065-88b1-f8376ec7108a",
   "metadata": {},
   "outputs": [],
   "source": [
    "# Ordena la siguiente lista por orden de longitud de los nombres\n",
    "nombres = [\"Sophie\", \"Xochitl\", \"Eric\", \"Diego\", \"Eva\"]\n"
   ]
  },
  {
   "cell_type": "code",
   "execution_count": 52,
   "id": "6d1a418b-34e8-4a48-9638-56c2fa0c4f8f",
   "metadata": {},
   "outputs": [
    {
     "data": {
      "text/plain": [
       "['Diego', 'Eric', 'Eva', 'Sophie', 'Xochitl']"
      ]
     },
     "execution_count": 52,
     "metadata": {},
     "output_type": "execute_result"
    }
   ],
   "source": [
    "sorted(nombres)"
   ]
  },
  {
   "cell_type": "code",
   "execution_count": 53,
   "id": "7487f61e-dcda-439d-9089-15a8f08a1330",
   "metadata": {},
   "outputs": [
    {
     "ename": "TypeError",
     "evalue": "'int' object is not callable",
     "output_type": "error",
     "traceback": [
      "\u001b[1;31m---------------------------------------------------------------------------\u001b[0m",
      "\u001b[1;31mTypeError\u001b[0m                                 Traceback (most recent call last)",
      "Cell \u001b[1;32mIn[53], line 1\u001b[0m\n\u001b[1;32m----> 1\u001b[0m \u001b[38;5;28;43msorted\u001b[39;49m\u001b[43m(\u001b[49m\u001b[43mnombres\u001b[49m\u001b[43m,\u001b[49m\u001b[43m \u001b[49m\u001b[43mkey\u001b[49m\u001b[38;5;241;43m=\u001b[39;49m\u001b[38;5;28;43mlen\u001b[39;49m\u001b[43m(\u001b[49m\u001b[43mnombres\u001b[49m\u001b[43m)\u001b[49m\u001b[43m)\u001b[49m\n",
      "\u001b[1;31mTypeError\u001b[0m: 'int' object is not callable"
     ]
    }
   ],
   "source": [
    "sorted(nombres, key=len(nombres))"
   ]
  },
  {
   "cell_type": "code",
   "execution_count": 54,
   "id": "b08138cc-7811-4428-8157-3eb96dc651f5",
   "metadata": {},
   "outputs": [
    {
     "data": {
      "text/plain": [
       "['Eva', 'Eric', 'Diego', 'Sophie', 'Xochitl']"
      ]
     },
     "execution_count": 54,
     "metadata": {},
     "output_type": "execute_result"
    }
   ],
   "source": [
    "sorted(nombres, key=lambda name: len(name))"
   ]
  },
  {
   "cell_type": "code",
   "execution_count": 55,
   "id": "b4bc8117-d645-4a30-b4c7-5df9b201a46b",
   "metadata": {},
   "outputs": [
    {
     "data": {
      "text/plain": [
       "['Xochitl', 'Sophie', 'Diego', 'Eric', 'Eva']"
      ]
     },
     "execution_count": 55,
     "metadata": {},
     "output_type": "execute_result"
    }
   ],
   "source": [
    "sorted(nombres, key=lambda name: len(name), reverse=True)"
   ]
  },
  {
   "cell_type": "markdown",
   "id": "97eccca9-d9ee-4344-ac38-8a2cf20e755d",
   "metadata": {},
   "source": [
    "## 2.4 apply()\n",
    "Es utilizado para aplicar funciones de un eje de un DataFrame."
   ]
  },
  {
   "cell_type": "code",
   "execution_count": 70,
   "id": "600abd1c-df6a-428c-93bb-ece0be13d758",
   "metadata": {},
   "outputs": [],
   "source": [
    "df = pd.DataFrame({'Producto': [\"Helado\", \"Pan\", \"Shampoo\", \"Desodorante\"],\n",
    "    'Precio': [24, 8, 67, 50]})"
   ]
  },
  {
   "cell_type": "code",
   "execution_count": 71,
   "id": "bbc70596-7683-4832-b4d6-2fda78e537aa",
   "metadata": {},
   "outputs": [
    {
     "ename": "AttributeError",
     "evalue": "'Series' object has no attribute 'upper'",
     "output_type": "error",
     "traceback": [
      "\u001b[1;31m---------------------------------------------------------------------------\u001b[0m",
      "\u001b[1;31mAttributeError\u001b[0m                            Traceback (most recent call last)",
      "\u001b[1;32m~\\AppData\\Local\\Temp\\ipykernel_22728\\2716095996.py\u001b[0m in \u001b[0;36m?\u001b[1;34m()\u001b[0m\n\u001b[1;32m----> 1\u001b[1;33m \u001b[0mdf\u001b[0m\u001b[1;33m[\u001b[0m\u001b[1;34m\"Producto\"\u001b[0m\u001b[1;33m]\u001b[0m\u001b[1;33m.\u001b[0m\u001b[0mupper\u001b[0m\u001b[1;33m(\u001b[0m\u001b[1;33m)\u001b[0m\u001b[1;33m\u001b[0m\u001b[1;33m\u001b[0m\u001b[0m\n\u001b[0m",
      "\u001b[1;32m~\\Documents\\WPy64-31160\\python-3.11.6.amd64\\Lib\\site-packages\\pandas\\core\\generic.py\u001b[0m in \u001b[0;36m?\u001b[1;34m(self, name)\u001b[0m\n\u001b[0;32m   6200\u001b[0m             \u001b[1;32mand\u001b[0m \u001b[0mname\u001b[0m \u001b[1;32mnot\u001b[0m \u001b[1;32min\u001b[0m \u001b[0mself\u001b[0m\u001b[1;33m.\u001b[0m\u001b[0m_accessors\u001b[0m\u001b[1;33m\u001b[0m\u001b[1;33m\u001b[0m\u001b[0m\n\u001b[0;32m   6201\u001b[0m             \u001b[1;32mand\u001b[0m \u001b[0mself\u001b[0m\u001b[1;33m.\u001b[0m\u001b[0m_info_axis\u001b[0m\u001b[1;33m.\u001b[0m\u001b[0m_can_hold_identifiers_and_holds_name\u001b[0m\u001b[1;33m(\u001b[0m\u001b[0mname\u001b[0m\u001b[1;33m)\u001b[0m\u001b[1;33m\u001b[0m\u001b[1;33m\u001b[0m\u001b[0m\n\u001b[0;32m   6202\u001b[0m         ):\n\u001b[0;32m   6203\u001b[0m             \u001b[1;32mreturn\u001b[0m \u001b[0mself\u001b[0m\u001b[1;33m[\u001b[0m\u001b[0mname\u001b[0m\u001b[1;33m]\u001b[0m\u001b[1;33m\u001b[0m\u001b[1;33m\u001b[0m\u001b[0m\n\u001b[1;32m-> 6204\u001b[1;33m         \u001b[1;32mreturn\u001b[0m \u001b[0mobject\u001b[0m\u001b[1;33m.\u001b[0m\u001b[0m__getattribute__\u001b[0m\u001b[1;33m(\u001b[0m\u001b[0mself\u001b[0m\u001b[1;33m,\u001b[0m \u001b[0mname\u001b[0m\u001b[1;33m)\u001b[0m\u001b[1;33m\u001b[0m\u001b[1;33m\u001b[0m\u001b[0m\n\u001b[0m",
      "\u001b[1;31mAttributeError\u001b[0m: 'Series' object has no attribute 'upper'"
     ]
    }
   ],
   "source": [
    "df[\"Producto\"].upper()"
   ]
  },
  {
   "cell_type": "code",
   "execution_count": 72,
   "id": "162048c0-2afb-4f9f-bcaf-aeb8fff11782",
   "metadata": {},
   "outputs": [
    {
     "data": {
      "text/plain": [
       "0         HELADO\n",
       "1            PAN\n",
       "2        SHAMPOO\n",
       "3    DESODORANTE\n",
       "Name: Producto, dtype: object"
      ]
     },
     "execution_count": 72,
     "metadata": {},
     "output_type": "execute_result"
    }
   ],
   "source": [
    "df[\"Producto\"].apply(lambda nombre: nombre.upper())"
   ]
  },
  {
   "cell_type": "code",
   "execution_count": 82,
   "id": "11c4b530-53e8-4940-83dc-507bbd3f07b0",
   "metadata": {},
   "outputs": [],
   "source": [
    "def barato(precio):\n",
    "    if precio <= 30:\n",
    "        print(\"Barato\")\n",
    "    else:\n",
    "        print(\"Caro\")"
   ]
  },
  {
   "cell_type": "code",
   "execution_count": 81,
   "id": "a1e7ed5d-62d9-4b45-931e-b6f12c1f3fa0",
   "metadata": {},
   "outputs": [
    {
     "data": {
      "text/plain": [
       "0    Barato\n",
       "1    Barato\n",
       "2      Caro\n",
       "3      Caro\n",
       "Name: Precio, dtype: object"
      ]
     },
     "execution_count": 81,
     "metadata": {},
     "output_type": "execute_result"
    }
   ],
   "source": [
    "df.Precio.apply(barato)"
   ]
  },
  {
   "cell_type": "code",
   "execution_count": 83,
   "id": "389f2d52-515c-4e46-b2de-757bef92253f",
   "metadata": {},
   "outputs": [
    {
     "data": {
      "text/plain": [
       "0    Barato\n",
       "1    Barato\n",
       "2      Caro\n",
       "3      Caro\n",
       "Name: Precio, dtype: object"
      ]
     },
     "execution_count": 83,
     "metadata": {},
     "output_type": "execute_result"
    }
   ],
   "source": [
    "df.Precio.apply(lambda precio: \"Barato\" if precio <= 30 else \"Caro\")"
   ]
  },
  {
   "cell_type": "code",
   "execution_count": 85,
   "id": "745feac3-6e85-4950-b7b3-fee682f5a0ef",
   "metadata": {},
   "outputs": [
    {
     "data": {
      "text/plain": [
       "0    Helado_0    24\\n1     8\\n2    67\\n3    50\\nNam...\n",
       "1    Pan_0    24\\n1     8\\n2    67\\n3    50\\nName: ...\n",
       "2    Shampoo_0    24\\n1     8\\n2    67\\n3    50\\nNa...\n",
       "3    Desodorante_0    24\\n1     8\\n2    67\\n3    50...\n",
       "Name: Producto, dtype: object"
      ]
     },
     "execution_count": 85,
     "metadata": {},
     "output_type": "execute_result"
    }
   ],
   "source": [
    "df[\"Producto\"]+\"_\"+str(df[\"Precio\"])"
   ]
  },
  {
   "cell_type": "code",
   "execution_count": 92,
   "id": "50ff3c27-bfbe-4549-b05c-b7cc0e1f46cf",
   "metadata": {},
   "outputs": [
    {
     "data": {
      "text/plain": [
       "0         Helado_24\n",
       "1             Pan_8\n",
       "2        Shampoo_67\n",
       "3    Desodorante_50\n",
       "dtype: object"
      ]
     },
     "execution_count": 92,
     "metadata": {},
     "output_type": "execute_result"
    }
   ],
   "source": [
    "df.apply(lambda column: (column[\"Producto\"]+\"_\"+str(column[\"Precio\"])), axis=1)"
   ]
  },
  {
   "cell_type": "code",
   "execution_count": null,
   "id": "bde31c07-a91d-4445-ae6d-6f32d7a8a867",
   "metadata": {},
   "outputs": [],
   "source": []
  },
  {
   "cell_type": "markdown",
   "id": "2f0396c1-229b-472f-b11a-863c55698db2",
   "metadata": {},
   "source": [
    "## Ejercicios\n"
   ]
  },
  {
   "cell_type": "markdown",
   "id": "231b80ed-456e-4de4-9382-987d83d6f748",
   "metadata": {},
   "source": [
    "1. Dadas dos listas, donde la primer lista son bases y la segunda lista son exponentes, calcula la potencia de cada base elevada al exponente correspondiente\n",
    "\n",
    "Input:\n",
    "\n",
    "base = [7,20,5]\n",
    "\n",
    "exp = [2,4,5]\n",
    "\n",
    "Output:\n",
    "\n",
    "[49, 160000, 3125]"
   ]
  },
  {
   "cell_type": "code",
   "execution_count": 56,
   "id": "09b36f3d-ce97-44a8-8197-0434e04c0379",
   "metadata": {},
   "outputs": [
    {
     "data": {
      "text/plain": [
       "[49, 160000, 3125]"
      ]
     },
     "execution_count": 56,
     "metadata": {},
     "output_type": "execute_result"
    }
   ],
   "source": [
    "base = [7,20,5]\n",
    "exp = [2,4,5]\n",
    "\n",
    "list(map(lambda x, y: x**y, base, exp))"
   ]
  },
  {
   "cell_type": "markdown",
   "id": "647754e6-00d6-4299-8a84-416ed46f8eb6",
   "metadata": {},
   "source": [
    "2. Ordena la siguiente lista de acuerdo al orden alfabético del tercer elemento de cada tupla\n",
    "\n",
    "Input:\n",
    "\n",
    "tuplas = [(2,\"kg\",\"verdura\"),(3,\"pieza\",\"pan\"),(1,\"litro\",\"leche\")]\n",
    "\n",
    "Output:\n",
    "\n",
    "[(1, 'litro', 'leche'), (3, 'pieza', 'pan'), (2, 'kg', 'verdura')]"
   ]
  },
  {
   "cell_type": "code",
   "execution_count": 58,
   "id": "4c787f00-e931-41ac-b2f2-5997e5d3c5b8",
   "metadata": {},
   "outputs": [
    {
     "data": {
      "text/plain": [
       "[(1, 'litro', 'leche'), (3, 'pieza', 'pan'), (2, 'kg', 'verdura')]"
      ]
     },
     "execution_count": 58,
     "metadata": {},
     "output_type": "execute_result"
    }
   ],
   "source": [
    "tuplas = [(2,\"kg\",\"verdura\"),(3,\"pieza\",\"pan\"),(1,\"litro\",\"leche\")]\n",
    "\n",
    "sorted(tuplas, key=lambda tupla: tupla[2])"
   ]
  },
  {
   "cell_type": "code",
   "execution_count": 68,
   "id": "a21f59f6-8c9b-4d44-a838-5740adfa4840",
   "metadata": {},
   "outputs": [
    {
     "name": "stdout",
     "output_type": "stream",
     "text": [
      "  Nombre Completo Nombre Normalizado\n",
      "0       ana perez          Ana Perez\n",
      "1     LUIS GARCÍA        Luis García\n",
      "2    carlos saenz       Carlos Saenz\n",
      "3     María López        María López\n"
     ]
    }
   ],
   "source": [
    "# Crear un DataFrame de ejemplo\n",
    "df = pd.DataFrame({\n",
    "    'Nombre Completo': ['ana perez', 'LUIS GARCÍA', 'carlos saenz', 'María López']\n",
    "})\n",
    "\n",
    "# Aplicar una función lambda para normalizar el formato de nombres\n",
    "df['Nombre Normalizado'] = df['Nombre Completo'].apply(lambda x: ' '.join(word.capitalize() for word in x.split()))\n",
    "print(df)"
   ]
  },
  {
   "cell_type": "code",
   "execution_count": null,
   "id": "44018f68-204c-4fbf-96b6-3464a21bda57",
   "metadata": {},
   "outputs": [],
   "source": []
  }
 ],
 "metadata": {
  "kernelspec": {
   "display_name": "Python 3 (ipykernel)",
   "language": "python",
   "name": "python3"
  },
  "language_info": {
   "codemirror_mode": {
    "name": "ipython",
    "version": 3
   },
   "file_extension": ".py",
   "mimetype": "text/x-python",
   "name": "python",
   "nbconvert_exporter": "python",
   "pygments_lexer": "ipython3",
   "version": "3.11.6"
  }
 },
 "nbformat": 4,
 "nbformat_minor": 5
}
