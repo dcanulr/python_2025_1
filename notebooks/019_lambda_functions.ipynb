{
 "cells": [
  {
   "cell_type": "markdown",
   "id": "06af908a-ca7e-41b1-95db-da9509e5a283",
   "metadata": {},
   "source": [
    "## Funciones lambda\n",
    "Una función lambda es como una función definida por el usuario (las que hemos creado con **def**) pero sin nombre, también son conocidas como funciones anónimas."
   ]
  },
  {
   "cell_type": "markdown",
   "id": "2e458eb8-659a-49eb-83bc-b3044399d81d",
   "metadata": {},
   "source": [
    "![](../lambda.png)"
   ]
  },
  {
   "cell_type": "code",
   "execution_count": 2,
   "id": "2f373196-6127-4df2-9b79-ddb90de956ad",
   "metadata": {},
   "outputs": [],
   "source": [
    "def potencia(num):\n",
    "    return num**2"
   ]
  },
  {
   "cell_type": "code",
   "execution_count": 4,
   "id": "65a9b696-b7ce-41e7-a9d8-9debff9169a2",
   "metadata": {},
   "outputs": [],
   "source": [
    "pot_lam = lambda num: num**2"
   ]
  },
  {
   "cell_type": "code",
   "execution_count": 5,
   "id": "8f83b075-bf31-447c-ac6f-05b86801dd6b",
   "metadata": {},
   "outputs": [
    {
     "data": {
      "text/plain": [
       "9"
      ]
     },
     "execution_count": 5,
     "metadata": {},
     "output_type": "execute_result"
    }
   ],
   "source": [
    "pot_lam(3)"
   ]
  },
  {
   "cell_type": "code",
   "execution_count": null,
   "id": "dad03783-65ec-4656-8ca4-021048a58b60",
   "metadata": {},
   "outputs": [],
   "source": []
  }
 ],
 "metadata": {
  "kernelspec": {
   "display_name": "Python 3 (ipykernel)",
   "language": "python",
   "name": "python3"
  },
  "language_info": {
   "codemirror_mode": {
    "name": "ipython",
    "version": 3
   },
   "file_extension": ".py",
   "mimetype": "text/x-python",
   "name": "python",
   "nbconvert_exporter": "python",
   "pygments_lexer": "ipython3",
   "version": "3.11.6"
  }
 },
 "nbformat": 4,
 "nbformat_minor": 5
}
