{
 "cells": [
  {
   "cell_type": "markdown",
   "id": "dc90ac2f-8297-4081-8cb1-b2d4eb2b4ece",
   "metadata": {},
   "source": [
    "## Al estilo de la vieja escuela"
   ]
  },
  {
   "cell_type": "markdown",
   "id": "0c348417-85f7-4b17-943c-27a1e3e7710c",
   "metadata": {},
   "source": [
    "### 1. Concatenación"
   ]
  },
  {
   "cell_type": "code",
   "execution_count": 2,
   "id": "681e57c9-6c1b-467d-b373-0730e80956ed",
   "metadata": {},
   "outputs": [],
   "source": [
    "uno = \"Hola\"\n",
    "dos = \"Mundo\""
   ]
  },
  {
   "cell_type": "code",
   "execution_count": 4,
   "id": "ca53a14a-6a19-4657-97c8-202a9de969a5",
   "metadata": {},
   "outputs": [
    {
     "data": {
      "text/plain": [
       "'HolaMundo'"
      ]
     },
     "execution_count": 4,
     "metadata": {},
     "output_type": "execute_result"
    }
   ],
   "source": [
    "uno + dos"
   ]
  },
  {
   "cell_type": "code",
   "execution_count": 5,
   "id": "70a52cf9-9d02-4b4f-9292-8d830989fb6e",
   "metadata": {},
   "outputs": [
    {
     "data": {
      "text/plain": [
       "'Hola Mundo'"
      ]
     },
     "execution_count": 5,
     "metadata": {},
     "output_type": "execute_result"
    }
   ],
   "source": [
    "uno + \" \" + dos"
   ]
  },
  {
   "cell_type": "code",
   "execution_count": 1,
   "id": "3783df41-fac8-4c1d-92a9-698883298e07",
   "metadata": {},
   "outputs": [],
   "source": [
    "nombre = \"Diego\"\n",
    "edad = 28"
   ]
  },
  {
   "cell_type": "code",
   "execution_count": 43,
   "id": "c2a7e7f2-aab4-4f7b-babd-f6db4b418030",
   "metadata": {},
   "outputs": [
    {
     "ename": "TypeError",
     "evalue": "can only concatenate str (not \"int\") to str",
     "output_type": "error",
     "traceback": [
      "\u001b[1;31m---------------------------------------------------------------------------\u001b[0m",
      "\u001b[1;31mTypeError\u001b[0m                                 Traceback (most recent call last)",
      "Cell \u001b[1;32mIn[43], line 1\u001b[0m\n\u001b[1;32m----> 1\u001b[0m \u001b[38;5;124;43m\"\u001b[39;49m\u001b[38;5;124;43mHola mi nombre es \u001b[39;49m\u001b[38;5;124;43m\"\u001b[39;49m\u001b[43m \u001b[49m\u001b[38;5;241;43m+\u001b[39;49m\u001b[43m \u001b[49m\u001b[43mnombre\u001b[49m\u001b[43m \u001b[49m\u001b[38;5;241;43m+\u001b[39;49m\u001b[43m \u001b[49m\u001b[38;5;124;43m\"\u001b[39;49m\u001b[38;5;124;43my tengo \u001b[39;49m\u001b[38;5;124;43m\"\u001b[39;49m\u001b[43m \u001b[49m\u001b[38;5;241;43m+\u001b[39;49m\u001b[43m \u001b[49m\u001b[43medad\u001b[49m \u001b[38;5;241m+\u001b[39m \u001b[38;5;124m\"\u001b[39m\u001b[38;5;124maños\u001b[39m\u001b[38;5;124m\"\u001b[39m\n",
      "\u001b[1;31mTypeError\u001b[0m: can only concatenate str (not \"int\") to str"
     ]
    }
   ],
   "source": [
    "\"Hola mi nombre es \" + nombre + \"y tengo \" + edad + \"años\""
   ]
  },
  {
   "cell_type": "code",
   "execution_count": 9,
   "id": "c5ee916a-1aab-434f-b576-ca7a35f90c70",
   "metadata": {},
   "outputs": [
    {
     "data": {
      "text/plain": [
       "'Hola mi nombre es Diego y tengo 28 años.'"
      ]
     },
     "execution_count": 9,
     "metadata": {},
     "output_type": "execute_result"
    }
   ],
   "source": [
    "mensaje = \"Hola mi nombre es \" + nombre + \" y tengo \" + str(edad) + \" años\"\n",
    "mensaje"
   ]
  },
  {
   "cell_type": "code",
   "execution_count": 16,
   "id": "ea95e518-d6dd-4cc7-a516-0be124a8aa57",
   "metadata": {},
   "outputs": [
    {
     "ename": "SyntaxError",
     "evalue": "invalid syntax (153126681.py, line 1)",
     "output_type": "error",
     "traceback": [
      "\u001b[1;36m  Cell \u001b[1;32mIn[16], line 1\u001b[1;36m\u001b[0m\n\u001b[1;33m    mensaje = \"Hola mi nombre es \" + nombre + \" y tengo \" + str(edad) + \" años. Este año cumplo\" + str(edad+1) + \"años\".\u001b[0m\n\u001b[1;37m                                                                                                                        ^\u001b[0m\n\u001b[1;31mSyntaxError\u001b[0m\u001b[1;31m:\u001b[0m invalid syntax\n"
     ]
    }
   ],
   "source": [
    "\"Hola mi nombre es \" + nombre + \" y tengo \" + str(edad) + \" años. Este año cumplo\" + str(edad+1) + \"años\".\n"
   ]
  },
  {
   "cell_type": "code",
   "execution_count": 45,
   "id": "186e6c99-72e7-4982-89cb-a995cbcf04a1",
   "metadata": {},
   "outputs": [
    {
     "data": {
      "text/plain": [
       "'Hola mi nombre es diego canul y tengo 28 años. Este año cumplo 29 años'"
      ]
     },
     "execution_count": 45,
     "metadata": {},
     "output_type": "execute_result"
    }
   ],
   "source": [
    "\"Hola mi nombre es \" + nombre + \" y tengo \" + str(edad) + \" años. Este año cumplo \" + str(edad+1) + \" años\"\n"
   ]
  },
  {
   "cell_type": "markdown",
   "id": "ef66b762-93a2-42ca-9e6f-d5b0655b0c99",
   "metadata": {},
   "source": [
    "**Limitaciones:**\n",
    "- Poca legibilidad, especialmente con muchas variables (falta de narrativa).\n",
    "- Necesidad de convertir tipos no string (int, float, etc.) manualmente usando str()."
   ]
  },
  {
   "cell_type": "markdown",
   "id": "ef7e16b3-9189-471c-96b4-5d4316210def",
   "metadata": {},
   "source": [
    "### 2. El operador % "
   ]
  },
  {
   "cell_type": "code",
   "execution_count": 19,
   "id": "e449128d-8011-40b5-9c05-74defba0058b",
   "metadata": {},
   "outputs": [],
   "source": [
    "nombre = \"Diego\"\n",
    "edad = 28"
   ]
  },
  {
   "cell_type": "code",
   "execution_count": 46,
   "id": "5adab753-b432-4cfc-a938-f42df2e85b8b",
   "metadata": {},
   "outputs": [
    {
     "data": {
      "text/plain": [
       "'Hola mi nombre es diego canul y tengo 28.000000 años.'"
      ]
     },
     "execution_count": 46,
     "metadata": {},
     "output_type": "execute_result"
    }
   ],
   "source": [
    "\"Hola mi nombre es %s y tengo %f años.\"%(nombre, edad)\n"
   ]
  },
  {
   "cell_type": "code",
   "execution_count": 47,
   "id": "9bdb8c4e-df10-4def-bff8-e0f20aacf978",
   "metadata": {},
   "outputs": [
    {
     "data": {
      "text/plain": [
       "'Hola mi nombre es diego canul y tengo 28'"
      ]
     },
     "execution_count": 47,
     "metadata": {},
     "output_type": "execute_result"
    }
   ],
   "source": [
    "\"Hola mi nombre es %s y tengo %d\"%(nombre, edad)\n"
   ]
  },
  {
   "cell_type": "code",
   "execution_count": 48,
   "id": "b7ac5004-0408-4df9-8918-b42c1747ff11",
   "metadata": {},
   "outputs": [
    {
     "data": {
      "text/plain": [
       "'Hola mi nombre es diego canul y tengo 28 años, este año cumplo 29'"
      ]
     },
     "execution_count": 48,
     "metadata": {},
     "output_type": "execute_result"
    }
   ],
   "source": [
    "\"Hola mi nombre es %s y tengo %d años, este año cumplo %d\"%(nombre, edad, edad+1)\n"
   ]
  },
  {
   "cell_type": "markdown",
   "id": "d968ea05-6535-4135-af4d-48d32570a712",
   "metadata": {},
   "source": [
    "**Ventajas:**\n",
    "- Más limpio que la concatenación simple.\n",
    "\n",
    "**Limitaciones:**\n",
    "- Dificultad para formatear correctamente números y otros tipos de datos.\n",
    "- Poco intuitivo y difícil de mantener en strings complejas."
   ]
  },
  {
   "cell_type": "markdown",
   "id": "91e1ccd7-1ba5-4a71-8777-647248ef4821",
   "metadata": {},
   "source": [
    "### 3. El método .format"
   ]
  },
  {
   "cell_type": "code",
   "execution_count": 25,
   "id": "ce8f7c37-dedf-49ec-bcd4-20262c111c34",
   "metadata": {},
   "outputs": [],
   "source": [
    "nombre = \"Diego\"\n",
    "edad = 28"
   ]
  },
  {
   "cell_type": "code",
   "execution_count": 49,
   "id": "b6ecb143-2c13-4aeb-b7b5-6454a6ba01e0",
   "metadata": {},
   "outputs": [
    {
     "data": {
      "text/plain": [
       "'Hola mi nombre es diego canul y tengo 28 años.'"
      ]
     },
     "execution_count": 49,
     "metadata": {},
     "output_type": "execute_result"
    }
   ],
   "source": [
    "\"Hola mi nombre es {} y tengo {} años.\".format(nombre, edad)\n"
   ]
  },
  {
   "cell_type": "code",
   "execution_count": 50,
   "id": "d824adab-798b-43f7-ac25-d17a2ef97d59",
   "metadata": {},
   "outputs": [
    {
     "data": {
      "text/plain": [
       "'Hola mi nombre es diego canul y tengo 28 años.'"
      ]
     },
     "execution_count": 50,
     "metadata": {},
     "output_type": "execute_result"
    }
   ],
   "source": [
    "\"Hola mi nombre es {} y tengo {} años.\".format(nombre, edad, edad+1)\n"
   ]
  },
  {
   "cell_type": "code",
   "execution_count": 51,
   "id": "22670d1b-ce1f-4864-96a4-1767433d2243",
   "metadata": {},
   "outputs": [
    {
     "data": {
      "text/plain": [
       "'Hola mi nombre es diego canul y tengo 29 años.'"
      ]
     },
     "execution_count": 51,
     "metadata": {},
     "output_type": "execute_result"
    }
   ],
   "source": [
    "\"Hola mi nombre es {0} y tengo {2} años.\".format(nombre, edad, edad+1)\n"
   ]
  },
  {
   "cell_type": "code",
   "execution_count": 52,
   "id": "3b34b040-3116-4b30-89a1-fcdf20a24676",
   "metadata": {},
   "outputs": [
    {
     "data": {
      "text/plain": [
       "'Hola mi nombre es Juan y tengo 25 años.'"
      ]
     },
     "execution_count": 52,
     "metadata": {},
     "output_type": "execute_result"
    }
   ],
   "source": [
    "\"Hola mi nombre es {nombre} y tengo {edad} años.\".format(nombre=\"Juan\", edad=25)"
   ]
  },
  {
   "cell_type": "markdown",
   "id": "c06c48d1-071a-4f21-b23a-dbbf96391f32",
   "metadata": {},
   "source": [
    "**Ventajas:**\n",
    "- Más legible y flexible que las opciones anteriores.\n",
    "\n",
    "**Limitaciones:**\n",
    "- Puede ser verboso y repetitivo, especialmente cuando hay muchas variables o formateo complejo."
   ]
  },
  {
   "cell_type": "markdown",
   "id": "6b91f31c-0861-471e-a2a2-4a484918f3b2",
   "metadata": {},
   "source": [
    "## El estilo más pythonico: f-strings"
   ]
  },
  {
   "cell_type": "code",
   "execution_count": 38,
   "id": "00ead4e1-2b3a-4fc9-a726-45730c8985af",
   "metadata": {},
   "outputs": [],
   "source": [
    "nombre = \"diego canul\"\n",
    "edad = 28"
   ]
  },
  {
   "cell_type": "code",
   "execution_count": 39,
   "id": "1373fec9-47e0-45c2-8614-9fea0f8cbcb0",
   "metadata": {},
   "outputs": [],
   "source": [
    "mensaje = f\"Hola mi nombre es {nombre} y tengo {edad} años\""
   ]
  },
  {
   "cell_type": "code",
   "execution_count": 40,
   "id": "a19ecac6-2802-4191-bdeb-9e26b277cd96",
   "metadata": {},
   "outputs": [
    {
     "data": {
      "text/plain": [
       "'Hola mi nombre es diego canul y tengo 28 años'"
      ]
     },
     "execution_count": 40,
     "metadata": {},
     "output_type": "execute_result"
    }
   ],
   "source": [
    "mensaje"
   ]
  },
  {
   "cell_type": "code",
   "execution_count": 41,
   "id": "a824a8f1-7aa5-43c5-8db6-c853baf80a14",
   "metadata": {},
   "outputs": [
    {
     "data": {
      "text/plain": [
       "'Hola mi nombre es <built-in method title of str object at 0x0000023BB01B2A70> y tengo 28 años'"
      ]
     },
     "execution_count": 41,
     "metadata": {},
     "output_type": "execute_result"
    }
   ],
   "source": [
    "f\"Hola mi nombre es {nombre.title} y tengo {edad} años\""
   ]
  },
  {
   "cell_type": "code",
   "execution_count": 42,
   "id": "bfd8caaa-2b5e-4042-ace1-4a1ce69c0a87",
   "metadata": {},
   "outputs": [
    {
     "data": {
      "text/plain": [
       "'Hola mi nombre es Diego Canul y tengo 28 años'"
      ]
     },
     "execution_count": 42,
     "metadata": {},
     "output_type": "execute_result"
    }
   ],
   "source": [
    "f\"Hola mi nombre es {nombre.title()} y tengo {edad} años\""
   ]
  },
  {
   "cell_type": "code",
   "execution_count": 53,
   "id": "efcb7dbe-f282-462f-b900-dac9150217c9",
   "metadata": {},
   "outputs": [
    {
     "data": {
      "text/plain": [
       "'Hola mi nombre es Diego canul y tengo 28 años'"
      ]
     },
     "execution_count": 53,
     "metadata": {},
     "output_type": "execute_result"
    }
   ],
   "source": [
    "f\"Hola mi nombre es {nombre.capitalize()} y tengo {edad} años\""
   ]
  },
  {
   "cell_type": "code",
   "execution_count": 54,
   "id": "43abf026-3e33-4c01-918f-cfca9f69ffbe",
   "metadata": {},
   "outputs": [
    {
     "data": {
      "text/plain": [
       "'Hola mi nombre es DIEGO CANUL y tengo 28 años'"
      ]
     },
     "execution_count": 54,
     "metadata": {},
     "output_type": "execute_result"
    }
   ],
   "source": [
    "f\"Hola mi nombre es {nombre.upper()} y tengo {edad} años\""
   ]
  },
  {
   "cell_type": "code",
   "execution_count": 55,
   "id": "52ec5416-86bf-49f2-8e8a-fb1250ce089c",
   "metadata": {},
   "outputs": [
    {
     "data": {
      "text/plain": [
       "'Hola mi nombre es diego y tengo 28 años'"
      ]
     },
     "execution_count": 55,
     "metadata": {},
     "output_type": "execute_result"
    }
   ],
   "source": [
    "f\"Hola mi nombre es {nombre[:-6]} y tengo {edad} años\""
   ]
  },
  {
   "cell_type": "code",
   "execution_count": 56,
   "id": "bfa00b1d-f398-492e-baa0-12392f3c675c",
   "metadata": {},
   "outputs": [
    {
     "data": {
      "text/plain": [
       "'Hola mi nombre es Diego y tengo 28 años'"
      ]
     },
     "execution_count": 56,
     "metadata": {},
     "output_type": "execute_result"
    }
   ],
   "source": [
    "f\"Hola mi nombre es {nombre[:-6].capitalize()} y tengo {edad} años\""
   ]
  },
  {
   "cell_type": "markdown",
   "id": "c630f4ef-ae65-4a12-a24f-6d3c9d784819",
   "metadata": {},
   "source": [
    "**Ventajas de f-strings:**\n",
    "- Legibilidad: El código es más fácil de leer y escribir.\n",
    "- Potencia: Permiten evaluaciones de expresiones complejas.\n",
    "- Flexibilidad: Soporta formateo avanzado de números y otros tipos de datos."
   ]
  },
  {
   "cell_type": "code",
   "execution_count": 57,
   "id": "b79402ef-ac97-4cad-b825-df5aba153404",
   "metadata": {},
   "outputs": [
    {
     "data": {
      "text/plain": [
       "'En 5 años diego canul tendrá 33 años'"
      ]
     },
     "execution_count": 57,
     "metadata": {},
     "output_type": "execute_result"
    }
   ],
   "source": [
    "f\"En 5 años {nombre} tendrá {edad+5} años\""
   ]
  },
  {
   "cell_type": "code",
   "execution_count": 58,
   "id": "82ec2f47-b054-4cd9-9743-eea66619bd94",
   "metadata": {},
   "outputs": [],
   "source": [
    "pi = 3.14159"
   ]
  },
  {
   "cell_type": "code",
   "execution_count": 60,
   "id": "d0c0ac5a-bedf-4597-a03c-50410633ce54",
   "metadata": {},
   "outputs": [
    {
     "data": {
      "text/plain": [
       "'El valor aproximado de pi es 3.14'"
      ]
     },
     "execution_count": 60,
     "metadata": {},
     "output_type": "execute_result"
    }
   ],
   "source": [
    "f\"El valor aproximado de pi es {pi:.2f}\""
   ]
  },
  {
   "cell_type": "code",
   "execution_count": 61,
   "id": "4ca2132a-688d-4ac5-908b-7eb77d8efa4c",
   "metadata": {},
   "outputs": [],
   "source": [
    "num = 1000000"
   ]
  },
  {
   "cell_type": "code",
   "execution_count": 62,
   "id": "46726785-47ee-49d5-bafd-09cc59087e3f",
   "metadata": {},
   "outputs": [
    {
     "data": {
      "text/plain": [
       "'El número es 1,000,000.'"
      ]
     },
     "execution_count": 62,
     "metadata": {},
     "output_type": "execute_result"
    }
   ],
   "source": [
    "f\"El número es {num:,}.\"\n"
   ]
  },
  {
   "cell_type": "code",
   "execution_count": 66,
   "id": "32a0f23d-adb2-41a5-beee-fc9911fa3bc9",
   "metadata": {},
   "outputs": [
    {
     "data": {
      "text/plain": [
       "'Estamos en la libreta 007'"
      ]
     },
     "execution_count": 66,
     "metadata": {},
     "output_type": "execute_result"
    }
   ],
   "source": [
    "numero = 7\n",
    "f\"Estamos en la libreta {numero:03d}\""
   ]
  },
  {
   "cell_type": "code",
   "execution_count": 67,
   "id": "2e702e86-9cc5-41e7-a0e0-e9658efdabf0",
   "metadata": {},
   "outputs": [
    {
     "data": {
      "text/plain": [
       "'El próximo mes será la libreta 023'"
      ]
     },
     "execution_count": 67,
     "metadata": {},
     "output_type": "execute_result"
    }
   ],
   "source": [
    "numero = 23\n",
    "f\"El próximo mes será la libreta {numero:03d}\""
   ]
  },
  {
   "cell_type": "markdown",
   "id": "5e67b079-699e-49c4-9b51-d033cd27cf65",
   "metadata": {},
   "source": [
    "### E1: \n",
    "Dado un día, mes y año como variables enteras, crea una f-string que imprima la fecha en el formato dd/mm/aaaa, asegurándote de que el día y el mes siempre tengan dos dígitos."
   ]
  },
  {
   "cell_type": "code",
   "execution_count": 71,
   "id": "7a24ab47-74c7-42c0-88c2-a2335bb3f278",
   "metadata": {},
   "outputs": [],
   "source": [
    "dia = 20\n",
    "mes = 8\n",
    "año = 2024\n",
    "\n",
    "# Resultado esperado: La fecha de hoy es 20/08/2024"
   ]
  },
  {
   "cell_type": "code",
   "execution_count": 72,
   "id": "88fb83cf-de79-4c24-b185-a511177366fa",
   "metadata": {},
   "outputs": [
    {
     "data": {
      "text/plain": [
       "'La fecha de hoy es 20/08/2024'"
      ]
     },
     "execution_count": 72,
     "metadata": {},
     "output_type": "execute_result"
    }
   ],
   "source": [
    "f\"La fecha de hoy es {dia:02d}/{mes:02d}/{año}\""
   ]
  },
  {
   "cell_type": "markdown",
   "id": "720fd34b-eeff-464c-9b2c-4e4dc720950d",
   "metadata": {},
   "source": [
    "### E2:\n",
    "Dada una lista de productos con sus precios, utiliza una f-string para imprimir cada producto con su precio, formateado a dos decimales."
   ]
  },
  {
   "cell_type": "code",
   "execution_count": 73,
   "id": "f1ef6636-2d26-4dd5-a025-f2f02808a5b6",
   "metadata": {},
   "outputs": [],
   "source": [
    "productos = [(\"Manzanas\", 1.5), (\"Naranjas\", 2.75), (\"Plátanos\", 0.99)]\n",
    "\n",
    "# Resultado esperado:\n",
    "# Manzanas:     1.50\n",
    "# Naranjas:     2.75\n",
    "# Plátanos:     0.99"
   ]
  },
  {
   "cell_type": "code",
   "execution_count": 75,
   "id": "ca9a8591-6943-420c-af33-e784933e05c7",
   "metadata": {},
   "outputs": [
    {
     "name": "stdout",
     "output_type": "stream",
     "text": [
      "Manzanas: 1.50\n",
      "Naranjas: 2.75\n",
      "Plátanos: 0.99\n"
     ]
    }
   ],
   "source": [
    "productos = [(\"Manzanas\", 1.5), (\"Naranjas\", 2.75), (\"Plátanos\", 0.99)]\n",
    "\n",
    "for producto, precio in productos:\n",
    "    print(f\"{producto}: {precio:.2f}\")\n",
    "    \n",
    "# Output:\n",
    "# Manzanas:      1.50\n",
    "# Naranjas:      2.75\n",
    "# Plátanos:      0.99"
   ]
  },
  {
   "cell_type": "markdown",
   "id": "fbe7f746-965c-4f7a-bb28-6c0a68aa3b4d",
   "metadata": {},
   "source": [
    "#### E3:\n",
    "Dada una lista de días y un diccionario que contiene temperaturas máximas y mínimas registradas cada día, crea un reporte que muestre la temperatura promedio para cada día."
   ]
  },
  {
   "cell_type": "code",
   "execution_count": 76,
   "id": "ae83c53e-0f58-4267-9248-278e02f31189",
   "metadata": {},
   "outputs": [],
   "source": [
    "dias = [\"Lunes\", \"Martes\", \"Miércoles\"]\n",
    "temperaturas = {\n",
    "    \"maximas\": [30, 28, 27],\n",
    "    \"minimas\": [20, 18, 17]\n",
    "}\n",
    "\n",
    "# Resultado esperado:\n",
    "# Lunes: Temperatura promedio: 25.0°C\n",
    "# Martes: Temperatura promedio: 23.0°C\n",
    "# Miércoles: Temperatura promedio: 22.0°C"
   ]
  },
  {
   "cell_type": "code",
   "execution_count": 78,
   "id": "6db72acd-585c-4f43-a067-8005c8b191bd",
   "metadata": {},
   "outputs": [
    {
     "name": "stdout",
     "output_type": "stream",
     "text": [
      "Lunes: Temperatura promedio: 25.0°C\n",
      "Martes: Temperatura promedio: 23.0°C\n",
      "Miércoles: Temperatura promedio: 22.0°C\n"
     ]
    }
   ],
   "source": [
    "dias = [\"Lunes\", \"Martes\", \"Miércoles\"]\n",
    "temperaturas = {\n",
    "    \"maximas\": [30, 28, 27],\n",
    "    \"minimas\": [20, 18, 17]\n",
    "}\n",
    "\n",
    "# Iterar sobre la lista de días y calcular la temperatura promedio\n",
    "for pos in range(len(dias)):\n",
    "    dia = dias[pos]\n",
    "    t_max = temperaturas[\"maximas\"][pos]\n",
    "    t_min = temperaturas[\"minimas\"][pos]\n",
    "    t_mean = (t_max + t_min) / 2\n",
    "    \n",
    "    # Usar f-string para formatear la salida\n",
    "    print(f\"{dia}: Temperatura promedio: {t_mean:.1f}°C\")"
   ]
  },
  {
   "cell_type": "code",
   "execution_count": null,
   "id": "5c9ac6eb-491d-4bf3-b2e7-8ce477dbff0a",
   "metadata": {},
   "outputs": [],
   "source": []
  }
 ],
 "metadata": {
  "kernelspec": {
   "display_name": "Python 3 (ipykernel)",
   "language": "python",
   "name": "python3"
  },
  "language_info": {
   "codemirror_mode": {
    "name": "ipython",
    "version": 3
   },
   "file_extension": ".py",
   "mimetype": "text/x-python",
   "name": "python",
   "nbconvert_exporter": "python",
   "pygments_lexer": "ipython3",
   "version": "3.11.6"
  }
 },
 "nbformat": 4,
 "nbformat_minor": 5
}
