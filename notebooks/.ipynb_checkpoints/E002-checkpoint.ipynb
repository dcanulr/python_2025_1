{
 "cells": [
  {
   "cell_type": "markdown",
   "id": "dc95bd5a-516c-4473-a32b-93c104bea479",
   "metadata": {},
   "source": [
    "1. Utiliza una list comprehension para convertir una lista de grados celsius a fahrenheint. El output de la nueva lista debe mostrar la igualdad de grados celsius a fahrenheint\n",
    "\n",
    "$$°F = °C\\times(9/5)+32$$\n",
    "\n",
    "input:\n",
    "```\n",
    "celsius = [0, 20, 37, 100]\n",
    "```\n",
    "\n",
    "output:\n",
    "```\n",
    "[\"0.0°C = 32.0°F\", \"20.0°C = 68.0°F\", \"37.0°C = 98.6°F\", \"100.0°C = 212.0°F\"]\n",
    "```"
   ]
  },
  {
   "cell_type": "code",
   "execution_count": null,
   "id": "c1dbd56d-3091-4cf2-aa3f-d15eb3942ae7",
   "metadata": {},
   "outputs": [],
   "source": []
  },
  {
   "cell_type": "markdown",
   "id": "f4640260-3c8c-468f-81af-ce62ef5ac710",
   "metadata": {},
   "source": [
    "2. A partir de una palabra crea una contraseña de la siguiente manera: las tres primeras letras de la palabra, su longitud y la última letra. Utiliza un list comprehension para generar las contraseñas de una lista de palabras.\n",
    "\n",
    "input:\n",
    "```\n",
    "palabras = [\"jupyter\", \"elefante\", \"fotovoltaico\", \"galleta\"]\n",
    "```\n",
    "\n",
    "output:\n",
    "```\n",
    "[\"jup7r\", \"ele8e\", \"fot12o\", \"gal7a\"]\n",
    "```\n"
   ]
  },
  {
   "cell_type": "code",
   "execution_count": null,
   "id": "2827baae-3b7b-4cd1-9306-3acff67d1fc8",
   "metadata": {},
   "outputs": [],
   "source": []
  },
  {
   "cell_type": "markdown",
   "id": "37d04ae6-3eb1-4d25-9008-874231c0ef4c",
   "metadata": {},
   "source": [
    "3. A partir de una lista de nombres de la forma \"Nombre Apellido\", utiliza una list comprehension para cambiarles la forma a \"Apellido, Nombres\"\n",
    "\n",
    "input:\n",
    "```\n",
    "nombres = [\"Leia Organa\", \"Bruce Wayne\", \"Indiana Jones\", \"Tony Stark\"]\n",
    "```\n",
    "\n",
    "output:\n",
    "```\n",
    "['Organa, Leia', 'Wayne, Bruce', 'Jones, Indiana', 'Stark, Tony']\n",
    "```"
   ]
  },
  {
   "cell_type": "code",
   "execution_count": null,
   "id": "21718c5e-e040-4003-b608-6f1dfe6eec7d",
   "metadata": {},
   "outputs": [],
   "source": []
  },
  {
   "cell_type": "markdown",
   "id": "88f110b5-23b5-441b-a937-d08b897b783f",
   "metadata": {},
   "source": [
    "4. Escribe una función que calcule la velocidad terminal $v_t$ de un cuerpo cayendo en un fluído como se indica a continuación:\n",
    "$$v_t = \\sqrt{\\frac{2mg}{\\rho C_d A}}$$\n",
    "donde:\n",
    "- m es la masa del objeto en kg\n",
    "- g es la aceleración de la gravedad, con un valor por default de 9.81 m/s$^2$\n",
    "- $\\rho$ es la densidad del fluido en kg/m$^3$\n",
    "- C_d es el coeficiente de arrastre (adimensional)\n",
    "- A es el área de la sección transversal\n",
    "\n",
    "input:\n",
    "```\n",
    "  calcular_velocidad_terminal(70, 1.225, 1.0, 0.7))\n",
    "```\n",
    "\n",
    "output:\n",
    "```\n",
    "40.02\n",
    "```"
   ]
  },
  {
   "cell_type": "code",
   "execution_count": null,
   "id": "ee32ad7f-dd3a-4a14-aca7-56a4fcd1a295",
   "metadata": {},
   "outputs": [],
   "source": []
  },
  {
   "cell_type": "markdown",
   "id": "58e91f48-3d7e-40c9-adb6-6a482ec5d82d",
   "metadata": {},
   "source": [
    "5.1 Escribe una función para determinar si a partir de 3 longitudes dadas es posible o no poder construir un triángulo. Por ejemplo, si una de las longitudes es de 7 cm y las otras dos son de 3 cm, entonces no se puede formar un triángulo. En general, si una de las longitudes es mayor o igual que la suma de las otras dos longitudes entonces no se puede construir un triángulo.\n",
    "\n",
    "El input de la función deberá ser, por ejemplo, longitud1 = 7, longitud2=3, longitud3=3. La función deberá indicar si es posible o no construir el triángulo. Por ejemplo, \"Para las longitudes 7, 3 y 3 no es posible construir un triángulo.\""
   ]
  },
  {
   "cell_type": "code",
   "execution_count": null,
   "id": "702a74cf-01dd-4acd-b13b-0b88b81d6a49",
   "metadata": {},
   "outputs": [],
   "source": []
  },
  {
   "cell_type": "markdown",
   "id": "ebf42b89-9bc7-4fe3-b487-45ce121076f1",
   "metadata": {},
   "source": [
    "5.2 Modifica tu función anterior para que, en caso de ser posible construir el triángulo, calcule su área como:\n",
    "\n",
    "$$Área=\\sqrt{s(s-s_1)(s-s_2)(s-s_3)}$$\n",
    "\n",
    "donde $s_1, s_2, s_3$ son las longitudes de los lados y $s=(s_1+s_2+s_3)/2$\n",
    "\n",
    "Si es posible construir el triángulo la función deberá regresar por ejemplo: \"Para las longitudes 6, 4 y 3 es posible construir un triángulo de área 5.33\"\n",
    "\n",
    "Si no es posible imprimirá: \"No es posible construir un triángulo\""
   ]
  },
  {
   "cell_type": "code",
   "execution_count": null,
   "id": "f796c7b4-bed1-4473-8300-c77eb38eff5b",
   "metadata": {},
   "outputs": [],
   "source": []
  }
 ],
 "metadata": {
  "kernelspec": {
   "display_name": "Python 3 (ipykernel)",
   "language": "python",
   "name": "python3"
  },
  "language_info": {
   "codemirror_mode": {
    "name": "ipython",
    "version": 3
   },
   "file_extension": ".py",
   "mimetype": "text/x-python",
   "name": "python",
   "nbconvert_exporter": "python",
   "pygments_lexer": "ipython3",
   "version": "3.11.6"
  }
 },
 "nbformat": 4,
 "nbformat_minor": 5
}
