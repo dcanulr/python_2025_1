{
 "cells": [
  {
   "cell_type": "markdown",
   "id": "5581c576-3b19-477f-89c8-dbe82043cb03",
   "metadata": {},
   "source": [
    "## Reto con cython\n",
    "\n",
    "Analiza el siguiente código y optimízalo utilizando cython. Utiliza la función _mejora_ para determinar el porcentaje de tiempo en el que mejoró tu código.\n",
    "Para los parámetros de la función utiliza:\n",
    "\n",
    "- $x_0$ = 0\n",
    "- $y_0$ = 1\n",
    "- $x_{end}$ = 2\n",
    "- step_size = 0.1\n",
    "\n",
    "La persona con mayor porcentaje de tiempo de mejora gana.\n",
    "- El premio son 10 puntos\n",
    "- Memo no juega\n",
    "- No pueden comunicarse con otras personas o entes virtuales\n",
    "- No IA\n",
    "   "
   ]
  },
  {
   "cell_type": "code",
   "execution_count": 14,
   "id": "f4c99eec-f46b-492b-88dd-f13a5121bb79",
   "metadata": {},
   "outputs": [],
   "source": [
    "def f(x, y):\n",
    "    return x**3 - 2*y**2 + 4\n",
    "\n",
    "def runge_kutta_4(f, x0, y0, x_end, step_size):\n",
    "    \"\"\" Resuelve una ecuación diferencial ordinaria utilizando el método de Runge-Kutta de cuarto orden (RK4).\n",
    "    \n",
    "    Parámetros:\n",
    "    - f: La función de la EDO de la forma f(x, y).\n",
    "    - x0: El valor inicial de x.\n",
    "    - y0: El valor inicial de y (condición inicial).\n",
    "    - x_end: El valor final de x hasta donde se quiere aproximar la solución.\n",
    "    - step_size: El tamaño del paso (h).\n",
    "    \n",
    "    Retorna:\n",
    "    - La aproximación de y en x_end.\n",
    "    \"\"\"\n",
    "\n",
    "    x = x0\n",
    "    y = y0\n",
    "\n",
    "    while x < x_end:\n",
    "        k1 = step_size * f(x, y)\n",
    "        k2 = step_size * f(x + step_size / 2, y + k1 / 2)\n",
    "        k3 = step_size * f(x + step_size / 2, y + k2 / 2)\n",
    "        k4 = step_size * f(x + step_size, y + k3)\n",
    "        y += (k1 + 2 * k2 + 2 * k3 + k4) / 6\n",
    "        x += step_size\n",
    "    \n",
    "    return y"
   ]
  },
  {
   "cell_type": "code",
   "execution_count": 15,
   "id": "8a60b071-7dd4-496b-affd-28899f4e7bb1",
   "metadata": {},
   "outputs": [
    {
     "name": "stdout",
     "output_type": "stream",
     "text": [
      "35 µs ± 631 ns per loop (mean ± std. dev. of 7 runs, 10,000 loops each)\n"
     ]
    }
   ],
   "source": [
    "%timeit runge_kutta_4(f, 0, 1, 2, 0.1)"
   ]
  },
  {
   "cell_type": "code",
   "execution_count": 17,
   "id": "ad7d5da2-6c65-44da-9249-f541d6c8de1c",
   "metadata": {},
   "outputs": [],
   "source": [
    "def mejora(tiempo_original, tiempo_opt):\n",
    "    porc = (tiempo_original - tiempo_opt)/ tiempo_original * 100\n",
    "    return porc"
   ]
  },
  {
   "cell_type": "code",
   "execution_count": 18,
   "id": "060c694d-6249-4e7f-8654-f3318885c91d",
   "metadata": {},
   "outputs": [],
   "source": [
    "t_original = 34.7E-6"
   ]
  },
  {
   "cell_type": "code",
   "execution_count": null,
   "id": "6ae7c17e-7579-4862-ac7d-0bbe4c6439ac",
   "metadata": {},
   "outputs": [],
   "source": []
  }
 ],
 "metadata": {
  "kernelspec": {
   "display_name": "Python 3 (ipykernel)",
   "language": "python",
   "name": "python3"
  },
  "language_info": {
   "codemirror_mode": {
    "name": "ipython",
    "version": 3
   },
   "file_extension": ".py",
   "mimetype": "text/x-python",
   "name": "python",
   "nbconvert_exporter": "python",
   "pygments_lexer": "ipython3",
   "version": "3.11.6"
  }
 },
 "nbformat": 4,
 "nbformat_minor": 5
}
