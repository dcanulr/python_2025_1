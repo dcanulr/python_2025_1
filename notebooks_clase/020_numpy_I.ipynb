{
 "cells": [
  {
   "cell_type": "code",
   "execution_count": 1,
   "id": "e2df3cdf-13b5-4c7a-8372-2464a337722c",
   "metadata": {},
   "outputs": [],
   "source": [
    "import numpy as np"
   ]
  },
  {
   "cell_type": "markdown",
   "id": "c4b1cb63-6cbf-40d0-b5e9-9cd2a980da78",
   "metadata": {},
   "source": [
    "# Numpy\n",
    "Numpy (Numerical Python) se describe como la paquetería fundamental para el cómputo científico en Python. Además de ofrecer diversas para el cálculo númericos, numpy se especializa en arreglos de n-dimensiones."
   ]
  },
  {
   "cell_type": "markdown",
   "id": "f9de177d-db0a-488e-a176-4250bc9af083",
   "metadata": {},
   "source": [
    "## 1. Un nuevo objeto\n",
    "El elemento básico de Numpy es el array"
   ]
  },
  {
   "cell_type": "code",
   "execution_count": 2,
   "id": "18104aac-7c3b-43ac-966a-e1d38f109b0d",
   "metadata": {},
   "outputs": [
    {
     "data": {
      "text/plain": [
       "list"
      ]
     },
     "execution_count": 2,
     "metadata": {},
     "output_type": "execute_result"
    }
   ],
   "source": [
    "lista = [1,2,3,4]\n",
    "type(lista)"
   ]
  },
  {
   "cell_type": "code",
   "execution_count": 3,
   "id": "8f6f9354-4318-472b-8c48-cde53ea210f3",
   "metadata": {},
   "outputs": [
    {
     "data": {
      "text/plain": [
       "numpy.ndarray"
      ]
     },
     "execution_count": 3,
     "metadata": {},
     "output_type": "execute_result"
    }
   ],
   "source": [
    "arr = np.array([1,2,3,4])\n",
    "type(arr)"
   ]
  },
  {
   "cell_type": "markdown",
   "id": "274118a3-5024-47f7-963e-b012ef3ff776",
   "metadata": {},
   "source": [
    "1.1 Atributos básicos del array\n",
    "- shape: una tupla que contiene el número de elementos (o longitud) para cada dimensión (axis) del array\n",
    "- size: el número total de elementos en el array\n",
    "- ndim: el número de dimensiones (axes)"
   ]
  },
  {
   "cell_type": "code",
   "execution_count": 7,
   "id": "5d3cce38-6d45-46e0-ac01-0eb5b072ce19",
   "metadata": {},
   "outputs": [],
   "source": [
    "arr = np.array([[1,2,3], [4,5,6]])"
   ]
  },
  {
   "cell_type": "code",
   "execution_count": 8,
   "id": "4e74243e-8de1-41a7-9b31-d60d42ffbbbb",
   "metadata": {},
   "outputs": [
    {
     "data": {
      "text/plain": [
       "(2, 3)"
      ]
     },
     "execution_count": 8,
     "metadata": {},
     "output_type": "execute_result"
    }
   ],
   "source": [
    "arr.shape"
   ]
  },
  {
   "cell_type": "code",
   "execution_count": 9,
   "id": "e3cde3cc-657e-48dd-9bae-c44201a7410d",
   "metadata": {},
   "outputs": [
    {
     "data": {
      "text/plain": [
       "6"
      ]
     },
     "execution_count": 9,
     "metadata": {},
     "output_type": "execute_result"
    }
   ],
   "source": [
    "arr.size"
   ]
  },
  {
   "cell_type": "code",
   "execution_count": 10,
   "id": "e639aa49-11a9-4234-b82b-4c51158f694d",
   "metadata": {},
   "outputs": [
    {
     "data": {
      "text/plain": [
       "2"
      ]
     },
     "execution_count": 10,
     "metadata": {},
     "output_type": "execute_result"
    }
   ],
   "source": [
    "arr.ndim"
   ]
  },
  {
   "cell_type": "markdown",
   "id": "2c8bb5f6-b770-4c70-9576-e863ee30027e",
   "metadata": {},
   "source": [
    "Una característica del array es que la forma debe ser \"rectangular\", es decir, cada fila debe tener el mismo número de columnas"
   ]
  },
  {
   "cell_type": "code",
   "execution_count": 12,
   "id": "8ee226ed-8e31-4c59-be56-1f4c8f4b27f4",
   "metadata": {},
   "outputs": [
    {
     "data": {
      "text/plain": [
       "array([[ 1.,  2.,  3.],\n",
       "       [ 4.,  5., nan]])"
      ]
     },
     "execution_count": 12,
     "metadata": {},
     "output_type": "execute_result"
    }
   ],
   "source": [
    "np.array([[1,2,3],[4,5, np.nan]])"
   ]
  },
  {
   "cell_type": "code",
   "execution_count": 13,
   "id": "c21b1651-36c2-4919-84d8-3dc00ee4fe4c",
   "metadata": {},
   "outputs": [],
   "source": [
    "arr = np.array([[1,2,3],[4,5,6],[7,8,9]])"
   ]
  },
  {
   "cell_type": "code",
   "execution_count": 14,
   "id": "86bee02e-c34d-44a9-9a13-1f4d545183c3",
   "metadata": {},
   "outputs": [
    {
     "data": {
      "text/plain": [
       "(3, 3)"
      ]
     },
     "execution_count": 14,
     "metadata": {},
     "output_type": "execute_result"
    }
   ],
   "source": [
    "arr.shape"
   ]
  },
  {
   "cell_type": "markdown",
   "id": "7d14fc40-6984-4643-9aae-e2f7bfebbae7",
   "metadata": {},
   "source": [
    "### 2. Formas de crear arrays"
   ]
  },
  {
   "cell_type": "code",
   "execution_count": 17,
   "id": "ec063140-d5a1-4e36-8634-8361bd129c63",
   "metadata": {},
   "outputs": [
    {
     "data": {
      "text/plain": [
       "array([0., 0.])"
      ]
     },
     "execution_count": 17,
     "metadata": {},
     "output_type": "execute_result"
    }
   ],
   "source": [
    "np.zeros(2)"
   ]
  },
  {
   "cell_type": "code",
   "execution_count": 18,
   "id": "3757d41d-56ba-4111-9800-bfb9cfc46125",
   "metadata": {},
   "outputs": [
    {
     "data": {
      "text/plain": [
       "array([[0., 0., 0.],\n",
       "       [0., 0., 0.]])"
      ]
     },
     "execution_count": 18,
     "metadata": {},
     "output_type": "execute_result"
    }
   ],
   "source": [
    "np.zeros((2,3))"
   ]
  },
  {
   "cell_type": "code",
   "execution_count": 20,
   "id": "235c1a06-7ea6-4eac-bfde-f94821354197",
   "metadata": {},
   "outputs": [],
   "source": [
    "arr_0 = np.zeros((2,3,4))"
   ]
  },
  {
   "cell_type": "code",
   "execution_count": 21,
   "id": "7807016d-8f92-47f2-8e23-eee67a8c9b96",
   "metadata": {},
   "outputs": [
    {
     "data": {
      "text/plain": [
       "3"
      ]
     },
     "execution_count": 21,
     "metadata": {},
     "output_type": "execute_result"
    }
   ],
   "source": [
    "arr_0.ndim"
   ]
  },
  {
   "cell_type": "code",
   "execution_count": 22,
   "id": "5480b8c2-aa83-46e4-9a3d-0bcfbe5f0413",
   "metadata": {},
   "outputs": [
    {
     "data": {
      "text/plain": [
       "24"
      ]
     },
     "execution_count": 22,
     "metadata": {},
     "output_type": "execute_result"
    }
   ],
   "source": [
    "arr_0.size"
   ]
  },
  {
   "cell_type": "code",
   "execution_count": 23,
   "id": "36404f0e-1e52-4b49-9c03-b24cbfd43aac",
   "metadata": {},
   "outputs": [
    {
     "data": {
      "text/plain": [
       "array([[1., 1., 1., 1.],\n",
       "       [1., 1., 1., 1.],\n",
       "       [1., 1., 1., 1.]])"
      ]
     },
     "execution_count": 23,
     "metadata": {},
     "output_type": "execute_result"
    }
   ],
   "source": [
    "np.ones((3,4))"
   ]
  },
  {
   "cell_type": "code",
   "execution_count": 24,
   "id": "944b0e95-de7d-41dd-9abb-2f28042e7c17",
   "metadata": {},
   "outputs": [
    {
     "data": {
      "text/plain": [
       "array([[2, 0, 0],\n",
       "       [0, 3, 0],\n",
       "       [0, 0, 4]])"
      ]
     },
     "execution_count": 24,
     "metadata": {},
     "output_type": "execute_result"
    }
   ],
   "source": [
    "np.diag([2,3,4])"
   ]
  },
  {
   "cell_type": "markdown",
   "id": "a65dced9-5eb8-4dda-81b2-4fa57e215793",
   "metadata": {},
   "source": [
    "Para crear arreglos con un incremento dado **np.arange()**"
   ]
  },
  {
   "cell_type": "code",
   "execution_count": 25,
   "id": "5b81858b-8a44-4980-9545-5b0e92ab3d35",
   "metadata": {},
   "outputs": [
    {
     "data": {
      "text/plain": [
       "array([0, 1, 2, 3])"
      ]
     },
     "execution_count": 25,
     "metadata": {},
     "output_type": "execute_result"
    }
   ],
   "source": [
    "np.arange(4)"
   ]
  },
  {
   "cell_type": "code",
   "execution_count": 26,
   "id": "079451bc-3a23-4b4e-b432-db5c2a4f5d3c",
   "metadata": {},
   "outputs": [
    {
     "data": {
      "text/plain": [
       "array([3, 4, 5, 6, 7, 8, 9])"
      ]
     },
     "execution_count": 26,
     "metadata": {},
     "output_type": "execute_result"
    }
   ],
   "source": [
    "np.arange(3,10)"
   ]
  },
  {
   "cell_type": "code",
   "execution_count": 30,
   "id": "213d85eb-014f-4642-8ca6-d63e695fdaca",
   "metadata": {},
   "outputs": [
    {
     "data": {
      "text/plain": [
       "array([ 3,  5,  7,  9, 11])"
      ]
     },
     "execution_count": 30,
     "metadata": {},
     "output_type": "execute_result"
    }
   ],
   "source": [
    "np.arange(3,12,2)"
   ]
  },
  {
   "cell_type": "code",
   "execution_count": 31,
   "id": "a4f3934e-42e7-44d2-a5f9-e1de206346b1",
   "metadata": {},
   "outputs": [
    {
     "data": {
      "text/plain": [
       "array([ 3. ,  3.2,  3.4,  3.6,  3.8,  4. ,  4.2,  4.4,  4.6,  4.8,  5. ,\n",
       "        5.2,  5.4,  5.6,  5.8,  6. ,  6.2,  6.4,  6.6,  6.8,  7. ,  7.2,\n",
       "        7.4,  7.6,  7.8,  8. ,  8.2,  8.4,  8.6,  8.8,  9. ,  9.2,  9.4,\n",
       "        9.6,  9.8, 10. , 10.2, 10.4, 10.6, 10.8, 11. , 11.2, 11.4, 11.6,\n",
       "       11.8])"
      ]
     },
     "execution_count": 31,
     "metadata": {},
     "output_type": "execute_result"
    }
   ],
   "source": [
    "np.arange(3,12,0.2)"
   ]
  },
  {
   "cell_type": "markdown",
   "id": "627dc3c3-08b6-4d79-9ef5-bd8b07321a4c",
   "metadata": {},
   "source": [
    "Para crear arreglos con un número específico de elementos, utilizamos **np.linspace()**. "
   ]
  },
  {
   "cell_type": "code",
   "execution_count": 34,
   "id": "8eb9a6ef-60d8-48dc-9f2a-e57dc80afd3f",
   "metadata": {},
   "outputs": [
    {
     "data": {
      "text/plain": [
       "50"
      ]
     },
     "execution_count": 34,
     "metadata": {},
     "output_type": "execute_result"
    }
   ],
   "source": [
    "np.linspace(3,10).size"
   ]
  },
  {
   "cell_type": "code",
   "execution_count": 35,
   "id": "3fabb2ec-bc08-4010-987b-808f49e72e7b",
   "metadata": {},
   "outputs": [
    {
     "data": {
      "text/plain": [
       "array([ 3. ,  6.5, 10. ])"
      ]
     },
     "execution_count": 35,
     "metadata": {},
     "output_type": "execute_result"
    }
   ],
   "source": [
    "np.linspace(3,10,3)"
   ]
  },
  {
   "cell_type": "code",
   "execution_count": 36,
   "id": "d2ad02a2-023b-40eb-8b15-48821f664175",
   "metadata": {},
   "outputs": [
    {
     "data": {
      "text/plain": [
       "array([  4.        ,   4.6442953 ,   5.2885906 ,   5.93288591,\n",
       "         6.57718121,   7.22147651,   7.86577181,   8.51006711,\n",
       "         9.15436242,   9.79865772,  10.44295302,  11.08724832,\n",
       "        11.73154362,  12.37583893,  13.02013423,  13.66442953,\n",
       "        14.30872483,  14.95302013,  15.59731544,  16.24161074,\n",
       "        16.88590604,  17.53020134,  18.17449664,  18.81879195,\n",
       "        19.46308725,  20.10738255,  20.75167785,  21.39597315,\n",
       "        22.04026846,  22.68456376,  23.32885906,  23.97315436,\n",
       "        24.61744966,  25.26174497,  25.90604027,  26.55033557,\n",
       "        27.19463087,  27.83892617,  28.48322148,  29.12751678,\n",
       "        29.77181208,  30.41610738,  31.06040268,  31.70469799,\n",
       "        32.34899329,  32.99328859,  33.63758389,  34.28187919,\n",
       "        34.9261745 ,  35.5704698 ,  36.2147651 ,  36.8590604 ,\n",
       "        37.5033557 ,  38.14765101,  38.79194631,  39.43624161,\n",
       "        40.08053691,  40.72483221,  41.36912752,  42.01342282,\n",
       "        42.65771812,  43.30201342,  43.94630872,  44.59060403,\n",
       "        45.23489933,  45.87919463,  46.52348993,  47.16778523,\n",
       "        47.81208054,  48.45637584,  49.10067114,  49.74496644,\n",
       "        50.38926174,  51.03355705,  51.67785235,  52.32214765,\n",
       "        52.96644295,  53.61073826,  54.25503356,  54.89932886,\n",
       "        55.54362416,  56.18791946,  56.83221477,  57.47651007,\n",
       "        58.12080537,  58.76510067,  59.40939597,  60.05369128,\n",
       "        60.69798658,  61.34228188,  61.98657718,  62.63087248,\n",
       "        63.27516779,  63.91946309,  64.56375839,  65.20805369,\n",
       "        65.85234899,  66.4966443 ,  67.1409396 ,  67.7852349 ,\n",
       "        68.4295302 ,  69.0738255 ,  69.71812081,  70.36241611,\n",
       "        71.00671141,  71.65100671,  72.29530201,  72.93959732,\n",
       "        73.58389262,  74.22818792,  74.87248322,  75.51677852,\n",
       "        76.16107383,  76.80536913,  77.44966443,  78.09395973,\n",
       "        78.73825503,  79.38255034,  80.02684564,  80.67114094,\n",
       "        81.31543624,  81.95973154,  82.60402685,  83.24832215,\n",
       "        83.89261745,  84.53691275,  85.18120805,  85.82550336,\n",
       "        86.46979866,  87.11409396,  87.75838926,  88.40268456,\n",
       "        89.04697987,  89.69127517,  90.33557047,  90.97986577,\n",
       "        91.62416107,  92.26845638,  92.91275168,  93.55704698,\n",
       "        94.20134228,  94.84563758,  95.48993289,  96.13422819,\n",
       "        96.77852349,  97.42281879,  98.06711409,  98.7114094 ,\n",
       "        99.3557047 , 100.        ])"
      ]
     },
     "execution_count": 36,
     "metadata": {},
     "output_type": "execute_result"
    }
   ],
   "source": [
    "np.linspace(4,100,150)"
   ]
  },
  {
   "cell_type": "markdown",
   "id": "6837defe-1147-4376-8580-2a37a993351d",
   "metadata": {},
   "source": [
    "¿Cómo crear matrices de diferentes dimensiones?"
   ]
  },
  {
   "cell_type": "code",
   "execution_count": 37,
   "id": "39bc66e7-01e5-4d6b-bada-3d4a234caeca",
   "metadata": {},
   "outputs": [
    {
     "data": {
      "text/plain": [
       "array([ 1,  2,  3,  4,  5,  6,  7,  8,  9, 10, 11, 12, 13, 14, 15, 16, 17,\n",
       "       18, 19, 20])"
      ]
     },
     "execution_count": 37,
     "metadata": {},
     "output_type": "execute_result"
    }
   ],
   "source": [
    "arr = np.arange(1,21)\n",
    "arr"
   ]
  },
  {
   "cell_type": "code",
   "execution_count": 38,
   "id": "20946568-8217-4243-a296-ead4adde2c96",
   "metadata": {},
   "outputs": [
    {
     "ename": "ValueError",
     "evalue": "cannot reshape array of size 20 into shape (4,6)",
     "output_type": "error",
     "traceback": [
      "\u001b[1;31m---------------------------------------------------------------------------\u001b[0m",
      "\u001b[1;31mValueError\u001b[0m                                Traceback (most recent call last)",
      "Cell \u001b[1;32mIn[38], line 1\u001b[0m\n\u001b[1;32m----> 1\u001b[0m \u001b[43marr\u001b[49m\u001b[38;5;241;43m.\u001b[39;49m\u001b[43mreshape\u001b[49m\u001b[43m(\u001b[49m\u001b[38;5;241;43m4\u001b[39;49m\u001b[43m,\u001b[49m\u001b[38;5;241;43m6\u001b[39;49m\u001b[43m)\u001b[49m\n",
      "\u001b[1;31mValueError\u001b[0m: cannot reshape array of size 20 into shape (4,6)"
     ]
    }
   ],
   "source": [
    "arr.reshape(4,6)"
   ]
  },
  {
   "cell_type": "code",
   "execution_count": 39,
   "id": "b504eac4-b8e6-4ffb-bcdc-0be6a0056fd2",
   "metadata": {},
   "outputs": [
    {
     "data": {
      "text/plain": [
       "array([[ 1,  2,  3,  4,  5],\n",
       "       [ 6,  7,  8,  9, 10],\n",
       "       [11, 12, 13, 14, 15],\n",
       "       [16, 17, 18, 19, 20]])"
      ]
     },
     "execution_count": 39,
     "metadata": {},
     "output_type": "execute_result"
    }
   ],
   "source": [
    "arr.reshape(4,5)"
   ]
  },
  {
   "cell_type": "code",
   "execution_count": 40,
   "id": "c1113601-0635-462f-b561-c722ca52b035",
   "metadata": {},
   "outputs": [
    {
     "data": {
      "text/plain": [
       "array([[[ 1,  2,  3,  4,  5],\n",
       "        [ 6,  7,  8,  9, 10]],\n",
       "\n",
       "       [[11, 12, 13, 14, 15],\n",
       "        [16, 17, 18, 19, 20]]])"
      ]
     },
     "execution_count": 40,
     "metadata": {},
     "output_type": "execute_result"
    }
   ],
   "source": [
    "arr.reshape(2,2,5)"
   ]
  },
  {
   "cell_type": "code",
   "execution_count": 42,
   "id": "05f3fe04-cc6d-463c-9699-7d9f1baa0595",
   "metadata": {},
   "outputs": [
    {
     "data": {
      "text/plain": [
       "array([[ 1,  2,  3,  4,  5],\n",
       "       [ 6,  7,  8,  9, 10],\n",
       "       [11, 12, 13, 14, 15],\n",
       "       [16, 17, 18, 19, 20]])"
      ]
     },
     "execution_count": 42,
     "metadata": {},
     "output_type": "execute_result"
    }
   ],
   "source": [
    "np.arange(1,21).reshape(4,5)"
   ]
  },
  {
   "cell_type": "markdown",
   "id": "de003e31-2e20-4127-8773-c70d5ec40916",
   "metadata": {},
   "source": [
    "### 3. Indexing y slicing"
   ]
  },
  {
   "cell_type": "code",
   "execution_count": 44,
   "id": "7b86b004-6aca-474c-8c25-6cc41f7a1b07",
   "metadata": {},
   "outputs": [
    {
     "data": {
      "text/plain": [
       "array([  0,  10,  20,  30,  40,  50,  60,  70,  80,  90, 100])"
      ]
     },
     "execution_count": 44,
     "metadata": {},
     "output_type": "execute_result"
    }
   ],
   "source": [
    "arr_1d = np.arange(0,101,10)\n",
    "arr_1d"
   ]
  },
  {
   "cell_type": "code",
   "execution_count": 45,
   "id": "0251b8dc-3848-4642-93e9-1284658dce9a",
   "metadata": {},
   "outputs": [
    {
     "data": {
      "text/plain": [
       "30"
      ]
     },
     "execution_count": 45,
     "metadata": {},
     "output_type": "execute_result"
    }
   ],
   "source": [
    "arr_1d[3]"
   ]
  },
  {
   "cell_type": "code",
   "execution_count": 47,
   "id": "ab125211-b187-4faf-9804-6b0995b3be7e",
   "metadata": {},
   "outputs": [
    {
     "data": {
      "text/plain": [
       "100"
      ]
     },
     "execution_count": 47,
     "metadata": {},
     "output_type": "execute_result"
    }
   ],
   "source": [
    "arr_1d[10]"
   ]
  },
  {
   "cell_type": "code",
   "execution_count": 48,
   "id": "bbefa269-6626-4d93-b1ad-97c8d8372bb0",
   "metadata": {},
   "outputs": [
    {
     "data": {
      "text/plain": [
       "100"
      ]
     },
     "execution_count": 48,
     "metadata": {},
     "output_type": "execute_result"
    }
   ],
   "source": [
    "arr_1d[-1]"
   ]
  },
  {
   "cell_type": "code",
   "execution_count": 49,
   "id": "eb7e5407-a093-477d-a5b3-310a10bbe954",
   "metadata": {},
   "outputs": [
    {
     "data": {
      "text/plain": [
       "80"
      ]
     },
     "execution_count": 49,
     "metadata": {},
     "output_type": "execute_result"
    }
   ],
   "source": [
    "arr_1d[-3]"
   ]
  },
  {
   "cell_type": "code",
   "execution_count": 50,
   "id": "73beb6df-da9c-4a79-a08e-0f6007d13516",
   "metadata": {},
   "outputs": [
    {
     "data": {
      "text/plain": [
       "array([  0,  10,  20,  30,  40,  50,  60,  70,  80,  90, 100])"
      ]
     },
     "execution_count": 50,
     "metadata": {},
     "output_type": "execute_result"
    }
   ],
   "source": [
    "arr_1d"
   ]
  },
  {
   "cell_type": "code",
   "execution_count": 51,
   "id": "77529efe-e220-4419-beea-3085150c87f9",
   "metadata": {},
   "outputs": [
    {
     "data": {
      "text/plain": [
       "array([ 0, 10, 20, 30, 40])"
      ]
     },
     "execution_count": 51,
     "metadata": {},
     "output_type": "execute_result"
    }
   ],
   "source": [
    "arr_1d[:5]"
   ]
  },
  {
   "cell_type": "code",
   "execution_count": 52,
   "id": "da9639fd-b6e4-4b11-9af5-a3f7b1c4ad68",
   "metadata": {},
   "outputs": [
    {
     "data": {
      "text/plain": [
       "array([20, 30, 40])"
      ]
     },
     "execution_count": 52,
     "metadata": {},
     "output_type": "execute_result"
    }
   ],
   "source": [
    "arr_1d[2:5]"
   ]
  },
  {
   "cell_type": "code",
   "execution_count": 54,
   "id": "b6d484bd-67eb-4603-978f-abddb6602bb9",
   "metadata": {},
   "outputs": [
    {
     "data": {
      "text/plain": [
       "array([  0,  20,  40,  60,  80, 100])"
      ]
     },
     "execution_count": 54,
     "metadata": {},
     "output_type": "execute_result"
    }
   ],
   "source": [
    "arr_1d[0:11:2]"
   ]
  },
  {
   "cell_type": "code",
   "execution_count": 53,
   "id": "ec4fcca7-0502-42a8-b0d2-46f20dcd0741",
   "metadata": {},
   "outputs": [
    {
     "data": {
      "text/plain": [
       "array([  0,  20,  40,  60,  80, 100])"
      ]
     },
     "execution_count": 53,
     "metadata": {},
     "output_type": "execute_result"
    }
   ],
   "source": [
    "arr_1d[::2]"
   ]
  },
  {
   "cell_type": "code",
   "execution_count": 57,
   "id": "7a0151da-775a-4aa3-bd37-4d31a4a0c7e3",
   "metadata": {},
   "outputs": [
    {
     "data": {
      "text/plain": [
       "array([100,  80,  60,  40,  20])"
      ]
     },
     "execution_count": 57,
     "metadata": {},
     "output_type": "execute_result"
    }
   ],
   "source": [
    "arr_1d[-1:0:-2]"
   ]
  },
  {
   "cell_type": "code",
   "execution_count": 61,
   "id": "51efa97c-bdc5-4f1e-b5c9-3407797e2c25",
   "metadata": {},
   "outputs": [
    {
     "data": {
      "text/plain": [
       "array([100,  80,  60,  40,  20,   0])"
      ]
     },
     "execution_count": 61,
     "metadata": {},
     "output_type": "execute_result"
    }
   ],
   "source": [
    "arr_1d[-1::-2]"
   ]
  },
  {
   "cell_type": "code",
   "execution_count": 58,
   "id": "7d5029a0-d8cd-4df4-a19a-dd70eb54564a",
   "metadata": {},
   "outputs": [
    {
     "data": {
      "text/plain": [
       "array([100,  80,  60,  40,  20,   0])"
      ]
     },
     "execution_count": 58,
     "metadata": {},
     "output_type": "execute_result"
    }
   ],
   "source": [
    "arr_1d[::-2]"
   ]
  },
  {
   "cell_type": "code",
   "execution_count": 69,
   "id": "c74d8178-5ea2-431c-9e17-a790291f5463",
   "metadata": {},
   "outputs": [
    {
     "data": {
      "text/plain": [
       "array([[[ 0,  1],\n",
       "        [ 2,  3]],\n",
       "\n",
       "       [[ 4,  5],\n",
       "        [ 6,  7]],\n",
       "\n",
       "       [[ 8,  9],\n",
       "        [10, 11]]])"
      ]
     },
     "execution_count": 69,
     "metadata": {},
     "output_type": "execute_result"
    }
   ],
   "source": [
    "np.arange(0,12).reshape(3,2,-1) # -1 calcula el número elemento faltante"
   ]
  },
  {
   "cell_type": "code",
   "execution_count": 70,
   "id": "345e04b9-ddc4-467f-a0a4-64893b562b88",
   "metadata": {},
   "outputs": [
    {
     "data": {
      "text/plain": [
       "array([[ 0,  1,  2,  3],\n",
       "       [ 4,  5,  6,  7],\n",
       "       [ 8,  9, 10, 11]])"
      ]
     },
     "execution_count": 70,
     "metadata": {},
     "output_type": "execute_result"
    }
   ],
   "source": [
    "np.arange(0,12).reshape(3,-1)"
   ]
  },
  {
   "cell_type": "code",
   "execution_count": 75,
   "id": "be8e3e6c-f02f-4e99-a2ca-ee1a459f125b",
   "metadata": {},
   "outputs": [
    {
     "data": {
      "text/plain": [
       "array([[ 0,  1,  2,  3],\n",
       "       [ 4,  5,  6,  7],\n",
       "       [ 8,  9, 10, 11]])"
      ]
     },
     "execution_count": 75,
     "metadata": {},
     "output_type": "execute_result"
    }
   ],
   "source": [
    "arr_2d = np.arange(0,12).reshape(3,4)\n",
    "arr_2d"
   ]
  },
  {
   "cell_type": "code",
   "execution_count": 76,
   "id": "4e018bcb-ad0e-4764-a630-3749659e4fa3",
   "metadata": {},
   "outputs": [
    {
     "data": {
      "text/plain": [
       "3"
      ]
     },
     "execution_count": 76,
     "metadata": {},
     "output_type": "execute_result"
    }
   ],
   "source": [
    "arr_2d[0,3]"
   ]
  },
  {
   "cell_type": "code",
   "execution_count": 78,
   "id": "4d41a363-0902-45b9-acf6-3aac4116bba3",
   "metadata": {},
   "outputs": [
    {
     "data": {
      "text/plain": [
       "array([4, 5, 6, 7])"
      ]
     },
     "execution_count": 78,
     "metadata": {},
     "output_type": "execute_result"
    }
   ],
   "source": [
    "arr_2d[1,:]"
   ]
  },
  {
   "cell_type": "code",
   "execution_count": 79,
   "id": "8ef67728-13e5-4fbc-918b-c041d0e9bd18",
   "metadata": {},
   "outputs": [
    {
     "data": {
      "text/plain": [
       "array([ 2,  6, 10])"
      ]
     },
     "execution_count": 79,
     "metadata": {},
     "output_type": "execute_result"
    }
   ],
   "source": [
    "arr_2d[:,2]"
   ]
  },
  {
   "cell_type": "code",
   "execution_count": 82,
   "id": "90569056-cf90-4464-9e50-e59d1fdc36d3",
   "metadata": {},
   "outputs": [
    {
     "data": {
      "text/plain": [
       "array([[0, 1, 2],\n",
       "       [4, 5, 6]])"
      ]
     },
     "execution_count": 82,
     "metadata": {},
     "output_type": "execute_result"
    }
   ],
   "source": [
    "arr_2d[:2,:3]"
   ]
  },
  {
   "cell_type": "code",
   "execution_count": 83,
   "id": "c4799352-de3b-46b0-ace0-9650caf0338b",
   "metadata": {},
   "outputs": [
    {
     "data": {
      "text/plain": [
       "array([[ 0,  1,  2,  3],\n",
       "       [ 4,  5,  6,  7],\n",
       "       [ 8,  9, 10, 11]])"
      ]
     },
     "execution_count": 83,
     "metadata": {},
     "output_type": "execute_result"
    }
   ],
   "source": [
    "arr_2d"
   ]
  },
  {
   "cell_type": "code",
   "execution_count": 87,
   "id": "506db8c6-a19c-49f6-a7ba-4a46ab0af13a",
   "metadata": {},
   "outputs": [
    {
     "data": {
      "text/plain": [
       "array([[ 5,  6],\n",
       "       [ 9, 10]])"
      ]
     },
     "execution_count": 87,
     "metadata": {},
     "output_type": "execute_result"
    }
   ],
   "source": [
    "arr_2d[1:,1:3]"
   ]
  },
  {
   "cell_type": "markdown",
   "id": "33e44282-8bb4-4a31-8dd4-c2f68ed98eb1",
   "metadata": {},
   "source": [
    "### 4. Operaciones con arrays"
   ]
  },
  {
   "cell_type": "code",
   "execution_count": 88,
   "id": "f9e9a9cf-ffc5-4b4c-a34c-f4df34ac8ec6",
   "metadata": {},
   "outputs": [],
   "source": [
    "list1 = [1,2,3,4]\n",
    "list2 = [4,5,6,7]"
   ]
  },
  {
   "cell_type": "code",
   "execution_count": 89,
   "id": "5c306a70-f227-4b9a-baea-22c139d7f0aa",
   "metadata": {},
   "outputs": [
    {
     "data": {
      "text/plain": [
       "[1, 2, 3, 4, 4, 5, 6, 7]"
      ]
     },
     "execution_count": 89,
     "metadata": {},
     "output_type": "execute_result"
    }
   ],
   "source": [
    "list1+list2"
   ]
  },
  {
   "cell_type": "code",
   "execution_count": 91,
   "id": "badc662a-4326-4f7d-b9b5-178e742c6207",
   "metadata": {},
   "outputs": [
    {
     "data": {
      "text/plain": [
       "[5, 7, 9, 11]"
      ]
     },
     "execution_count": 91,
     "metadata": {},
     "output_type": "execute_result"
    }
   ],
   "source": [
    "list(map(lambda x, y: x+y, list1,list2))"
   ]
  },
  {
   "cell_type": "code",
   "execution_count": 93,
   "id": "2ca06c62-cffe-47ed-84e9-5068a9d7b2b9",
   "metadata": {},
   "outputs": [],
   "source": [
    "arr1 = np.array([1,2,3,4])\n",
    "arr2 = np.array([4,5,6,7])"
   ]
  },
  {
   "cell_type": "code",
   "execution_count": 94,
   "id": "2164e228-cbb7-45b1-8328-1f91ad4e5fdb",
   "metadata": {},
   "outputs": [
    {
     "data": {
      "text/plain": [
       "array([ 5,  7,  9, 11])"
      ]
     },
     "execution_count": 94,
     "metadata": {},
     "output_type": "execute_result"
    }
   ],
   "source": [
    "arr1+arr2"
   ]
  },
  {
   "cell_type": "code",
   "execution_count": 96,
   "id": "528445b4-3eb4-4ba9-b502-e0a1bcb195d8",
   "metadata": {},
   "outputs": [
    {
     "data": {
      "text/plain": [
       "array([1, 2, 3, 4, 4, 5, 6, 7])"
      ]
     },
     "execution_count": 96,
     "metadata": {},
     "output_type": "execute_result"
    }
   ],
   "source": [
    "np.concatenate([arr1,arr2])"
   ]
  },
  {
   "cell_type": "code",
   "execution_count": 97,
   "id": "0c595481-c6d6-4940-95ac-2ac2dfb34e44",
   "metadata": {},
   "outputs": [],
   "source": [
    "arr3 = np.array([8,9,10,11,12])"
   ]
  },
  {
   "cell_type": "code",
   "execution_count": 98,
   "id": "c2c461fb-90ec-450d-96b4-58babfd54cae",
   "metadata": {},
   "outputs": [
    {
     "ename": "ValueError",
     "evalue": "operands could not be broadcast together with shapes (4,) (5,) ",
     "output_type": "error",
     "traceback": [
      "\u001b[1;31m---------------------------------------------------------------------------\u001b[0m",
      "\u001b[1;31mValueError\u001b[0m                                Traceback (most recent call last)",
      "Cell \u001b[1;32mIn[98], line 1\u001b[0m\n\u001b[1;32m----> 1\u001b[0m \u001b[43marr1\u001b[49m\u001b[38;5;241;43m+\u001b[39;49m\u001b[43marr3\u001b[49m\n",
      "\u001b[1;31mValueError\u001b[0m: operands could not be broadcast together with shapes (4,) (5,) "
     ]
    }
   ],
   "source": [
    "arr1+arr3"
   ]
  },
  {
   "cell_type": "code",
   "execution_count": 99,
   "id": "8e7a6f9b-8bba-4b19-be11-94d93818625b",
   "metadata": {},
   "outputs": [],
   "source": [
    "mat1 = np.array([[1,2],[3,4]])\n",
    "mat2 = np.array([[5,6],[7,8]])"
   ]
  },
  {
   "cell_type": "code",
   "execution_count": 100,
   "id": "021ff149-9e7b-4e24-bdbc-aab682b34388",
   "metadata": {},
   "outputs": [
    {
     "data": {
      "text/plain": [
       "array([[ 6,  8],\n",
       "       [10, 12]])"
      ]
     },
     "execution_count": 100,
     "metadata": {},
     "output_type": "execute_result"
    }
   ],
   "source": [
    "mat1+mat2"
   ]
  },
  {
   "cell_type": "code",
   "execution_count": 103,
   "id": "fff3d818-c78b-4650-bf95-53818de43fd2",
   "metadata": {},
   "outputs": [
    {
     "data": {
      "text/plain": [
       "60"
      ]
     },
     "execution_count": 103,
     "metadata": {},
     "output_type": "execute_result"
    }
   ],
   "source": [
    "arr1@arr2"
   ]
  },
  {
   "cell_type": "code",
   "execution_count": 102,
   "id": "a9fed8ad-357f-404f-b6bb-232391efa47e",
   "metadata": {},
   "outputs": [
    {
     "data": {
      "text/plain": [
       "array([0.25      , 0.4       , 0.5       , 0.57142857])"
      ]
     },
     "execution_count": 102,
     "metadata": {},
     "output_type": "execute_result"
    }
   ],
   "source": [
    "arr1/arr2"
   ]
  },
  {
   "cell_type": "code",
   "execution_count": 104,
   "id": "8444202a-0992-498e-aa5c-17012b881acd",
   "metadata": {},
   "outputs": [
    {
     "data": {
      "text/plain": [
       "array([0.1, 0.2, 0.3, 0.4])"
      ]
     },
     "execution_count": 104,
     "metadata": {},
     "output_type": "execute_result"
    }
   ],
   "source": [
    "arr1/10"
   ]
  },
  {
   "cell_type": "code",
   "execution_count": 107,
   "id": "3fe2f0a2-2b60-47a1-bd52-6f54c4379f45",
   "metadata": {},
   "outputs": [
    {
     "data": {
      "text/plain": [
       "array([[19, 22],\n",
       "       [43, 50]])"
      ]
     },
     "execution_count": 107,
     "metadata": {},
     "output_type": "execute_result"
    }
   ],
   "source": [
    "np.dot(mat1,mat2)"
   ]
  },
  {
   "cell_type": "code",
   "execution_count": 108,
   "id": "58ff130a-200e-43c9-a621-d1129280cb40",
   "metadata": {},
   "outputs": [
    {
     "data": {
      "text/plain": [
       "array([[19, 22],\n",
       "       [43, 50]])"
      ]
     },
     "execution_count": 108,
     "metadata": {},
     "output_type": "execute_result"
    }
   ],
   "source": [
    "mat1@mat2"
   ]
  },
  {
   "cell_type": "code",
   "execution_count": 109,
   "id": "62585d6a-457e-4ee8-abcb-4e824d0a90d3",
   "metadata": {},
   "outputs": [
    {
     "data": {
      "text/plain": [
       "array([[ 5, 12],\n",
       "       [21, 32]])"
      ]
     },
     "execution_count": 109,
     "metadata": {},
     "output_type": "execute_result"
    }
   ],
   "source": [
    "mat1*mat2"
   ]
  },
  {
   "cell_type": "code",
   "execution_count": null,
   "id": "979132c6-7f1e-400e-bd4e-c7bc785a2159",
   "metadata": {},
   "outputs": [],
   "source": []
  }
 ],
 "metadata": {
  "kernelspec": {
   "display_name": "Python 3 (ipykernel)",
   "language": "python",
   "name": "python3"
  },
  "language_info": {
   "codemirror_mode": {
    "name": "ipython",
    "version": 3
   },
   "file_extension": ".py",
   "mimetype": "text/x-python",
   "name": "python",
   "nbconvert_exporter": "python",
   "pygments_lexer": "ipython3",
   "version": "3.11.6"
  }
 },
 "nbformat": 4,
 "nbformat_minor": 5
}
