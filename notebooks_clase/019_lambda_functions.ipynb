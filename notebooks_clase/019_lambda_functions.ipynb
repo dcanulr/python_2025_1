{
 "cells": [
  {
   "cell_type": "code",
   "execution_count": 1,
   "id": "1abb1696-3eaf-43a5-abfb-87d0452d1f6a",
   "metadata": {},
   "outputs": [],
   "source": [
    "import pandas as pd"
   ]
  },
  {
   "cell_type": "markdown",
   "id": "2863f787-a344-408a-9928-8c04735915e4",
   "metadata": {},
   "source": [
    "## 1. Funcionas lambda\n",
    "Una función lambda es una función definida por el usuario (las que hemos creado **def**) que pueden ser definidas sin tener un nombre, también son conocidas como funciones anónimas."
   ]
  },
  {
   "cell_type": "markdown",
   "id": "e11de193-67d1-4872-9c95-fb15a443fc01",
   "metadata": {},
   "source": [
    "### Sintaxis\n",
    "\n",
    "![](../lambda.png)"
   ]
  },
  {
   "cell_type": "code",
   "execution_count": 2,
   "id": "61ecc833-ad5d-4385-9450-ba31c0554ffc",
   "metadata": {},
   "outputs": [],
   "source": [
    "def potencia(num):\n",
    "    return num**2"
   ]
  },
  {
   "cell_type": "code",
   "execution_count": 3,
   "id": "885e7448-e4e3-402c-a4ce-37de01307cba",
   "metadata": {},
   "outputs": [
    {
     "data": {
      "text/plain": [
       "9"
      ]
     },
     "execution_count": 3,
     "metadata": {},
     "output_type": "execute_result"
    }
   ],
   "source": [
    "potencia(3)"
   ]
  },
  {
   "cell_type": "code",
   "execution_count": 4,
   "id": "7f4dde08-13e8-4765-b7b8-6cc99d9fdfbe",
   "metadata": {},
   "outputs": [
    {
     "data": {
      "text/plain": [
       "31.359999999999996"
      ]
     },
     "execution_count": 4,
     "metadata": {},
     "output_type": "execute_result"
    }
   ],
   "source": [
    "potencia(5.6)"
   ]
  },
  {
   "cell_type": "code",
   "execution_count": 6,
   "id": "0fc409ad-f5b9-4d29-aa45-ce6bd6ede465",
   "metadata": {},
   "outputs": [
    {
     "data": {
      "text/plain": [
       "<function __main__.<lambda>(num)>"
      ]
     },
     "execution_count": 6,
     "metadata": {},
     "output_type": "execute_result"
    }
   ],
   "source": [
    "lambda num: num**2"
   ]
  },
  {
   "cell_type": "code",
   "execution_count": 7,
   "id": "3b58971c-b11c-4091-87fe-8d8725d53fa8",
   "metadata": {},
   "outputs": [
    {
     "data": {
      "text/plain": [
       "9"
      ]
     },
     "execution_count": 7,
     "metadata": {},
     "output_type": "execute_result"
    }
   ],
   "source": [
    "(lambda num: num**2)(3)"
   ]
  },
  {
   "cell_type": "code",
   "execution_count": 8,
   "id": "b3423773-c462-475b-abe0-d3188616f89e",
   "metadata": {},
   "outputs": [
    {
     "data": {
      "text/plain": [
       "9"
      ]
     },
     "execution_count": 8,
     "metadata": {},
     "output_type": "execute_result"
    }
   ],
   "source": [
    "3**2"
   ]
  },
  {
   "cell_type": "code",
   "execution_count": 9,
   "id": "1489dc38-d9b0-4ad9-91b2-c70973b80cad",
   "metadata": {},
   "outputs": [],
   "source": [
    "potencia = lambda num: num**2"
   ]
  },
  {
   "cell_type": "code",
   "execution_count": 10,
   "id": "fc8b2ce5-bc5c-47ac-b68a-3dbab9968a32",
   "metadata": {},
   "outputs": [
    {
     "data": {
      "text/plain": [
       "9"
      ]
     },
     "execution_count": 10,
     "metadata": {},
     "output_type": "execute_result"
    }
   ],
   "source": [
    "potencia(3)"
   ]
  },
  {
   "cell_type": "code",
   "execution_count": 11,
   "id": "fc1d09b9-779d-427d-832a-aefc59755c91",
   "metadata": {},
   "outputs": [
    {
     "data": {
      "text/plain": [
       "36"
      ]
     },
     "execution_count": 11,
     "metadata": {},
     "output_type": "execute_result"
    }
   ],
   "source": [
    "potencia(6)"
   ]
  },
  {
   "cell_type": "markdown",
   "id": "0cc6ed26-3619-4b2f-aa13-8f64bb7baa51",
   "metadata": {},
   "source": [
    "### Cuándo usar una función lambda?\n",
    "Para crear expresiones simples y específicas, funciones que se utilizan una sola vez y no es necesario definir una función completa. "
   ]
  },
  {
   "cell_type": "code",
   "execution_count": 18,
   "id": "be9710d1-8f54-44f5-be34-ec96d0d6b80c",
   "metadata": {},
   "outputs": [
    {
     "data": {
      "text/plain": [
       "<function __main__.<lambda>(x)>"
      ]
     },
     "execution_count": 18,
     "metadata": {},
     "output_type": "execute_result"
    }
   ],
   "source": [
    "lambda x: x**3"
   ]
  },
  {
   "cell_type": "code",
   "execution_count": 19,
   "id": "6525e692-dd41-4dad-b506-97601c45ad19",
   "metadata": {},
   "outputs": [
    {
     "data": {
      "text/plain": [
       "175.61599999999996"
      ]
     },
     "execution_count": 19,
     "metadata": {},
     "output_type": "execute_result"
    }
   ],
   "source": [
    "_(5.6)"
   ]
  },
  {
   "cell_type": "code",
   "execution_count": 20,
   "id": "371fb49d-17cc-4f90-829b-4ac938e205d1",
   "metadata": {},
   "outputs": [
    {
     "ename": "TypeError",
     "evalue": "'float' object is not callable",
     "output_type": "error",
     "traceback": [
      "\u001b[1;31m---------------------------------------------------------------------------\u001b[0m",
      "\u001b[1;31mTypeError\u001b[0m                                 Traceback (most recent call last)",
      "Cell \u001b[1;32mIn[20], line 1\u001b[0m\n\u001b[1;32m----> 1\u001b[0m \u001b[43m_\u001b[49m\u001b[43m(\u001b[49m\u001b[38;5;241;43m5\u001b[39;49m\u001b[43m)\u001b[49m\n",
      "\u001b[1;31mTypeError\u001b[0m: 'float' object is not callable"
     ]
    }
   ],
   "source": [
    "_(5)"
   ]
  },
  {
   "cell_type": "code",
   "execution_count": 21,
   "id": "8c4d1ca8-024f-4d5a-bdd2-0e93f90508c8",
   "metadata": {},
   "outputs": [
    {
     "data": {
      "text/plain": [
       "<function __main__.<lambda>(x, y)>"
      ]
     },
     "execution_count": 21,
     "metadata": {},
     "output_type": "execute_result"
    }
   ],
   "source": [
    "lambda x, y: x**y"
   ]
  },
  {
   "cell_type": "code",
   "execution_count": 22,
   "id": "6ecbbb3c-2949-45de-920d-cb1dccb6bbee",
   "metadata": {},
   "outputs": [
    {
     "ename": "TypeError",
     "evalue": "<lambda>() missing 1 required positional argument: 'y'",
     "output_type": "error",
     "traceback": [
      "\u001b[1;31m---------------------------------------------------------------------------\u001b[0m",
      "\u001b[1;31mTypeError\u001b[0m                                 Traceback (most recent call last)",
      "Cell \u001b[1;32mIn[22], line 1\u001b[0m\n\u001b[1;32m----> 1\u001b[0m \u001b[43m_\u001b[49m\u001b[43m(\u001b[49m\u001b[38;5;241;43m3\u001b[39;49m\u001b[43m)\u001b[49m\n",
      "\u001b[1;31mTypeError\u001b[0m: <lambda>() missing 1 required positional argument: 'y'"
     ]
    }
   ],
   "source": [
    "_(3)"
   ]
  },
  {
   "cell_type": "code",
   "execution_count": 23,
   "id": "0f53c16a-88cc-4714-bd01-c8664feb9c9d",
   "metadata": {},
   "outputs": [
    {
     "data": {
      "text/plain": [
       "125"
      ]
     },
     "execution_count": 23,
     "metadata": {},
     "output_type": "execute_result"
    }
   ],
   "source": [
    "_(5,3)"
   ]
  },
  {
   "cell_type": "code",
   "execution_count": 24,
   "id": "c43e11bb-1b4f-4d7e-be3e-13fc1dc17b71",
   "metadata": {},
   "outputs": [
    {
     "data": {
      "text/plain": [
       "<function __main__.<lambda>(x, y, z)>"
      ]
     },
     "execution_count": 24,
     "metadata": {},
     "output_type": "execute_result"
    }
   ],
   "source": [
    "lambda x, y, z: x**y + z**y"
   ]
  },
  {
   "cell_type": "code",
   "execution_count": 25,
   "id": "681914f8-a2e4-4658-b0ff-75cd971f8e94",
   "metadata": {},
   "outputs": [
    {
     "data": {
      "text/plain": [
       "133"
      ]
     },
     "execution_count": 25,
     "metadata": {},
     "output_type": "execute_result"
    }
   ],
   "source": [
    "_(y=3, x=2, z=5)"
   ]
  },
  {
   "cell_type": "markdown",
   "id": "658f2562-b7a7-43bc-b981-771c74367d16",
   "metadata": {},
   "source": [
    "## 2. Uso de funciones lambda con otras funciones\n",
    "Built-in functions de python que requieren el uso de una función como argumento\n",
    "1. map()\n",
    "2. filter()\n",
    "3. sorted()\n",
    "4. apply()\n",
    "\n",
    "https://docs.python.org/3/library/functions.html"
   ]
  },
  {
   "cell_type": "markdown",
   "id": "551c9151-ab09-4347-9f3e-9e9f22e5467d",
   "metadata": {},
   "source": [
    "### 2.1 map()\n",
    "Aplica una función a cada elemento de un iterable y devuelve un objeto map. Se utiliza cuando se requiere realizar una operación en cada elemento del iterable\n",
    "\n",
    "**map(function, iterable)**"
   ]
  },
  {
   "cell_type": "code",
   "execution_count": 26,
   "id": "e11fadf8-4da8-4589-b84e-d2951e9e92d5",
   "metadata": {},
   "outputs": [],
   "source": [
    "numeros = [1,2,3,4]"
   ]
  },
  {
   "cell_type": "code",
   "execution_count": 27,
   "id": "152a6092-ca02-4142-89b0-f5f8905ddfbb",
   "metadata": {},
   "outputs": [],
   "source": [
    "def cuadrado(num):\n",
    "    return num**2"
   ]
  },
  {
   "cell_type": "code",
   "execution_count": 28,
   "id": "9dd5dff6-fa09-4451-853e-1c7a314c8659",
   "metadata": {},
   "outputs": [
    {
     "data": {
      "text/plain": [
       "16"
      ]
     },
     "execution_count": 28,
     "metadata": {},
     "output_type": "execute_result"
    }
   ],
   "source": [
    "cuadrado(4)"
   ]
  },
  {
   "cell_type": "code",
   "execution_count": 29,
   "id": "572bd144-bc0e-4fc1-a3b3-cf73eb45762d",
   "metadata": {},
   "outputs": [
    {
     "ename": "TypeError",
     "evalue": "unsupported operand type(s) for ** or pow(): 'list' and 'int'",
     "output_type": "error",
     "traceback": [
      "\u001b[1;31m---------------------------------------------------------------------------\u001b[0m",
      "\u001b[1;31mTypeError\u001b[0m                                 Traceback (most recent call last)",
      "Cell \u001b[1;32mIn[29], line 1\u001b[0m\n\u001b[1;32m----> 1\u001b[0m \u001b[43mcuadrado\u001b[49m\u001b[43m(\u001b[49m\u001b[43mnumeros\u001b[49m\u001b[43m)\u001b[49m\n",
      "Cell \u001b[1;32mIn[27], line 2\u001b[0m, in \u001b[0;36mcuadrado\u001b[1;34m(num)\u001b[0m\n\u001b[0;32m      1\u001b[0m \u001b[38;5;28;01mdef\u001b[39;00m \u001b[38;5;21mcuadrado\u001b[39m(num):\n\u001b[1;32m----> 2\u001b[0m     \u001b[38;5;28;01mreturn\u001b[39;00m \u001b[43mnum\u001b[49m\u001b[38;5;241;43m*\u001b[39;49m\u001b[38;5;241;43m*\u001b[39;49m\u001b[38;5;241;43m2\u001b[39;49m\n",
      "\u001b[1;31mTypeError\u001b[0m: unsupported operand type(s) for ** or pow(): 'list' and 'int'"
     ]
    }
   ],
   "source": [
    "cuadrado(numeros)"
   ]
  },
  {
   "cell_type": "code",
   "execution_count": 30,
   "id": "e1c8b972-a8cf-4c26-9957-f560630433c0",
   "metadata": {},
   "outputs": [
    {
     "data": {
      "text/plain": [
       "<map at 0x198d7e28040>"
      ]
     },
     "execution_count": 30,
     "metadata": {},
     "output_type": "execute_result"
    }
   ],
   "source": [
    "map(cuadrado, numeros)"
   ]
  },
  {
   "cell_type": "code",
   "execution_count": 31,
   "id": "86a0fdc8-f295-44a8-9107-ef82b5e73ee4",
   "metadata": {},
   "outputs": [
    {
     "data": {
      "text/plain": [
       "[1, 4, 9, 16]"
      ]
     },
     "execution_count": 31,
     "metadata": {},
     "output_type": "execute_result"
    }
   ],
   "source": [
    "list(map(cuadrado, numeros))"
   ]
  },
  {
   "cell_type": "code",
   "execution_count": 33,
   "id": "21ab8246-3819-4604-9d5a-d8e2b7d96fb8",
   "metadata": {},
   "outputs": [
    {
     "data": {
      "text/plain": [
       "[1, 4, 9, 16]"
      ]
     },
     "execution_count": 33,
     "metadata": {},
     "output_type": "execute_result"
    }
   ],
   "source": [
    "list(map(lambda num: num**2, numeros))"
   ]
  },
  {
   "cell_type": "markdown",
   "id": "1c9f3033-ad65-49e5-b9e1-c5050fd3693b",
   "metadata": {},
   "source": [
    "1. Dadas dos listas, donde la primer lista son bases y la segunda lista son exponentes, calcula la potencia de cada base elevada al exponente correspondiente\n",
    "\n",
    "Input:\n",
    "\n",
    "base = [7,20,5]\n",
    "\n",
    "exp = [2,4,5]\n",
    "\n",
    "Output:\n",
    "\n",
    "[49, 160000, 3125]"
   ]
  },
  {
   "cell_type": "code",
   "execution_count": 34,
   "id": "76fd3b87-7627-4240-82f1-d0e8affc3910",
   "metadata": {},
   "outputs": [],
   "source": [
    "base = [7,20,5]\n",
    "\n",
    "exp = [2,4,5]\n"
   ]
  },
  {
   "cell_type": "code",
   "execution_count": 37,
   "id": "421877a3-192d-4b38-9391-d75b38fae992",
   "metadata": {},
   "outputs": [
    {
     "data": {
      "text/plain": [
       "[49, 160000, 3125]"
      ]
     },
     "execution_count": 37,
     "metadata": {},
     "output_type": "execute_result"
    }
   ],
   "source": [
    "list(map(lambda x, y: x**y, base, exp))"
   ]
  },
  {
   "cell_type": "markdown",
   "id": "c2c2ce39-02d3-4782-8640-41f967eef71a",
   "metadata": {},
   "source": [
    "### Sintaxis:\n",
    "\n",
    "**map(function, args)**\n",
    "\n",
    "**lambda args: function**"
   ]
  },
  {
   "cell_type": "markdown",
   "id": "f2473988-8d29-4352-a2df-093d4ca97274",
   "metadata": {},
   "source": [
    "## 2.2 filter()\n",
    "Filtra los elementos de un iterable utilizando una función que devuelve True or False. Retorna un objeto filter con los elementos que cumplen la condición\n",
    "\n",
    "**filter(function, iterable)**"
   ]
  },
  {
   "cell_type": "code",
   "execution_count": 43,
   "id": "16eae0b3-98fd-4cbc-86d7-a4e4f35cbcf9",
   "metadata": {},
   "outputs": [],
   "source": [
    "numeros = [1,2,3,4,5,6,7,8,9,10]"
   ]
  },
  {
   "cell_type": "code",
   "execution_count": 39,
   "id": "4dc1557a-30ce-4b34-8804-1b2e4594f11f",
   "metadata": {},
   "outputs": [
    {
     "data": {
      "text/plain": [
       "2.5"
      ]
     },
     "execution_count": 39,
     "metadata": {},
     "output_type": "execute_result"
    }
   ],
   "source": [
    "5/2"
   ]
  },
  {
   "cell_type": "code",
   "execution_count": 40,
   "id": "67e359df-7ac6-4a57-8bbb-e3676d1b1bf1",
   "metadata": {},
   "outputs": [
    {
     "data": {
      "text/plain": [
       "1"
      ]
     },
     "execution_count": 40,
     "metadata": {},
     "output_type": "execute_result"
    }
   ],
   "source": [
    "5%2"
   ]
  },
  {
   "cell_type": "code",
   "execution_count": 41,
   "id": "9becb9a1-bb62-4597-a2cb-249f891475f0",
   "metadata": {},
   "outputs": [
    {
     "data": {
      "text/plain": [
       "False"
      ]
     },
     "execution_count": 41,
     "metadata": {},
     "output_type": "execute_result"
    }
   ],
   "source": [
    "5%2 == 0"
   ]
  },
  {
   "cell_type": "code",
   "execution_count": 42,
   "id": "ce29e12a-5623-4766-ae6a-7aa066de8e18",
   "metadata": {},
   "outputs": [
    {
     "data": {
      "text/plain": [
       "True"
      ]
     },
     "execution_count": 42,
     "metadata": {},
     "output_type": "execute_result"
    }
   ],
   "source": [
    "8%2 == 0"
   ]
  },
  {
   "cell_type": "code",
   "execution_count": 44,
   "id": "5aa809a8-b220-46a3-9df9-c689a3f17faf",
   "metadata": {},
   "outputs": [
    {
     "data": {
      "text/plain": [
       "<filter at 0x198d7e30700>"
      ]
     },
     "execution_count": 44,
     "metadata": {},
     "output_type": "execute_result"
    }
   ],
   "source": [
    "filter(lambda num: num%2 == 0, numeros)"
   ]
  },
  {
   "cell_type": "code",
   "execution_count": 45,
   "id": "6f4394c6-22bb-4630-8ba9-3f36fb61f28c",
   "metadata": {},
   "outputs": [
    {
     "data": {
      "text/plain": [
       "[2, 4, 6, 8, 10]"
      ]
     },
     "execution_count": 45,
     "metadata": {},
     "output_type": "execute_result"
    }
   ],
   "source": [
    "list(filter(lambda num: num%2 == 0, numeros))"
   ]
  },
  {
   "cell_type": "markdown",
   "id": "c4b4aadf-c511-4453-b6c2-6139c19adaf4",
   "metadata": {},
   "source": [
    "## 2.3 sorted()\n",
    "Es una función que ordena los elementos de un iterable y devuelve una lista ordenado. El criterio de ordenamiento puede ser utilizando el parámetro key.\n",
    "\n",
    "**sorted(iterable, key=None, reverse=False)**"
   ]
  },
  {
   "cell_type": "code",
   "execution_count": 46,
   "id": "e61fbbed-24a3-48eb-86d1-b72bf3b6fa1f",
   "metadata": {},
   "outputs": [],
   "source": [
    "nombres = [\"Sophie\", \"Xochitl\", \"Eric\", \"Diego\", \"Tom\", \"Jerry\"]"
   ]
  },
  {
   "cell_type": "code",
   "execution_count": 48,
   "id": "a90d746b-9398-4204-93ce-2a425b702fdb",
   "metadata": {},
   "outputs": [
    {
     "data": {
      "text/plain": [
       "['Diego', 'Eric', 'Jerry', 'Sophie', 'Tom', 'Xochitl']"
      ]
     },
     "execution_count": 48,
     "metadata": {},
     "output_type": "execute_result"
    }
   ],
   "source": [
    "sorted(nombres)"
   ]
  },
  {
   "cell_type": "code",
   "execution_count": 49,
   "id": "30dec779-dfaa-4652-bb2c-0b3afff0fbe7",
   "metadata": {},
   "outputs": [
    {
     "ename": "TypeError",
     "evalue": "'int' object is not callable",
     "output_type": "error",
     "traceback": [
      "\u001b[1;31m---------------------------------------------------------------------------\u001b[0m",
      "\u001b[1;31mTypeError\u001b[0m                                 Traceback (most recent call last)",
      "Cell \u001b[1;32mIn[49], line 1\u001b[0m\n\u001b[1;32m----> 1\u001b[0m \u001b[38;5;28;43msorted\u001b[39;49m\u001b[43m(\u001b[49m\u001b[43mnombres\u001b[49m\u001b[43m,\u001b[49m\u001b[43m \u001b[49m\u001b[43mkey\u001b[49m\u001b[38;5;241;43m=\u001b[39;49m\u001b[38;5;28;43mlen\u001b[39;49m\u001b[43m(\u001b[49m\u001b[43mnombres\u001b[49m\u001b[43m)\u001b[49m\u001b[43m)\u001b[49m\n",
      "\u001b[1;31mTypeError\u001b[0m: 'int' object is not callable"
     ]
    }
   ],
   "source": [
    "sorted(nombres, key=len(nombres))"
   ]
  },
  {
   "cell_type": "code",
   "execution_count": 50,
   "id": "79e975d5-62b3-4d40-8b83-d9a0d0b6c073",
   "metadata": {},
   "outputs": [
    {
     "data": {
      "text/plain": [
       "['Tom', 'Eric', 'Diego', 'Jerry', 'Sophie', 'Xochitl']"
      ]
     },
     "execution_count": 50,
     "metadata": {},
     "output_type": "execute_result"
    }
   ],
   "source": [
    "sorted(nombres, key=lambda name: len(name))"
   ]
  },
  {
   "cell_type": "code",
   "execution_count": 51,
   "id": "3f8b8bbb-328d-4170-841d-134cecb312d4",
   "metadata": {},
   "outputs": [
    {
     "data": {
      "text/plain": [
       "['Xochitl', 'Sophie', 'Diego', 'Jerry', 'Eric', 'Tom']"
      ]
     },
     "execution_count": 51,
     "metadata": {},
     "output_type": "execute_result"
    }
   ],
   "source": [
    "sorted(nombres, key=lambda name: len(name), reverse=True)"
   ]
  },
  {
   "cell_type": "markdown",
   "id": "7bc6e9e0-60b1-4e21-952d-91ce8dcc3c8d",
   "metadata": {},
   "source": [
    "2. Ordena la siguiente lista de acuerdo al orden alfabético del tercer elemento de cada tupla\n",
    "\n",
    "Input:\n",
    "\n",
    "tuplas = [(2,\"kg\",\"verdura\"),(3,\"pieza\",\"pan\"),(1,\"litro\",\"leche\")]\n",
    "\n",
    "Output:\n",
    "\n",
    "[(1, 'litro', 'leche'), (3, 'pieza', 'pan'), (2, 'kg', 'verdura')]"
   ]
  },
  {
   "cell_type": "code",
   "execution_count": 54,
   "id": "695744b8-a110-4499-a3c3-40d9de86c8e9",
   "metadata": {},
   "outputs": [
    {
     "data": {
      "text/plain": [
       "[(1, 'litro', 'leche'), (3, 'pieza', 'pan'), (2, 'kg', 'verdura')]"
      ]
     },
     "execution_count": 54,
     "metadata": {},
     "output_type": "execute_result"
    }
   ],
   "source": [
    "tuplas = [(2,\"kg\",\"verdura\"),(3,\"pieza\",\"pan\"),(1,\"litro\",\"leche\")]\n",
    "sorted(tuplas, key = lambda tupla: tupla[2])"
   ]
  },
  {
   "cell_type": "markdown",
   "id": "03a542d7-5429-4f94-a749-8e18df4911f8",
   "metadata": {},
   "source": [
    "### 2.4 apply()\n",
    "Es utilizado para aplicar funciones en un eje de un DataFrame\n",
    "\n",
    "**df[\"column\"].apply(function)**"
   ]
  },
  {
   "cell_type": "code",
   "execution_count": 68,
   "id": "44b93327-9ba3-447f-9f1e-abbea019f8ac",
   "metadata": {},
   "outputs": [],
   "source": [
    "df = pd.DataFrame({\"Producto\":[\"Helado\", \"Pan\", \"Shampoo\",\"Desdorante\"],\n",
    "                  \"Precio\":[24,8, 67, 50]})"
   ]
  },
  {
   "cell_type": "code",
   "execution_count": 58,
   "id": "c90cb4ff-b7b6-4ba4-8b2b-71c8c3dd4081",
   "metadata": {},
   "outputs": [
    {
     "data": {
      "text/html": [
       "<div>\n",
       "<style scoped>\n",
       "    .dataframe tbody tr th:only-of-type {\n",
       "        vertical-align: middle;\n",
       "    }\n",
       "\n",
       "    .dataframe tbody tr th {\n",
       "        vertical-align: top;\n",
       "    }\n",
       "\n",
       "    .dataframe thead th {\n",
       "        text-align: right;\n",
       "    }\n",
       "</style>\n",
       "<table border=\"1\" class=\"dataframe\">\n",
       "  <thead>\n",
       "    <tr style=\"text-align: right;\">\n",
       "      <th></th>\n",
       "      <th>Producto</th>\n",
       "      <th>Precio</th>\n",
       "      <th>IVA</th>\n",
       "    </tr>\n",
       "  </thead>\n",
       "  <tbody>\n",
       "    <tr>\n",
       "      <th>0</th>\n",
       "      <td>Helado</td>\n",
       "      <td>24</td>\n",
       "      <td>27.84</td>\n",
       "    </tr>\n",
       "    <tr>\n",
       "      <th>1</th>\n",
       "      <td>Pan</td>\n",
       "      <td>8</td>\n",
       "      <td>9.28</td>\n",
       "    </tr>\n",
       "    <tr>\n",
       "      <th>2</th>\n",
       "      <td>Shampoo</td>\n",
       "      <td>67</td>\n",
       "      <td>77.72</td>\n",
       "    </tr>\n",
       "    <tr>\n",
       "      <th>3</th>\n",
       "      <td>Desdorante</td>\n",
       "      <td>50</td>\n",
       "      <td>58.00</td>\n",
       "    </tr>\n",
       "  </tbody>\n",
       "</table>\n",
       "</div>"
      ],
      "text/plain": [
       "     Producto  Precio    IVA\n",
       "0      Helado      24  27.84\n",
       "1         Pan       8   9.28\n",
       "2     Shampoo      67  77.72\n",
       "3  Desdorante      50  58.00"
      ]
     },
     "execution_count": 58,
     "metadata": {},
     "output_type": "execute_result"
    }
   ],
   "source": [
    "df[\"IVA\"] = df.Precio*1.16\n",
    "df"
   ]
  },
  {
   "cell_type": "code",
   "execution_count": 59,
   "id": "bd554411-f91b-4af2-b707-445bfedacd77",
   "metadata": {},
   "outputs": [
    {
     "ename": "AttributeError",
     "evalue": "'Series' object has no attribute 'upper'",
     "output_type": "error",
     "traceback": [
      "\u001b[1;31m---------------------------------------------------------------------------\u001b[0m",
      "\u001b[1;31mAttributeError\u001b[0m                            Traceback (most recent call last)",
      "\u001b[1;32m~\\AppData\\Local\\Temp\\ipykernel_18428\\2716095996.py\u001b[0m in \u001b[0;36m?\u001b[1;34m()\u001b[0m\n\u001b[1;32m----> 1\u001b[1;33m \u001b[0mdf\u001b[0m\u001b[1;33m[\u001b[0m\u001b[1;34m\"Producto\"\u001b[0m\u001b[1;33m]\u001b[0m\u001b[1;33m.\u001b[0m\u001b[0mupper\u001b[0m\u001b[1;33m(\u001b[0m\u001b[1;33m)\u001b[0m\u001b[1;33m\u001b[0m\u001b[1;33m\u001b[0m\u001b[0m\n\u001b[0m",
      "\u001b[1;32m~\\Documents\\WPy64-31160\\python-3.11.6.amd64\\Lib\\site-packages\\pandas\\core\\generic.py\u001b[0m in \u001b[0;36m?\u001b[1;34m(self, name)\u001b[0m\n\u001b[0;32m   6200\u001b[0m             \u001b[1;32mand\u001b[0m \u001b[0mname\u001b[0m \u001b[1;32mnot\u001b[0m \u001b[1;32min\u001b[0m \u001b[0mself\u001b[0m\u001b[1;33m.\u001b[0m\u001b[0m_accessors\u001b[0m\u001b[1;33m\u001b[0m\u001b[1;33m\u001b[0m\u001b[0m\n\u001b[0;32m   6201\u001b[0m             \u001b[1;32mand\u001b[0m \u001b[0mself\u001b[0m\u001b[1;33m.\u001b[0m\u001b[0m_info_axis\u001b[0m\u001b[1;33m.\u001b[0m\u001b[0m_can_hold_identifiers_and_holds_name\u001b[0m\u001b[1;33m(\u001b[0m\u001b[0mname\u001b[0m\u001b[1;33m)\u001b[0m\u001b[1;33m\u001b[0m\u001b[1;33m\u001b[0m\u001b[0m\n\u001b[0;32m   6202\u001b[0m         ):\n\u001b[0;32m   6203\u001b[0m             \u001b[1;32mreturn\u001b[0m \u001b[0mself\u001b[0m\u001b[1;33m[\u001b[0m\u001b[0mname\u001b[0m\u001b[1;33m]\u001b[0m\u001b[1;33m\u001b[0m\u001b[1;33m\u001b[0m\u001b[0m\n\u001b[1;32m-> 6204\u001b[1;33m         \u001b[1;32mreturn\u001b[0m \u001b[0mobject\u001b[0m\u001b[1;33m.\u001b[0m\u001b[0m__getattribute__\u001b[0m\u001b[1;33m(\u001b[0m\u001b[0mself\u001b[0m\u001b[1;33m,\u001b[0m \u001b[0mname\u001b[0m\u001b[1;33m)\u001b[0m\u001b[1;33m\u001b[0m\u001b[1;33m\u001b[0m\u001b[0m\n\u001b[0m",
      "\u001b[1;31mAttributeError\u001b[0m: 'Series' object has no attribute 'upper'"
     ]
    }
   ],
   "source": [
    "df[\"Producto\"].upper()"
   ]
  },
  {
   "cell_type": "code",
   "execution_count": 62,
   "id": "e83a3cb5-946e-4d22-a285-c9148ded2a08",
   "metadata": {},
   "outputs": [
    {
     "data": {
      "text/html": [
       "<div>\n",
       "<style scoped>\n",
       "    .dataframe tbody tr th:only-of-type {\n",
       "        vertical-align: middle;\n",
       "    }\n",
       "\n",
       "    .dataframe tbody tr th {\n",
       "        vertical-align: top;\n",
       "    }\n",
       "\n",
       "    .dataframe thead th {\n",
       "        text-align: right;\n",
       "    }\n",
       "</style>\n",
       "<table border=\"1\" class=\"dataframe\">\n",
       "  <thead>\n",
       "    <tr style=\"text-align: right;\">\n",
       "      <th></th>\n",
       "      <th>Producto</th>\n",
       "      <th>Precio</th>\n",
       "      <th>IVA</th>\n",
       "    </tr>\n",
       "  </thead>\n",
       "  <tbody>\n",
       "    <tr>\n",
       "      <th>0</th>\n",
       "      <td>HELADO</td>\n",
       "      <td>24</td>\n",
       "      <td>27.84</td>\n",
       "    </tr>\n",
       "    <tr>\n",
       "      <th>1</th>\n",
       "      <td>PAN</td>\n",
       "      <td>8</td>\n",
       "      <td>9.28</td>\n",
       "    </tr>\n",
       "    <tr>\n",
       "      <th>2</th>\n",
       "      <td>SHAMPOO</td>\n",
       "      <td>67</td>\n",
       "      <td>77.72</td>\n",
       "    </tr>\n",
       "    <tr>\n",
       "      <th>3</th>\n",
       "      <td>DESDORANTE</td>\n",
       "      <td>50</td>\n",
       "      <td>58.00</td>\n",
       "    </tr>\n",
       "  </tbody>\n",
       "</table>\n",
       "</div>"
      ],
      "text/plain": [
       "     Producto  Precio    IVA\n",
       "0      HELADO      24  27.84\n",
       "1         PAN       8   9.28\n",
       "2     SHAMPOO      67  77.72\n",
       "3  DESDORANTE      50  58.00"
      ]
     },
     "execution_count": 62,
     "metadata": {},
     "output_type": "execute_result"
    }
   ],
   "source": [
    "## **df[\"column\"].apply(function)**\n",
    "\n",
    "df[\"Producto\"] = df[\"Producto\"].apply(lambda nombre: nombre.upper())\n",
    "df"
   ]
  },
  {
   "cell_type": "code",
   "execution_count": 70,
   "id": "a34d9bb6-0926-4fef-9ddb-f8a5ea867477",
   "metadata": {},
   "outputs": [],
   "source": [
    "def barato(precio):\n",
    "    if precio <= 30:\n",
    "        return(\"Barato\")\n",
    "    else:\n",
    "        return(\"Caro\")"
   ]
  },
  {
   "cell_type": "code",
   "execution_count": 71,
   "id": "1e9edd09-355c-428c-9700-6903d472f203",
   "metadata": {},
   "outputs": [],
   "source": [
    "# barato(df.Precio)"
   ]
  },
  {
   "cell_type": "code",
   "execution_count": 72,
   "id": "9de185ef-5c45-4008-8d1b-c494a79942f0",
   "metadata": {},
   "outputs": [
    {
     "data": {
      "text/plain": [
       "0    Barato\n",
       "1    Barato\n",
       "2      Caro\n",
       "3      Caro\n",
       "Name: Precio, dtype: object"
      ]
     },
     "execution_count": 72,
     "metadata": {},
     "output_type": "execute_result"
    }
   ],
   "source": [
    "df.Precio.apply(barato)"
   ]
  },
  {
   "cell_type": "code",
   "execution_count": 73,
   "id": "04c707e0-b836-4780-9084-50766d9da0eb",
   "metadata": {},
   "outputs": [
    {
     "data": {
      "text/plain": [
       "0    Barato\n",
       "1    Barato\n",
       "2      Caro\n",
       "3      Caro\n",
       "Name: Precio, dtype: object"
      ]
     },
     "execution_count": 73,
     "metadata": {},
     "output_type": "execute_result"
    }
   ],
   "source": [
    "df.Precio.apply(lambda precio: \"Barato\" if precio <= 30 else \"Caro\")"
   ]
  },
  {
   "cell_type": "code",
   "execution_count": 75,
   "id": "aa4a0471-bb5e-44b6-bf67-e8b9aaeb2bf6",
   "metadata": {},
   "outputs": [],
   "source": [
    "# Helado_24\n",
    "# Pan_8\n",
    "# Shampoo_67"
   ]
  },
  {
   "cell_type": "code",
   "execution_count": 80,
   "id": "5bb5a076-a997-4778-be56-1107ef834a69",
   "metadata": {},
   "outputs": [
    {
     "name": "stdout",
     "output_type": "stream",
     "text": [
      "<class 'pandas.core.frame.DataFrame'>\n",
      "RangeIndex: 4 entries, 0 to 3\n",
      "Data columns (total 2 columns):\n",
      " #   Column    Non-Null Count  Dtype \n",
      "---  ------    --------------  ----- \n",
      " 0   Producto  4 non-null      object\n",
      " 1   Precio    4 non-null      int64 \n",
      "dtypes: int64(1), object(1)\n",
      "memory usage: 196.0+ bytes\n"
     ]
    }
   ],
   "source": [
    "df.info()"
   ]
  },
  {
   "cell_type": "code",
   "execution_count": 81,
   "id": "cad8708b-2046-4cde-acd2-75286e38407d",
   "metadata": {},
   "outputs": [
    {
     "data": {
      "text/plain": [
       "0        Helado_24\n",
       "1            Pan_8\n",
       "2       Shampoo_67\n",
       "3    Desdorante_50\n",
       "dtype: object"
      ]
     },
     "execution_count": 81,
     "metadata": {},
     "output_type": "execute_result"
    }
   ],
   "source": [
    "df[[\"Producto\", \"Precio\"]].apply(lambda column: column[\"Producto\"]+\"_\"+str(column[\"Precio\"]), axis=1)"
   ]
  },
  {
   "cell_type": "code",
   "execution_count": null,
   "id": "3241159e-bb67-4e05-bc8d-4358c967e1e9",
   "metadata": {},
   "outputs": [],
   "source": []
  }
 ],
 "metadata": {
  "kernelspec": {
   "display_name": "Python 3 (ipykernel)",
   "language": "python",
   "name": "python3"
  },
  "language_info": {
   "codemirror_mode": {
    "name": "ipython",
    "version": 3
   },
   "file_extension": ".py",
   "mimetype": "text/x-python",
   "name": "python",
   "nbconvert_exporter": "python",
   "pygments_lexer": "ipython3",
   "version": "3.11.6"
  }
 },
 "nbformat": 4,
 "nbformat_minor": 5
}
