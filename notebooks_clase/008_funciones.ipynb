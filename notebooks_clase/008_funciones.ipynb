{
 "cells": [
  {
   "cell_type": "code",
   "execution_count": 18,
   "id": "24d3c903-5712-4977-9917-12310e3497e4",
   "metadata": {},
   "outputs": [],
   "source": [
    "from prueba_funciones import promedio"
   ]
  },
  {
   "cell_type": "code",
   "execution_count": 19,
   "id": "616b6898-b56a-41d2-9236-95c9f96ce897",
   "metadata": {},
   "outputs": [
    {
     "data": {
      "text/plain": [
       "17.5"
      ]
     },
     "execution_count": 19,
     "metadata": {},
     "output_type": "execute_result"
    }
   ],
   "source": [
    "promedio(10,25)"
   ]
  },
  {
   "cell_type": "markdown",
   "id": "736e018b-2397-4fc7-bd70-4287d0811f55",
   "metadata": {},
   "source": [
    "## Intro a funciones"
   ]
  },
  {
   "cell_type": "code",
   "execution_count": 1,
   "id": "50b8ca4b-c265-4be0-96d7-d8ddd801c539",
   "metadata": {},
   "outputs": [],
   "source": [
    "num_1 = 10\n",
    "num_2 = 25"
   ]
  },
  {
   "cell_type": "code",
   "execution_count": 2,
   "id": "1f29fb48-dec5-4258-ac49-4d793b7c1d84",
   "metadata": {},
   "outputs": [
    {
     "data": {
      "text/plain": [
       "17.5"
      ]
     },
     "execution_count": 2,
     "metadata": {},
     "output_type": "execute_result"
    }
   ],
   "source": [
    "promedio = (num_1+num_2)/2\n",
    "promedio"
   ]
  },
  {
   "cell_type": "code",
   "execution_count": 17,
   "id": "c5444a73-87f5-4659-83e0-f617d20f8875",
   "metadata": {},
   "outputs": [
    {
     "ename": "SyntaxError",
     "evalue": "Missing parentheses in call to 'print'. Did you mean print(...)? (2970215657.py, line 3)",
     "output_type": "error",
     "traceback": [
      "\u001b[1;36m  Cell \u001b[1;32mIn[17], line 3\u001b[1;36m\u001b[0m\n\u001b[1;33m    print prom\u001b[0m\n\u001b[1;37m    ^\u001b[0m\n\u001b[1;31mSyntaxError\u001b[0m\u001b[1;31m:\u001b[0m Missing parentheses in call to 'print'. Did you mean print(...)?\n"
     ]
    }
   ],
   "source": [
    "def promedio(num_1, num_2):\n",
    "    prom = (num_1+num_2)/2\n",
    "    print prom"
   ]
  },
  {
   "cell_type": "code",
   "execution_count": 10,
   "id": "4afd029f-9296-4ba5-8156-5c9e8355a785",
   "metadata": {},
   "outputs": [
    {
     "name": "stdout",
     "output_type": "stream",
     "text": [
      "17.5\n"
     ]
    }
   ],
   "source": [
    "prom_impreso = promedio(10, 25)"
   ]
  },
  {
   "cell_type": "code",
   "execution_count": 11,
   "id": "b91d4367-8cd8-4376-8f98-a39a34be329d",
   "metadata": {},
   "outputs": [
    {
     "data": {
      "text/plain": [
       "NoneType"
      ]
     },
     "execution_count": 11,
     "metadata": {},
     "output_type": "execute_result"
    }
   ],
   "source": [
    "type(prom_impreso)"
   ]
  },
  {
   "cell_type": "code",
   "execution_count": 12,
   "id": "7aaa6d2b-944c-4c15-a1b6-1f40056680c2",
   "metadata": {},
   "outputs": [
    {
     "ename": "TypeError",
     "evalue": "unsupported operand type(s) for +: 'NoneType' and 'int'",
     "output_type": "error",
     "traceback": [
      "\u001b[1;31m---------------------------------------------------------------------------\u001b[0m",
      "\u001b[1;31mTypeError\u001b[0m                                 Traceback (most recent call last)",
      "Cell \u001b[1;32mIn[12], line 1\u001b[0m\n\u001b[1;32m----> 1\u001b[0m \u001b[43mprom_impreso\u001b[49m\u001b[38;5;241;43m+\u001b[39;49m\u001b[38;5;241;43m2\u001b[39;49m\n",
      "\u001b[1;31mTypeError\u001b[0m: unsupported operand type(s) for +: 'NoneType' and 'int'"
     ]
    }
   ],
   "source": [
    "prom_impreso+2"
   ]
  },
  {
   "cell_type": "code",
   "execution_count": 13,
   "id": "66b54cc2-9829-4a7b-9abd-a9e26fa0390a",
   "metadata": {},
   "outputs": [],
   "source": [
    "def promedio(num_1, num_2):\n",
    "    prom = (num_1+num_2)/2\n",
    "    return(prom)"
   ]
  },
  {
   "cell_type": "code",
   "execution_count": 14,
   "id": "f3f311b1-ee97-4c74-865c-4231fe67fdd9",
   "metadata": {},
   "outputs": [],
   "source": [
    "prom_retornado = promedio(10,25)"
   ]
  },
  {
   "cell_type": "code",
   "execution_count": 15,
   "id": "c93bb56c-5deb-44d4-a214-c372ee1c2888",
   "metadata": {},
   "outputs": [
    {
     "data": {
      "text/plain": [
       "float"
      ]
     },
     "execution_count": 15,
     "metadata": {},
     "output_type": "execute_result"
    }
   ],
   "source": [
    "type(prom_retornado)"
   ]
  },
  {
   "cell_type": "code",
   "execution_count": 16,
   "id": "94178241-6243-4693-91fa-fb7ed9c58f50",
   "metadata": {},
   "outputs": [
    {
     "data": {
      "text/plain": [
       "19.5"
      ]
     },
     "execution_count": 16,
     "metadata": {},
     "output_type": "execute_result"
    }
   ],
   "source": [
    "prom_retornado+2"
   ]
  },
  {
   "cell_type": "code",
   "execution_count": null,
   "id": "4fbad98e-29c8-48bd-b071-add67de79424",
   "metadata": {},
   "outputs": [],
   "source": []
  },
  {
   "cell_type": "markdown",
   "id": "9bf9daff-43ab-4319-bcff-522531948e90",
   "metadata": {},
   "source": [
    "![](../part_funciones.png)"
   ]
  },
  {
   "cell_type": "markdown",
   "id": "88798c1a-ca1b-41fe-9b0d-c87e1ccfe5fd",
   "metadata": {},
   "source": [
    "## Escribe una función para calcular la energía generada por un panel solar, dado su área, la irradiancia solar incidente en él y su eficiencia\n",
    "\n",
    "$$P=Irradiancia\\times Area \\times Eficiencia$$"
   ]
  },
  {
   "cell_type": "code",
   "execution_count": 20,
   "id": "689716f1-9891-488b-ba91-3687bd6dcd8d",
   "metadata": {},
   "outputs": [],
   "source": [
    "def calcular_potencia(irradiancia, area, eficiencia):\n",
    "    pot = irradiancia*area*eficiencia\n",
    "    return pot"
   ]
  },
  {
   "cell_type": "code",
   "execution_count": 21,
   "id": "e064335a-472a-40ea-843e-3b91563c631d",
   "metadata": {},
   "outputs": [
    {
     "data": {
      "text/plain": [
       "144.0"
      ]
     },
     "execution_count": 21,
     "metadata": {},
     "output_type": "execute_result"
    }
   ],
   "source": [
    "calcular_potencia(800, 1, 0.18)"
   ]
  },
  {
   "cell_type": "code",
   "execution_count": 23,
   "id": "c859dc03-12df-4d88-ac61-7b5bde917a0e",
   "metadata": {},
   "outputs": [
    {
     "ename": "TypeError",
     "evalue": "calcular_potencia() missing 1 required positional argument: 'area'",
     "output_type": "error",
     "traceback": [
      "\u001b[1;31m---------------------------------------------------------------------------\u001b[0m",
      "\u001b[1;31mTypeError\u001b[0m                                 Traceback (most recent call last)",
      "Cell \u001b[1;32mIn[23], line 1\u001b[0m\n\u001b[1;32m----> 1\u001b[0m \u001b[43mcalcular_potencia\u001b[49m\u001b[43m(\u001b[49m\u001b[43meficiencia\u001b[49m\u001b[38;5;241;43m=\u001b[39;49m\u001b[38;5;241;43m0.18\u001b[39;49m\u001b[43m,\u001b[49m\u001b[43m \u001b[49m\u001b[43mirradiancia\u001b[49m\u001b[38;5;241;43m=\u001b[39;49m\u001b[38;5;241;43m800\u001b[39;49m\u001b[43m)\u001b[49m\n",
      "\u001b[1;31mTypeError\u001b[0m: calcular_potencia() missing 1 required positional argument: 'area'"
     ]
    }
   ],
   "source": [
    "calcular_potencia(eficiencia=0.18, irradiancia=800)"
   ]
  },
  {
   "cell_type": "code",
   "execution_count": 24,
   "id": "22b1da77-7ad3-4133-bd7b-016943304571",
   "metadata": {},
   "outputs": [],
   "source": [
    "def calcular_potencia(irradiancia, area, eficiencia=0.8):\n",
    "    pot = irradiancia*area*eficiencia\n",
    "    return pot"
   ]
  },
  {
   "cell_type": "code",
   "execution_count": 26,
   "id": "84f49c1a-e3cf-4429-bf0f-ffce06233889",
   "metadata": {},
   "outputs": [
    {
     "data": {
      "text/plain": [
       "288.0"
      ]
     },
     "execution_count": 26,
     "metadata": {},
     "output_type": "execute_result"
    }
   ],
   "source": [
    "calcular_potencia(800, 1, 0.36)"
   ]
  },
  {
   "cell_type": "code",
   "execution_count": 29,
   "id": "fbb9a9ce-a3e1-4cbb-8816-8dd2827bc4bb",
   "metadata": {},
   "outputs": [],
   "source": [
    "def calcular_potencia(irradiancia, eficiencia=0.8, area=1):\n",
    "    pot = irradiancia*area*eficiencia\n",
    "    print(f\"El valor de la potencia con irradiancia {irradiancia} es {pot}\")"
   ]
  },
  {
   "cell_type": "code",
   "execution_count": 31,
   "id": "217bb733-144c-428f-be71-d4127b6ff7e5",
   "metadata": {},
   "outputs": [
    {
     "name": "stdout",
     "output_type": "stream",
     "text": [
      "El valor de la potencia con irradiancia 800 es 640.0\n"
     ]
    }
   ],
   "source": [
    "calcular_potencia(800)"
   ]
  },
  {
   "cell_type": "code",
   "execution_count": 32,
   "id": "5cd2adcf-20aa-4253-983a-561783893ad3",
   "metadata": {},
   "outputs": [
    {
     "name": "stdout",
     "output_type": "stream",
     "text": [
      "El valor de la potencia con irradiancia 800 es 320.0\n"
     ]
    }
   ],
   "source": [
    "calcular_potencia(800, eficiencia=0.4)"
   ]
  },
  {
   "cell_type": "markdown",
   "id": "bccf2e8c-216f-4577-b3d1-79fa280bf056",
   "metadata": {},
   "source": [
    "Escribe una función llamada costo para determinar el costo de la electricidad a partir del consumo. El costo de la electricidad se calcula como sigue:\n",
    "\n",
    "Para los primeros 150 kWh el precio es de 0.86 por kWh Para los siguientes 200 kWh el precio es de 1.04 por kWh Arriba de los 350 kWh el precio es de 3.03 por kWh Es decir, si consumiste 300 kWh, los primero 150 se cobrarán al primer precio y los restantes al segundo precio. Si consumes 805 kWh, los primeros 150 se cobrarán al primer precio, los siguientes 200 al segundo precio y los restantes 455 al último precio. El output deberá ser el costo redondeado a dos decimales."
   ]
  },
  {
   "cell_type": "code",
   "execution_count": null,
   "id": "6bd6024f-8890-44a8-bf06-78e1aebed213",
   "metadata": {},
   "outputs": [],
   "source": []
  }
 ],
 "metadata": {
  "kernelspec": {
   "display_name": "Python 3 (ipykernel)",
   "language": "python",
   "name": "python3"
  },
  "language_info": {
   "codemirror_mode": {
    "name": "ipython",
    "version": 3
   },
   "file_extension": ".py",
   "mimetype": "text/x-python",
   "name": "python",
   "nbconvert_exporter": "python",
   "pygments_lexer": "ipython3",
   "version": "3.11.6"
  }
 },
 "nbformat": 4,
 "nbformat_minor": 5
}
