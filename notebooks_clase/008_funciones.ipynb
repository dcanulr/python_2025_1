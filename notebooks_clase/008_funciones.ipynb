{
 "cells": [
  {
   "cell_type": "markdown",
   "id": "736e018b-2397-4fc7-bd70-4287d0811f55",
   "metadata": {},
   "source": [
    "## Intro a funciones"
   ]
  },
  {
   "cell_type": "code",
   "execution_count": null,
   "id": "50b8ca4b-c265-4be0-96d7-d8ddd801c539",
   "metadata": {},
   "outputs": [],
   "source": []
  },
  {
   "cell_type": "code",
   "execution_count": null,
   "id": "1f29fb48-dec5-4258-ac49-4d793b7c1d84",
   "metadata": {},
   "outputs": [],
   "source": []
  },
  {
   "cell_type": "code",
   "execution_count": null,
   "id": "c93bb56c-5deb-44d4-a214-c372ee1c2888",
   "metadata": {},
   "outputs": [],
   "source": []
  },
  {
   "cell_type": "code",
   "execution_count": null,
   "id": "94178241-6243-4693-91fa-fb7ed9c58f50",
   "metadata": {},
   "outputs": [],
   "source": []
  },
  {
   "cell_type": "code",
   "execution_count": null,
   "id": "4fbad98e-29c8-48bd-b071-add67de79424",
   "metadata": {},
   "outputs": [],
   "source": []
  },
  {
   "cell_type": "markdown",
   "id": "9bf9daff-43ab-4319-bcff-522531948e90",
   "metadata": {},
   "source": [
    "![](../part_funciones.png)"
   ]
  },
  {
   "cell_type": "code",
   "execution_count": null,
   "id": "34dc5e2f-ae62-4e1e-9195-05f44c5977ad",
   "metadata": {},
   "outputs": [],
   "source": []
  }
 ],
 "metadata": {
  "kernelspec": {
   "display_name": "Python 3 (ipykernel)",
   "language": "python",
   "name": "python3"
  },
  "language_info": {
   "codemirror_mode": {
    "name": "ipython",
    "version": 3
   },
   "file_extension": ".py",
   "mimetype": "text/x-python",
   "name": "python",
   "nbconvert_exporter": "python",
   "pygments_lexer": "ipython3",
   "version": "3.11.6"
  }
 },
 "nbformat": 4,
 "nbformat_minor": 5
}
