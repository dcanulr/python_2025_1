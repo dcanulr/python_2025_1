{
 "cells": [
  {
   "cell_type": "markdown",
   "id": "7cb0afa4-a3d2-4a72-9e34-d8ccaf28978c",
   "metadata": {},
   "source": [
    "## Python handling exceptions"
   ]
  },
  {
   "cell_type": "code",
   "execution_count": 1,
   "id": "a0e3810e-4707-4d86-82e1-4b19497f66aa",
   "metadata": {},
   "outputs": [],
   "source": [
    "def dividir(num, denom):\n",
    "    return num/denom"
   ]
  },
  {
   "cell_type": "code",
   "execution_count": 3,
   "id": "0ef92818-c29a-49ba-adc6-3aa16379c1eb",
   "metadata": {},
   "outputs": [
    {
     "data": {
      "text/plain": [
       "0.5"
      ]
     },
     "execution_count": 3,
     "metadata": {},
     "output_type": "execute_result"
    }
   ],
   "source": [
    "dividir(5,10)"
   ]
  },
  {
   "cell_type": "code",
   "execution_count": 4,
   "id": "f246558b-f7d4-4fcb-96aa-a39109e9d285",
   "metadata": {},
   "outputs": [
    {
     "ename": "ZeroDivisionError",
     "evalue": "division by zero",
     "output_type": "error",
     "traceback": [
      "\u001b[1;31m---------------------------------------------------------------------------\u001b[0m",
      "\u001b[1;31mZeroDivisionError\u001b[0m                         Traceback (most recent call last)",
      "Cell \u001b[1;32mIn[4], line 1\u001b[0m\n\u001b[1;32m----> 1\u001b[0m \u001b[43mdividir\u001b[49m\u001b[43m(\u001b[49m\u001b[38;5;241;43m5\u001b[39;49m\u001b[43m,\u001b[49m\u001b[38;5;241;43m0\u001b[39;49m\u001b[43m)\u001b[49m\n",
      "Cell \u001b[1;32mIn[1], line 2\u001b[0m, in \u001b[0;36mdividir\u001b[1;34m(num, denom)\u001b[0m\n\u001b[0;32m      1\u001b[0m \u001b[38;5;28;01mdef\u001b[39;00m \u001b[38;5;21mdividir\u001b[39m(num, denom):\n\u001b[1;32m----> 2\u001b[0m     \u001b[38;5;28;01mreturn\u001b[39;00m \u001b[43mnum\u001b[49m\u001b[38;5;241;43m/\u001b[39;49m\u001b[43mdenom\u001b[49m\n",
      "\u001b[1;31mZeroDivisionError\u001b[0m: division by zero"
     ]
    }
   ],
   "source": [
    "dividir(5,0)"
   ]
  },
  {
   "cell_type": "code",
   "execution_count": 5,
   "id": "b86a2c36-d776-49ab-9e1b-37e7eae73478",
   "metadata": {},
   "outputs": [
    {
     "ename": "TypeError",
     "evalue": "unsupported operand type(s) for /: 'int' and 'str'",
     "output_type": "error",
     "traceback": [
      "\u001b[1;31m---------------------------------------------------------------------------\u001b[0m",
      "\u001b[1;31mTypeError\u001b[0m                                 Traceback (most recent call last)",
      "Cell \u001b[1;32mIn[5], line 1\u001b[0m\n\u001b[1;32m----> 1\u001b[0m \u001b[43mdividir\u001b[49m\u001b[43m(\u001b[49m\u001b[38;5;241;43m5\u001b[39;49m\u001b[43m,\u001b[49m\u001b[38;5;124;43m\"\u001b[39;49m\u001b[38;5;124;43m0\u001b[39;49m\u001b[38;5;124;43m\"\u001b[39;49m\u001b[43m)\u001b[49m\n",
      "Cell \u001b[1;32mIn[1], line 2\u001b[0m, in \u001b[0;36mdividir\u001b[1;34m(num, denom)\u001b[0m\n\u001b[0;32m      1\u001b[0m \u001b[38;5;28;01mdef\u001b[39;00m \u001b[38;5;21mdividir\u001b[39m(num, denom):\n\u001b[1;32m----> 2\u001b[0m     \u001b[38;5;28;01mreturn\u001b[39;00m \u001b[43mnum\u001b[49m\u001b[38;5;241;43m/\u001b[39;49m\u001b[43mdenom\u001b[49m\n",
      "\u001b[1;31mTypeError\u001b[0m: unsupported operand type(s) for /: 'int' and 'str'"
     ]
    }
   ],
   "source": [
    "dividir(5,\"0\")"
   ]
  },
  {
   "cell_type": "markdown",
   "id": "31b99ee3-01f5-4095-830d-780c4de26ba5",
   "metadata": {},
   "source": [
    "### try, except"
   ]
  },
  {
   "cell_type": "code",
   "execution_count": 9,
   "id": "af1cef03-0cb4-45d3-bb32-5aff0ef71159",
   "metadata": {},
   "outputs": [],
   "source": [
    "def dividir(num, denom):\n",
    "    try:\n",
    "        return num/denom\n",
    "    except:\n",
    "        print(\"Division sobre cero\")"
   ]
  },
  {
   "cell_type": "code",
   "execution_count": 10,
   "id": "384c8cf3-a299-43cd-b031-0a20ab465de8",
   "metadata": {},
   "outputs": [
    {
     "data": {
      "text/plain": [
       "0.5"
      ]
     },
     "execution_count": 10,
     "metadata": {},
     "output_type": "execute_result"
    }
   ],
   "source": [
    "dividir(5,10)"
   ]
  },
  {
   "cell_type": "code",
   "execution_count": 11,
   "id": "cf0b6579-b100-4988-91e3-ecff45847e52",
   "metadata": {},
   "outputs": [
    {
     "name": "stdout",
     "output_type": "stream",
     "text": [
      "Division sobre cero\n"
     ]
    }
   ],
   "source": [
    "dividir(5,0)"
   ]
  },
  {
   "cell_type": "code",
   "execution_count": 12,
   "id": "874536b5-4d5b-4663-b08c-502c1856eb3e",
   "metadata": {},
   "outputs": [],
   "source": [
    "def dividir(num, denom):\n",
    "    try:\n",
    "        return num/denom\n",
    "    except ZeroDivisionError:\n",
    "        print(\"Division sobre cero\")"
   ]
  },
  {
   "cell_type": "code",
   "execution_count": 14,
   "id": "ce619d52-d40e-4162-86d7-96281d3fa6ef",
   "metadata": {},
   "outputs": [
    {
     "name": "stdout",
     "output_type": "stream",
     "text": [
      "Division sobre cero\n"
     ]
    }
   ],
   "source": [
    "dividir(5,0)"
   ]
  },
  {
   "cell_type": "code",
   "execution_count": 15,
   "id": "fbeb4397-e53b-453e-a1b8-dda29c2cfc5d",
   "metadata": {},
   "outputs": [
    {
     "ename": "TypeError",
     "evalue": "unsupported operand type(s) for /: 'int' and 'str'",
     "output_type": "error",
     "traceback": [
      "\u001b[1;31m---------------------------------------------------------------------------\u001b[0m",
      "\u001b[1;31mTypeError\u001b[0m                                 Traceback (most recent call last)",
      "Cell \u001b[1;32mIn[15], line 1\u001b[0m\n\u001b[1;32m----> 1\u001b[0m \u001b[43mdividir\u001b[49m\u001b[43m(\u001b[49m\u001b[38;5;241;43m5\u001b[39;49m\u001b[43m,\u001b[49m\u001b[38;5;124;43m\"\u001b[39;49m\u001b[38;5;124;43m0\u001b[39;49m\u001b[38;5;124;43m\"\u001b[39;49m\u001b[43m)\u001b[49m\n",
      "Cell \u001b[1;32mIn[12], line 3\u001b[0m, in \u001b[0;36mdividir\u001b[1;34m(num, denom)\u001b[0m\n\u001b[0;32m      1\u001b[0m \u001b[38;5;28;01mdef\u001b[39;00m \u001b[38;5;21mdividir\u001b[39m(num, denom):\n\u001b[0;32m      2\u001b[0m     \u001b[38;5;28;01mtry\u001b[39;00m:\n\u001b[1;32m----> 3\u001b[0m         \u001b[38;5;28;01mreturn\u001b[39;00m \u001b[43mnum\u001b[49m\u001b[38;5;241;43m/\u001b[39;49m\u001b[43mdenom\u001b[49m\n\u001b[0;32m      4\u001b[0m     \u001b[38;5;28;01mexcept\u001b[39;00m \u001b[38;5;167;01mZeroDivisionError\u001b[39;00m:\n\u001b[0;32m      5\u001b[0m         \u001b[38;5;28mprint\u001b[39m(\u001b[38;5;124m\"\u001b[39m\u001b[38;5;124mDivision sobre cero\u001b[39m\u001b[38;5;124m\"\u001b[39m)\n",
      "\u001b[1;31mTypeError\u001b[0m: unsupported operand type(s) for /: 'int' and 'str'"
     ]
    }
   ],
   "source": [
    "dividir(5,\"0\")"
   ]
  },
  {
   "cell_type": "code",
   "execution_count": null,
   "id": "55318f8b-7d42-4af2-94f3-edbe47063d0b",
   "metadata": {},
   "outputs": [],
   "source": []
  }
 ],
 "metadata": {
  "kernelspec": {
   "display_name": "Python 3 (ipykernel)",
   "language": "python",
   "name": "python3"
  },
  "language_info": {
   "codemirror_mode": {
    "name": "ipython",
    "version": 3
   },
   "file_extension": ".py",
   "mimetype": "text/x-python",
   "name": "python",
   "nbconvert_exporter": "python",
   "pygments_lexer": "ipython3",
   "version": "3.11.6"
  }
 },
 "nbformat": 4,
 "nbformat_minor": 5
}
