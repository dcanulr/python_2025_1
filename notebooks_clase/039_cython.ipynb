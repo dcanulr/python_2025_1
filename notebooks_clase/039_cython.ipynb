{
 "cells": [
  {
   "cell_type": "markdown",
   "id": "8873086a-b472-427f-b621-624432653d2a",
   "metadata": {},
   "source": [
    "## Cython\n",
    "Material basado en:\n",
    "https://github.com/aspp-latam/2023-mexico-profiling/blob/main/cython.ipynb\n",
    "\n",
    "Para instalar Cython utilizamos la vieja confiable:\n",
    "\n",
    "_pip install Cython_\n",
    "\n",
    "En el caso de Windows es necesario tener el compilador de C que puede ser Visual Studio"
   ]
  },
  {
   "cell_type": "markdown",
   "id": "a1da177a-bc2a-4033-a7a5-343b5f261ec8",
   "metadata": {},
   "source": [
    "### 1. Python puro"
   ]
  },
  {
   "cell_type": "code",
   "execution_count": 17,
   "id": "272623b4-f5ef-43f6-b33e-8832aab0b2ac",
   "metadata": {},
   "outputs": [],
   "source": [
    "def f(x):\n",
    "    return x**4-3*x\n",
    "\n",
    "def integrate_f(func, a, b, n):\n",
    "    dx = (b-a)/n\n",
    "    s = 0.0\n",
    "    for i in range(n):\n",
    "        s += func(a+(i+0.5)*dx)*dx\n",
    "    return s"
   ]
  },
  {
   "cell_type": "code",
   "execution_count": 18,
   "id": "a52be2c1-4c32-4c76-bb2a-76c8dd5a2911",
   "metadata": {},
   "outputs": [
    {
     "data": {
      "text/plain": [
       "39999.999999868494"
      ]
     },
     "execution_count": 18,
     "metadata": {},
     "output_type": "execute_result"
    }
   ],
   "source": [
    "integrate_f(f, -10, 10, 1_000_000)"
   ]
  },
  {
   "cell_type": "code",
   "execution_count": 19,
   "id": "4422bfd3-6481-4597-9277-1f0862d9c387",
   "metadata": {},
   "outputs": [
    {
     "name": "stdout",
     "output_type": "stream",
     "text": [
      "290 ms ± 2.46 ms per loop (mean ± std. dev. of 7 runs, 1 loop each)\n"
     ]
    }
   ],
   "source": [
    "%timeit integrate_f(f, -10, 10, 1_000_000)"
   ]
  },
  {
   "cell_type": "markdown",
   "id": "217760b3-a898-42e8-8c67-11199675796d",
   "metadata": {},
   "source": [
    "### 2. Compilando Python en Cython"
   ]
  },
  {
   "cell_type": "code",
   "execution_count": 20,
   "id": "a6b7eaa6-ce81-4d4d-b73c-34f66c241379",
   "metadata": {},
   "outputs": [
    {
     "name": "stdout",
     "output_type": "stream",
     "text": [
      "The cython extension is already loaded. To reload it, use:\n",
      "  %reload_ext cython\n"
     ]
    }
   ],
   "source": [
    "%load_ext cython"
   ]
  },
  {
   "cell_type": "code",
   "execution_count": 21,
   "id": "ccc8bf9b-de95-49cb-a3f2-f373257933df",
   "metadata": {},
   "outputs": [
    {
     "name": "stdout",
     "output_type": "stream",
     "text": [
      "Content of stdout:\n",
      "_cython_magic_6fbfbd07070c621a30aacd3c70338b70bc49c349.c\n",
      "   Creando biblioteca C:\\Users\\dacr9\\.ipython\\cython\\Users\\dacr9\\.ipython\\cython\\_cython_magic_6fbfbd07070c621a30aacd3c70338b70bc49c349.cp311-win_amd64.lib y objeto C:\\Users\\dacr9\\.ipython\\cython\\Users\\dacr9\\.ipython\\cython\\_cython_magic_6fbfbd07070c621a30aacd3c70338b70bc49c349.cp311-win_amd64.exp\n",
      "Generando c¢digo\n",
      "Generaci¢n de c¢digo finalizada"
     ]
    }
   ],
   "source": [
    "%%cython\n",
    "\n",
    "def f2(x):\n",
    "    return x**4-3*x\n",
    "\n",
    "def integrate_f2(func, a, b, n):\n",
    "    dx = (b-a)/n\n",
    "    s = 0.0\n",
    "    for i in range(n):\n",
    "        s += func(a+(i+0.5)*dx)*dx\n",
    "    return s"
   ]
  },
  {
   "cell_type": "code",
   "execution_count": 22,
   "id": "1cdb2931-702c-4048-a035-d3d8987f4eff",
   "metadata": {},
   "outputs": [
    {
     "data": {
      "text/plain": [
       "39999.999999868494"
      ]
     },
     "execution_count": 22,
     "metadata": {},
     "output_type": "execute_result"
    }
   ],
   "source": [
    "integrate_f2(f2, -10, 10, 1_000_000)"
   ]
  },
  {
   "cell_type": "code",
   "execution_count": 8,
   "id": "d38fbac6-d672-4a6c-8a58-24c742050f4d",
   "metadata": {},
   "outputs": [
    {
     "name": "stdout",
     "output_type": "stream",
     "text": [
      "229 ms ± 4.59 ms per loop (mean ± std. dev. of 7 runs, 1 loop each)\n"
     ]
    }
   ],
   "source": [
    "%timeit integrate_f2(f2, -10, 10, 1_000_000)"
   ]
  },
  {
   "cell_type": "markdown",
   "id": "672d6875-485a-4cce-a7d2-56fd61db9e83",
   "metadata": {},
   "source": [
    "### 3. Especialización de variables"
   ]
  },
  {
   "cell_type": "code",
   "execution_count": 9,
   "id": "d5fe1f19-f7b8-48f3-b572-405425732713",
   "metadata": {},
   "outputs": [],
   "source": [
    "%%cython\n",
    "\n",
    "def f3(double x):\n",
    "    return x**4-3*x\n",
    "\n",
    "def integrate_f3(func, double a, double b, int n):\n",
    "    dx = (b-a)/n\n",
    "    s = 0.0\n",
    "    for i in range(n):\n",
    "        s += func(a+(i+0.5)*dx)*dx\n",
    "    return s"
   ]
  },
  {
   "cell_type": "code",
   "execution_count": 10,
   "id": "ef097504-af1a-4ac4-971a-cf5e4b158335",
   "metadata": {},
   "outputs": [
    {
     "name": "stdout",
     "output_type": "stream",
     "text": [
      "136 ms ± 3.24 ms per loop (mean ± std. dev. of 7 runs, 10 loops each)\n"
     ]
    }
   ],
   "source": [
    "%timeit integrate_f3(f3, -10, 10, 1_000_000)"
   ]
  },
  {
   "cell_type": "markdown",
   "id": "0190284f-4247-4ebd-95a8-9d63875dac32",
   "metadata": {},
   "source": [
    "### 4. Variables internas"
   ]
  },
  {
   "cell_type": "code",
   "execution_count": 11,
   "id": "5cd6d4ce-8d95-4c0b-8456-730bcc910704",
   "metadata": {},
   "outputs": [],
   "source": [
    "%%cython\n",
    "\n",
    "def f4(double x):\n",
    "    return x**4-3*x\n",
    "\n",
    "def integrate_f4(func, double a, double b, int n):\n",
    "    cdef:\n",
    "        double dx = (b-a)/n\n",
    "        double s = 0.0\n",
    "        int i\n",
    "\n",
    "    for i in range(n):\n",
    "        s += func(a+(i+0.5)*dx)*dx\n",
    "    return s"
   ]
  },
  {
   "cell_type": "code",
   "execution_count": 12,
   "id": "3fc01c3f-50f2-4124-9dd9-2e4c342d421e",
   "metadata": {},
   "outputs": [
    {
     "name": "stdout",
     "output_type": "stream",
     "text": [
      "83.5 ms ± 584 µs per loop (mean ± std. dev. of 7 runs, 10 loops each)\n"
     ]
    }
   ],
   "source": [
    "%timeit integrate_f4(f4, -10, 10, 1_000_000)"
   ]
  },
  {
   "cell_type": "markdown",
   "id": "4c1067ec-c4e3-4834-baba-d5233683001d",
   "metadata": {},
   "source": [
    "### 5. Especialización de funciones"
   ]
  },
  {
   "cell_type": "code",
   "execution_count": 13,
   "id": "251a2b86-cd9e-40f8-8adb-62d59301e065",
   "metadata": {},
   "outputs": [],
   "source": [
    "%%cython\n",
    "\n",
    "cdef double f5(double x):\n",
    "    return x**4-3*x\n",
    "\n",
    "def integrate_f5(double a, double b, int n):\n",
    "    cdef:\n",
    "        double dx = (b-a)/n\n",
    "        double s = 0.0\n",
    "        int i\n",
    "\n",
    "    for i in range(n):\n",
    "        s += f5(a+(i+0.5)*dx)*dx\n",
    "    return s"
   ]
  },
  {
   "cell_type": "code",
   "execution_count": 14,
   "id": "25ce81bd-6ec0-425d-8ab0-9d7614fa2a6c",
   "metadata": {},
   "outputs": [
    {
     "name": "stdout",
     "output_type": "stream",
     "text": [
      "28.7 ms ± 167 µs per loop (mean ± std. dev. of 7 runs, 10 loops each)\n"
     ]
    }
   ],
   "source": [
    "%timeit integrate_f5(-10, 10, 1_000_000)"
   ]
  },
  {
   "cell_type": "markdown",
   "id": "97ade051-0464-4d1c-904d-12e64d4f2831",
   "metadata": {},
   "source": [
    "### 6. Reescritura de operaciones"
   ]
  },
  {
   "cell_type": "code",
   "execution_count": 15,
   "id": "77fa4894-8b8c-4439-8ad8-d41f7910289b",
   "metadata": {},
   "outputs": [],
   "source": [
    "%%cython\n",
    "\n",
    "cdef double f6(double x):\n",
    "    return (x*x*x-3)*x\n",
    "\n",
    "def integrate_f6(double a, double b, int n):\n",
    "    cdef:\n",
    "        double dx = (b-a)/n\n",
    "        double s = 0.0\n",
    "        int i\n",
    "\n",
    "    for i in range(n):\n",
    "        s += f6(a+(i+0.5)*dx)*dx\n",
    "    return s"
   ]
  },
  {
   "cell_type": "code",
   "execution_count": 16,
   "id": "14f5ed17-dc92-4585-802f-b739971c62fa",
   "metadata": {},
   "outputs": [
    {
     "name": "stdout",
     "output_type": "stream",
     "text": [
      "1.45 ms ± 8.68 µs per loop (mean ± std. dev. of 7 runs, 1,000 loops each)\n"
     ]
    }
   ],
   "source": [
    "%timeit integrate_f6(-10, 10, 1_000_000)"
   ]
  },
  {
   "cell_type": "markdown",
   "id": "22e98e02-53d3-45d8-b5c2-0cee1eb7a704",
   "metadata": {},
   "source": [
    "| Estrategia |Tiempo |\n",
    "|----------|----------|\n",
    "| Python puro          | 290 ms   | \n",
    "| Compilando Python    | 229 ms   | \n",
    "| Especialización de variables | 136 ms   | \n",
    "| Variables internas   | 83.5 ms |\n",
    "| Especialización de funciones | 28.7 |\n",
    "| Reescritura de operaciones   | 1.45 ms |   "
   ]
  },
  {
   "cell_type": "code",
   "execution_count": null,
   "id": "2c203b24-a76a-43ec-acf6-5587930ff312",
   "metadata": {},
   "outputs": [],
   "source": []
  }
 ],
 "metadata": {
  "kernelspec": {
   "display_name": "Python 3 (ipykernel)",
   "language": "python",
   "name": "python3"
  },
  "language_info": {
   "codemirror_mode": {
    "name": "ipython",
    "version": 3
   },
   "file_extension": ".py",
   "mimetype": "text/x-python",
   "name": "python",
   "nbconvert_exporter": "python",
   "pygments_lexer": "ipython3",
   "version": "3.11.6"
  }
 },
 "nbformat": 4,
 "nbformat_minor": 5
}
