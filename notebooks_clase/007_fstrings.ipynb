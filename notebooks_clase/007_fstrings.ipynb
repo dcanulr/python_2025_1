{
 "cells": [
  {
   "cell_type": "markdown",
   "id": "dc90ac2f-8297-4081-8cb1-b2d4eb2b4ece",
   "metadata": {},
   "source": [
    "## Al estilo de la vieja escuela"
   ]
  },
  {
   "cell_type": "markdown",
   "id": "0c348417-85f7-4b17-943c-27a1e3e7710c",
   "metadata": {},
   "source": [
    "### 1. Concatenación"
   ]
  },
  {
   "cell_type": "code",
   "execution_count": null,
   "id": "6c1653e8-da84-4e78-996d-2478aac0013e",
   "metadata": {},
   "outputs": [],
   "source": []
  },
  {
   "cell_type": "markdown",
   "id": "ef7e16b3-9189-471c-96b4-5d4316210def",
   "metadata": {},
   "source": [
    "### 2. El operador % "
   ]
  },
  {
   "cell_type": "code",
   "execution_count": null,
   "id": "7aae5d2f-635a-492a-89a3-7c1aded44435",
   "metadata": {},
   "outputs": [],
   "source": []
  },
  {
   "cell_type": "markdown",
   "id": "91e1ccd7-1ba5-4a71-8777-647248ef4821",
   "metadata": {},
   "source": [
    "### 3. El método .format"
   ]
  },
  {
   "cell_type": "code",
   "execution_count": null,
   "id": "aa6feed3-cf34-45a9-b340-3b4143a7c05f",
   "metadata": {},
   "outputs": [],
   "source": []
  },
  {
   "cell_type": "markdown",
   "id": "6b91f31c-0861-471e-a2a2-4a484918f3b2",
   "metadata": {},
   "source": [
    "## El estilo más pythonico: f-strings"
   ]
  },
  {
   "cell_type": "code",
   "execution_count": null,
   "id": "5cb804b8-3733-417d-abe2-45cf8c421b77",
   "metadata": {},
   "outputs": [],
   "source": []
  },
  {
   "cell_type": "code",
   "execution_count": null,
   "id": "c1af4e55-3f2d-4b09-b189-11ad6e37bac4",
   "metadata": {},
   "outputs": [],
   "source": []
  },
  {
   "cell_type": "code",
   "execution_count": null,
   "id": "7cade270-ff2e-4d15-a1bc-3774c4c10831",
   "metadata": {},
   "outputs": [],
   "source": []
  },
  {
   "cell_type": "code",
   "execution_count": null,
   "id": "7e6109f9-339b-439b-b0ef-8a0129784396",
   "metadata": {},
   "outputs": [],
   "source": []
  },
  {
   "cell_type": "code",
   "execution_count": null,
   "id": "f91b9315-5bc5-479a-9ccf-9f7ca7493c9a",
   "metadata": {},
   "outputs": [],
   "source": []
  },
  {
   "cell_type": "code",
   "execution_count": null,
   "id": "6de20f41-45e2-4396-8636-caaa3634776b",
   "metadata": {},
   "outputs": [],
   "source": []
  },
  {
   "cell_type": "markdown",
   "id": "5e67b079-699e-49c4-9b51-d033cd27cf65",
   "metadata": {},
   "source": [
    "### E1: \n",
    "Dado un día, mes y año como variables enteras, crea una f-string que imprima la fecha en el formato dd/mm/aaaa, asegurándote de que el día y el mes siempre tengan dos dígitos."
   ]
  },
  {
   "cell_type": "code",
   "execution_count": 71,
   "id": "7a24ab47-74c7-42c0-88c2-a2335bb3f278",
   "metadata": {},
   "outputs": [],
   "source": [
    "dia = 20\n",
    "mes = 8\n",
    "año = 2024\n",
    "\n",
    "# Resultado esperado: La fecha de hoy es 20/08/2024"
   ]
  },
  {
   "cell_type": "code",
   "execution_count": null,
   "id": "638d7785-4555-477a-90ab-7e7ebb525c95",
   "metadata": {},
   "outputs": [],
   "source": []
  },
  {
   "cell_type": "code",
   "execution_count": null,
   "id": "5fae0533-024d-4285-81f0-a91a37ab560b",
   "metadata": {},
   "outputs": [],
   "source": []
  },
  {
   "cell_type": "markdown",
   "id": "720fd34b-eeff-464c-9b2c-4e4dc720950d",
   "metadata": {},
   "source": [
    "### E2:\n",
    "Dada una lista de productos con sus precios, utiliza una f-string para imprimir cada producto con su precio, formateado a dos decimales."
   ]
  },
  {
   "cell_type": "code",
   "execution_count": 73,
   "id": "f1ef6636-2d26-4dd5-a025-f2f02808a5b6",
   "metadata": {},
   "outputs": [],
   "source": [
    "productos = [(\"Manzanas\", 1.5), (\"Naranjas\", 2.75), (\"Plátanos\", 0.99)]\n",
    "\n",
    "# Resultado esperado:\n",
    "# Manzanas:     1.50\n",
    "# Naranjas:     2.75\n",
    "# Plátanos:     0.99"
   ]
  },
  {
   "cell_type": "code",
   "execution_count": null,
   "id": "298ac053-6b36-4662-a95f-4a024c43d65f",
   "metadata": {},
   "outputs": [],
   "source": []
  },
  {
   "cell_type": "code",
   "execution_count": null,
   "id": "369d9743-b784-4a77-9231-7531a07a7e7e",
   "metadata": {},
   "outputs": [],
   "source": []
  },
  {
   "cell_type": "markdown",
   "id": "fbe7f746-965c-4f7a-bb28-6c0a68aa3b4d",
   "metadata": {},
   "source": [
    "#### E3:\n",
    "Dada una lista de días y un diccionario que contiene temperaturas máximas y mínimas registradas cada día, crea un reporte que muestre la temperatura promedio para cada día."
   ]
  },
  {
   "cell_type": "code",
   "execution_count": 76,
   "id": "ae83c53e-0f58-4267-9248-278e02f31189",
   "metadata": {},
   "outputs": [],
   "source": [
    "dias = [\"Lunes\", \"Martes\", \"Miércoles\"]\n",
    "temperaturas = {\n",
    "    \"maximas\": [30, 28, 27],\n",
    "    \"minimas\": [20, 18, 17]\n",
    "}\n",
    "\n",
    "# Resultado esperado:\n",
    "# Lunes: Temperatura promedio: 25.0°C\n",
    "# Martes: Temperatura promedio: 23.0°C\n",
    "# Miércoles: Temperatura promedio: 22.0°C"
   ]
  },
  {
   "cell_type": "code",
   "execution_count": null,
   "id": "9eeb522b-9f90-487f-9b55-1513415c1091",
   "metadata": {},
   "outputs": [],
   "source": []
  },
  {
   "cell_type": "code",
   "execution_count": null,
   "id": "5c9ac6eb-491d-4bf3-b2e7-8ce477dbff0a",
   "metadata": {},
   "outputs": [],
   "source": []
  }
 ],
 "metadata": {
  "kernelspec": {
   "display_name": "Python 3 (ipykernel)",
   "language": "python",
   "name": "python3"
  },
  "language_info": {
   "codemirror_mode": {
    "name": "ipython",
    "version": 3
   },
   "file_extension": ".py",
   "mimetype": "text/x-python",
   "name": "python",
   "nbconvert_exporter": "python",
   "pygments_lexer": "ipython3",
   "version": "3.11.6"
  }
 },
 "nbformat": 4,
 "nbformat_minor": 5
}
