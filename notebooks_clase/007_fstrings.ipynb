{
 "cells": [
  {
   "cell_type": "markdown",
   "id": "dc90ac2f-8297-4081-8cb1-b2d4eb2b4ece",
   "metadata": {},
   "source": [
    "## Al estilo de la vieja escuela"
   ]
  },
  {
   "cell_type": "markdown",
   "id": "0c348417-85f7-4b17-943c-27a1e3e7710c",
   "metadata": {},
   "source": [
    "### 1. Concatenación"
   ]
  },
  {
   "cell_type": "code",
   "execution_count": 1,
   "id": "6c1653e8-da84-4e78-996d-2478aac0013e",
   "metadata": {},
   "outputs": [],
   "source": [
    "uno = \"Hola\"\n",
    "dos = \"Mundo\""
   ]
  },
  {
   "cell_type": "code",
   "execution_count": 3,
   "id": "88e52045-59f5-445f-841d-272813d6f739",
   "metadata": {},
   "outputs": [
    {
     "data": {
      "text/plain": [
       "'HolaMundo'"
      ]
     },
     "execution_count": 3,
     "metadata": {},
     "output_type": "execute_result"
    }
   ],
   "source": [
    "uno + dos"
   ]
  },
  {
   "cell_type": "code",
   "execution_count": 4,
   "id": "ec93d7c7-ba47-40e4-abf0-9e8e97919e52",
   "metadata": {},
   "outputs": [
    {
     "data": {
      "text/plain": [
       "'Hola Mundo'"
      ]
     },
     "execution_count": 4,
     "metadata": {},
     "output_type": "execute_result"
    }
   ],
   "source": [
    "uno + \" \" + dos"
   ]
  },
  {
   "cell_type": "code",
   "execution_count": 5,
   "id": "27a2e4cf-fa2a-4836-b877-ec485aede93e",
   "metadata": {},
   "outputs": [],
   "source": [
    "nombre = \"Diego\"\n",
    "edad = 28"
   ]
  },
  {
   "cell_type": "code",
   "execution_count": 6,
   "id": "1c65d091-c953-4853-b6fb-91855808d8ba",
   "metadata": {},
   "outputs": [
    {
     "ename": "TypeError",
     "evalue": "can only concatenate str (not \"int\") to str",
     "output_type": "error",
     "traceback": [
      "\u001b[1;31m---------------------------------------------------------------------------\u001b[0m",
      "\u001b[1;31mTypeError\u001b[0m                                 Traceback (most recent call last)",
      "Cell \u001b[1;32mIn[6], line 1\u001b[0m\n\u001b[1;32m----> 1\u001b[0m \u001b[38;5;124;43m\"\u001b[39;49m\u001b[38;5;124;43mHola mi nombre es \u001b[39;49m\u001b[38;5;124;43m\"\u001b[39;49m\u001b[43m \u001b[49m\u001b[38;5;241;43m+\u001b[39;49m\u001b[43m \u001b[49m\u001b[43mnombre\u001b[49m\u001b[43m \u001b[49m\u001b[38;5;241;43m+\u001b[39;49m\u001b[43m \u001b[49m\u001b[38;5;124;43m\"\u001b[39;49m\u001b[38;5;124;43my tengo\u001b[39;49m\u001b[38;5;124;43m\"\u001b[39;49m\u001b[43m \u001b[49m\u001b[38;5;241;43m+\u001b[39;49m\u001b[43m \u001b[49m\u001b[43medad\u001b[49m \u001b[38;5;241m+\u001b[39m \u001b[38;5;124m\"\u001b[39m\u001b[38;5;124maños\u001b[39m\u001b[38;5;124m\"\u001b[39m\n",
      "\u001b[1;31mTypeError\u001b[0m: can only concatenate str (not \"int\") to str"
     ]
    }
   ],
   "source": [
    "\"Hola mi nombre es \" + nombre + \"y tengo\" + edad + \"años\""
   ]
  },
  {
   "cell_type": "code",
   "execution_count": 8,
   "id": "cf41abcb-23bd-4cd0-bd5f-d7d0af3eee44",
   "metadata": {},
   "outputs": [
    {
     "data": {
      "text/plain": [
       "'Hola mi nombre es Diegoy tengo 28 años'"
      ]
     },
     "execution_count": 8,
     "metadata": {},
     "output_type": "execute_result"
    }
   ],
   "source": [
    "\"Hola mi nombre es \" + nombre + \"y tengo \" + str(edad) + \" años\""
   ]
  },
  {
   "cell_type": "code",
   "execution_count": 10,
   "id": "1cda8de2-7cdd-469a-8a6f-c6e5109fd161",
   "metadata": {},
   "outputs": [
    {
     "data": {
      "text/plain": [
       "'Hola mi nombre es Diegoy tengo 28 años. Este año cumplo 29años.'"
      ]
     },
     "execution_count": 10,
     "metadata": {},
     "output_type": "execute_result"
    }
   ],
   "source": [
    "\"Hola mi nombre es \" + nombre + \"y tengo \" + str(edad) + \" años. Este año cumplo \" + str(edad+1) + \"años.\" "
   ]
  },
  {
   "cell_type": "markdown",
   "id": "673e14a9-aaef-492b-a10f-ae6a93463fc7",
   "metadata": {},
   "source": [
    "**Limitaciones:**\n",
    "- Poca legibilidad, especialmente con muchas variables (falta de narrativa).\n",
    "- Necesidad de convertir tipos no string (int, float, etc.) manualmente usando str()."
   ]
  },
  {
   "cell_type": "code",
   "execution_count": null,
   "id": "47385e6a-6b2d-4313-bf62-029cd2cb20a5",
   "metadata": {},
   "outputs": [],
   "source": []
  },
  {
   "cell_type": "markdown",
   "id": "ef7e16b3-9189-471c-96b4-5d4316210def",
   "metadata": {},
   "source": [
    "### 2. El operador % "
   ]
  },
  {
   "cell_type": "code",
   "execution_count": 11,
   "id": "7aae5d2f-635a-492a-89a3-7c1aded44435",
   "metadata": {},
   "outputs": [],
   "source": [
    "nombre = \"Diego\"\n",
    "edad = 28"
   ]
  },
  {
   "cell_type": "code",
   "execution_count": 12,
   "id": "b7de8f1a-d7d4-4ee6-aad6-a97678cdbad1",
   "metadata": {},
   "outputs": [
    {
     "data": {
      "text/plain": [
       "'Hola mi nombre es Diego y tengo 28.000000 años'"
      ]
     },
     "execution_count": 12,
     "metadata": {},
     "output_type": "execute_result"
    }
   ],
   "source": [
    "\"Hola mi nombre es %s y tengo %f años\"%(nombre, edad)"
   ]
  },
  {
   "cell_type": "code",
   "execution_count": 13,
   "id": "9f3d967b-f537-470e-8b27-eb607f07f1bc",
   "metadata": {},
   "outputs": [
    {
     "data": {
      "text/plain": [
       "'Hola mi nombre es Diego y tengo 28 años'"
      ]
     },
     "execution_count": 13,
     "metadata": {},
     "output_type": "execute_result"
    }
   ],
   "source": [
    "\"Hola mi nombre es %s y tengo %d años\"%(nombre, edad)"
   ]
  },
  {
   "cell_type": "code",
   "execution_count": 14,
   "id": "b6e26ed6-3ed3-4242-aff5-c683291324fd",
   "metadata": {},
   "outputs": [
    {
     "data": {
      "text/plain": [
       "'Hola mi nombre es Diego y tengo 28 años, este año cumplo 29'"
      ]
     },
     "execution_count": 14,
     "metadata": {},
     "output_type": "execute_result"
    }
   ],
   "source": [
    "\"Hola mi nombre es %s y tengo %d años, este año cumplo %d\"%(nombre, edad, edad+1)"
   ]
  },
  {
   "cell_type": "markdown",
   "id": "53ee4627-c6e2-4710-9b17-af3c83791890",
   "metadata": {},
   "source": [
    "**Ventajas:**\n",
    "- Más limpio que la concatenación simple.\n",
    "\n",
    "**Limitaciones:**\n",
    "- Dificultad para formatear correctamente números y otros tipos de datos.\n",
    "- Poco intuitivo y difícil de mantener en strings complejas."
   ]
  },
  {
   "cell_type": "markdown",
   "id": "91e1ccd7-1ba5-4a71-8777-647248ef4821",
   "metadata": {},
   "source": [
    "### 3. El método .format"
   ]
  },
  {
   "cell_type": "code",
   "execution_count": 15,
   "id": "f3f511a5-aad1-4707-a35c-f6ab04d9f696",
   "metadata": {},
   "outputs": [],
   "source": [
    "nombre = \"Diego\"\n",
    "edad = 28"
   ]
  },
  {
   "cell_type": "code",
   "execution_count": 17,
   "id": "08578d2e-9e33-48c5-aea6-2e0b6066a2ca",
   "metadata": {},
   "outputs": [
    {
     "data": {
      "text/plain": [
       "'Hola mi nombre es Diego y tengo 28'"
      ]
     },
     "execution_count": 17,
     "metadata": {},
     "output_type": "execute_result"
    }
   ],
   "source": [
    "\"Hola mi nombre es {} y tengo {}\".format(nombre, edad, edad+1)"
   ]
  },
  {
   "cell_type": "code",
   "execution_count": null,
   "id": "7f644dfd-562a-4eac-b267-512412c31877",
   "metadata": {},
   "outputs": [],
   "source": [
    "\"Hola mi nombre es {} y tengo {}\".format(nombre, edad, edad+1)"
   ]
  },
  {
   "cell_type": "code",
   "execution_count": 18,
   "id": "971450dc-5949-454d-bb8e-adc3ea43f828",
   "metadata": {},
   "outputs": [
    {
     "data": {
      "text/plain": [
       "'Hola mi nombre es Diego y tengo 29'"
      ]
     },
     "execution_count": 18,
     "metadata": {},
     "output_type": "execute_result"
    }
   ],
   "source": [
    "\"Hola mi nombre es {0} y tengo {2}\".format(nombre, edad, edad+1)"
   ]
  },
  {
   "cell_type": "code",
   "execution_count": 19,
   "id": "3085dd60-c3ac-4f2a-98ff-d539363b8dbb",
   "metadata": {},
   "outputs": [
    {
     "data": {
      "text/plain": [
       "'Hola mi nombre es 29 y tengo Diego'"
      ]
     },
     "execution_count": 19,
     "metadata": {},
     "output_type": "execute_result"
    }
   ],
   "source": [
    "\"Hola mi nombre es {2} y tengo {0}\".format(nombre, edad, edad+1)"
   ]
  },
  {
   "cell_type": "code",
   "execution_count": 20,
   "id": "5417c527-2922-4af3-8c7e-3d02e94334bf",
   "metadata": {},
   "outputs": [
    {
     "data": {
      "text/plain": [
       "'Hola mi nombre es Yuri y tengo 42'"
      ]
     },
     "execution_count": 20,
     "metadata": {},
     "output_type": "execute_result"
    }
   ],
   "source": [
    "\"Hola mi nombre es {nombre} y tengo {edad}\".format(nombre=\"Yuri\", edad=42)"
   ]
  },
  {
   "cell_type": "markdown",
   "id": "e6d83b64-5f4a-44cf-b0e5-48be6fe47fd7",
   "metadata": {},
   "source": [
    "**Ventajas:**\n",
    "- Más legible y flexible que las opciones anteriores.\n",
    "\n",
    "**Limitaciones:**\n",
    "- Puede ser verboso y repetitivo, especialmente cuando hay muchas variables o formateo complejo."
   ]
  },
  {
   "cell_type": "code",
   "execution_count": null,
   "id": "aa6feed3-cf34-45a9-b340-3b4143a7c05f",
   "metadata": {},
   "outputs": [],
   "source": []
  },
  {
   "cell_type": "markdown",
   "id": "6b91f31c-0861-471e-a2a2-4a484918f3b2",
   "metadata": {},
   "source": [
    "## El estilo más pythonico: f-strings"
   ]
  },
  {
   "cell_type": "code",
   "execution_count": 22,
   "id": "5cb804b8-3733-417d-abe2-45cf8c421b77",
   "metadata": {},
   "outputs": [],
   "source": [
    "nombre = \"diego canul\"\n",
    "edad = 28"
   ]
  },
  {
   "cell_type": "code",
   "execution_count": 24,
   "id": "c1af4e55-3f2d-4b09-b189-11ad6e37bac4",
   "metadata": {},
   "outputs": [
    {
     "data": {
      "text/plain": [
       "'Hola mi nombre es {nombre} y tengo {edad} años'"
      ]
     },
     "execution_count": 24,
     "metadata": {},
     "output_type": "execute_result"
    }
   ],
   "source": [
    "\"Hola mi nombre es {nombre} y tengo {edad} años\""
   ]
  },
  {
   "cell_type": "code",
   "execution_count": 25,
   "id": "7cade270-ff2e-4d15-a1bc-3774c4c10831",
   "metadata": {},
   "outputs": [
    {
     "data": {
      "text/plain": [
       "'Hola mi nombre es diego canul y tengo 28 años'"
      ]
     },
     "execution_count": 25,
     "metadata": {},
     "output_type": "execute_result"
    }
   ],
   "source": [
    "f\"Hola mi nombre es {nombre} y tengo {edad} años\""
   ]
  },
  {
   "cell_type": "code",
   "execution_count": 27,
   "id": "7e6109f9-339b-439b-b0ef-8a0129784396",
   "metadata": {},
   "outputs": [
    {
     "data": {
      "text/plain": [
       "'Hola mi nombre es Diego canul y tengo 28 años'"
      ]
     },
     "execution_count": 27,
     "metadata": {},
     "output_type": "execute_result"
    }
   ],
   "source": [
    "f\"Hola mi nombre es {nombre.capitalize()} y tengo {edad} años\""
   ]
  },
  {
   "cell_type": "code",
   "execution_count": 28,
   "id": "f91b9315-5bc5-479a-9ccf-9f7ca7493c9a",
   "metadata": {},
   "outputs": [
    {
     "data": {
      "text/plain": [
       "'Hola mi nombre es DIEGO CANUL y tengo 28 años'"
      ]
     },
     "execution_count": 28,
     "metadata": {},
     "output_type": "execute_result"
    }
   ],
   "source": [
    "f\"Hola mi nombre es {nombre.upper()} y tengo {edad} años\""
   ]
  },
  {
   "cell_type": "code",
   "execution_count": 29,
   "id": "6de20f41-45e2-4396-8636-caaa3634776b",
   "metadata": {},
   "outputs": [
    {
     "data": {
      "text/plain": [
       "'Hola mi nombre es Diego Canul y tengo 28 años'"
      ]
     },
     "execution_count": 29,
     "metadata": {},
     "output_type": "execute_result"
    }
   ],
   "source": [
    "f\"Hola mi nombre es {nombre.title()} y tengo {edad} años\""
   ]
  },
  {
   "cell_type": "code",
   "execution_count": 31,
   "id": "076c9520-7b94-4e89-b350-bf36d1f28dc7",
   "metadata": {},
   "outputs": [
    {
     "data": {
      "text/plain": [
       "'Hola mi nombre es Diego y tengo 28 años'"
      ]
     },
     "execution_count": 31,
     "metadata": {},
     "output_type": "execute_result"
    }
   ],
   "source": [
    "f\"Hola mi nombre es {nombre.title()[0:5]} y tengo {edad} años\""
   ]
  },
  {
   "cell_type": "code",
   "execution_count": 32,
   "id": "f9813b23-4e57-4940-9156-482c2989f9e2",
   "metadata": {},
   "outputs": [
    {
     "data": {
      "text/plain": [
       "'Hola mi nombre es Diego y tengo 28 años'"
      ]
     },
     "execution_count": 32,
     "metadata": {},
     "output_type": "execute_result"
    }
   ],
   "source": [
    "f\"Hola mi nombre es {nombre.title()[:-6]} y tengo {edad} años\""
   ]
  },
  {
   "cell_type": "code",
   "execution_count": null,
   "id": "a4416a4f-407f-4cce-b98f-14e59217219f",
   "metadata": {},
   "outputs": [],
   "source": []
  },
  {
   "cell_type": "code",
   "execution_count": 33,
   "id": "bc34f5d1-6e29-4db2-950d-345c375732b1",
   "metadata": {},
   "outputs": [
    {
     "data": {
      "text/plain": [
       "'Dentro de 5 años tendre 33'"
      ]
     },
     "execution_count": 33,
     "metadata": {},
     "output_type": "execute_result"
    }
   ],
   "source": [
    "f\"Dentro de 5 años tendre {edad+5}\""
   ]
  },
  {
   "cell_type": "code",
   "execution_count": 34,
   "id": "ff31b678-1af6-4930-a147-8767cd892f7c",
   "metadata": {},
   "outputs": [],
   "source": [
    "pi = 3.14159265"
   ]
  },
  {
   "cell_type": "code",
   "execution_count": null,
   "id": "29a5e1f2-dcb9-4325-855f-916d359bd3a8",
   "metadata": {},
   "outputs": [],
   "source": []
  },
  {
   "cell_type": "code",
   "execution_count": 43,
   "id": "97c51544-71c5-460b-9fb8-59c52014de8e",
   "metadata": {},
   "outputs": [],
   "source": [
    "numero = 7"
   ]
  },
  {
   "cell_type": "code",
   "execution_count": 44,
   "id": "43218742-a561-4530-ab75-99f4caecff5b",
   "metadata": {},
   "outputs": [
    {
     "data": {
      "text/plain": [
       "'Estamos en la libreta 007'"
      ]
     },
     "execution_count": 44,
     "metadata": {},
     "output_type": "execute_result"
    }
   ],
   "source": [
    "f\"Estamos en la libreta {numero:03d}\""
   ]
  },
  {
   "cell_type": "code",
   "execution_count": 50,
   "id": "cbe3216a-984c-4884-9001-331e1c26fd0e",
   "metadata": {},
   "outputs": [],
   "source": [
    "numero=23.5"
   ]
  },
  {
   "cell_type": "code",
   "execution_count": 52,
   "id": "f3fe9bae-0421-4916-9de2-207f87c01cac",
   "metadata": {},
   "outputs": [
    {
     "data": {
      "text/plain": [
       "'Estamos en la libreta 23.500'"
      ]
     },
     "execution_count": 52,
     "metadata": {},
     "output_type": "execute_result"
    }
   ],
   "source": [
    "f\"Estamos en la libreta {numero:.3f}\""
   ]
  },
  {
   "cell_type": "code",
   "execution_count": null,
   "id": "8563f7ce-2463-4a0d-94c7-a5cff598fbd7",
   "metadata": {},
   "outputs": [],
   "source": []
  },
  {
   "cell_type": "markdown",
   "id": "5e67b079-699e-49c4-9b51-d033cd27cf65",
   "metadata": {},
   "source": [
    "### E1: \n",
    "Dado un día, mes y año como variables enteras, crea una f-string que imprima la fecha en el formato dd/mm/aaaa, asegurándote de que el día y el mes siempre tengan dos dígitos."
   ]
  },
  {
   "cell_type": "code",
   "execution_count": 58,
   "id": "7a24ab47-74c7-42c0-88c2-a2335bb3f278",
   "metadata": {},
   "outputs": [],
   "source": [
    "dia = 1\n",
    "mes = 8\n",
    "año = 2024\n",
    "\n",
    "# Resultado esperado: La fecha de hoy es 20/08/2024"
   ]
  },
  {
   "cell_type": "code",
   "execution_count": 60,
   "id": "638d7785-4555-477a-90ab-7e7ebb525c95",
   "metadata": {},
   "outputs": [
    {
     "data": {
      "text/plain": [
       "'La fecha de hoy es 01/08/24'"
      ]
     },
     "execution_count": 60,
     "metadata": {},
     "output_type": "execute_result"
    }
   ],
   "source": [
    "f\"La fecha de hoy es {dia:02d}/{mes:02d}/{str(año)[-2:]}\""
   ]
  },
  {
   "cell_type": "code",
   "execution_count": 61,
   "id": "5fae0533-024d-4285-81f0-a91a37ab560b",
   "metadata": {},
   "outputs": [
    {
     "ename": "TypeError",
     "evalue": "'int' object is not subscriptable",
     "output_type": "error",
     "traceback": [
      "\u001b[1;31m---------------------------------------------------------------------------\u001b[0m",
      "\u001b[1;31mTypeError\u001b[0m                                 Traceback (most recent call last)",
      "Cell \u001b[1;32mIn[61], line 1\u001b[0m\n\u001b[1;32m----> 1\u001b[0m \u001b[43maño\u001b[49m\u001b[43m[\u001b[49m\u001b[38;5;241;43m-\u001b[39;49m\u001b[38;5;241;43m2\u001b[39;49m\u001b[43m:\u001b[49m\u001b[43m]\u001b[49m\n",
      "\u001b[1;31mTypeError\u001b[0m: 'int' object is not subscriptable"
     ]
    }
   ],
   "source": [
    "año[-2:]"
   ]
  },
  {
   "cell_type": "markdown",
   "id": "720fd34b-eeff-464c-9b2c-4e4dc720950d",
   "metadata": {},
   "source": [
    "### E2:\n",
    "Dada una lista de productos con sus precios, utiliza una f-string para imprimir cada producto con su precio, formateado a dos decimales."
   ]
  },
  {
   "cell_type": "code",
   "execution_count": 62,
   "id": "f1ef6636-2d26-4dd5-a025-f2f02808a5b6",
   "metadata": {},
   "outputs": [],
   "source": [
    "productos = [(\"Manzanas\", 1.5), (\"Naranjas\", 2.75), (\"Plátanos\", 0.99)]\n",
    "\n",
    "# Resultado esperado:\n",
    "# Manzanas:     1.50\n",
    "# Naranjas:     2.75\n",
    "# Plátanos:     0.99"
   ]
  },
  {
   "cell_type": "code",
   "execution_count": 64,
   "id": "298ac053-6b36-4662-a95f-4a024c43d65f",
   "metadata": {},
   "outputs": [
    {
     "name": "stdout",
     "output_type": "stream",
     "text": [
      "Manzanas 1.5\n",
      "Naranjas 2.75\n",
      "Plátanos 0.99\n"
     ]
    }
   ],
   "source": [
    "for elemento in productos:\n",
    "    print(elemento[0], elemento[1])"
   ]
  },
  {
   "cell_type": "code",
   "execution_count": 67,
   "id": "369d9743-b784-4a77-9231-7531a07a7e7e",
   "metadata": {},
   "outputs": [
    {
     "name": "stdout",
     "output_type": "stream",
     "text": [
      "Manzanas: 1.50\n",
      "Naranjas: 2.75\n",
      "Plátanos: 0.99\n"
     ]
    }
   ],
   "source": [
    "for producto, precio in productos:\n",
    "    print(f\"{producto}: {precio:.2f}\")"
   ]
  },
  {
   "cell_type": "markdown",
   "id": "fbe7f746-965c-4f7a-bb28-6c0a68aa3b4d",
   "metadata": {},
   "source": [
    "#### E3:\n",
    "Dada una lista de días y un diccionario que contiene temperaturas máximas y mínimas registradas cada día, crea un reporte que muestre la temperatura promedio para cada día."
   ]
  },
  {
   "cell_type": "code",
   "execution_count": 68,
   "id": "ae83c53e-0f58-4267-9248-278e02f31189",
   "metadata": {},
   "outputs": [],
   "source": [
    "dias = [\"Lunes\", \"Martes\", \"Miércoles\"]\n",
    "temperaturas = {\n",
    "    \"maximas\": [30, 28, 27],\n",
    "    \"minimas\": [20, 18, 17]\n",
    "}\n",
    "\n",
    "# Resultado esperado:\n",
    "# Lunes: Temperatura promedio: 25.0°C\n",
    "# Martes: Temperatura promedio: 23.0°C\n",
    "# Miércoles: Temperatura promedio: 22.0°C"
   ]
  },
  {
   "cell_type": "code",
   "execution_count": 71,
   "id": "9eeb522b-9f90-487f-9b55-1513415c1091",
   "metadata": {},
   "outputs": [
    {
     "name": "stdout",
     "output_type": "stream",
     "text": [
      "Lunes: Temperatura promedio: 25.0°C\n",
      "Martes: Temperatura promedio: 23.0°C\n",
      "Miércoles: Temperatura promedio: 22.0°C\n"
     ]
    }
   ],
   "source": [
    "for pos in range(len(dias)):\n",
    "    dia = dias[pos]\n",
    "    t_max = temperaturas[\"maximas\"][pos]\n",
    "    t_min = temperaturas[\"minimas\"][pos]\n",
    "    t_mean = (t_max+t_min)/2\n",
    "\n",
    "    print(f\"{dia}: Temperatura promedio: {t_mean:.1f}°C\")"
   ]
  },
  {
   "cell_type": "code",
   "execution_count": 72,
   "id": "5c9ac6eb-491d-4bf3-b2e7-8ce477dbff0a",
   "metadata": {},
   "outputs": [],
   "source": [
    "temperaturas = {\n",
    "    \"maximas\": [30, 28, 27],\n",
    "    \"minimas\": [20, 18, 17]\n",
    "}"
   ]
  },
  {
   "cell_type": "code",
   "execution_count": 74,
   "id": "7d37b92c-2527-4c8d-8085-345353cae964",
   "metadata": {},
   "outputs": [
    {
     "data": {
      "text/plain": [
       "28"
      ]
     },
     "execution_count": 74,
     "metadata": {},
     "output_type": "execute_result"
    }
   ],
   "source": [
    "temperaturas[\"maximas\"][1]"
   ]
  },
  {
   "cell_type": "code",
   "execution_count": null,
   "id": "4501d89f-91e8-4755-a02b-e0891967fb38",
   "metadata": {},
   "outputs": [],
   "source": []
  }
 ],
 "metadata": {
  "kernelspec": {
   "display_name": "Python 3 (ipykernel)",
   "language": "python",
   "name": "python3"
  },
  "language_info": {
   "codemirror_mode": {
    "name": "ipython",
    "version": 3
   },
   "file_extension": ".py",
   "mimetype": "text/x-python",
   "name": "python",
   "nbconvert_exporter": "python",
   "pygments_lexer": "ipython3",
   "version": "3.11.6"
  }
 },
 "nbformat": 4,
 "nbformat_minor": 5
}
